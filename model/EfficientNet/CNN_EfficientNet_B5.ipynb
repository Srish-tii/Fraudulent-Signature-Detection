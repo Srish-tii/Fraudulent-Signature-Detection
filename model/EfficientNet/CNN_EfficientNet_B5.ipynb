{
 "cells": [
  {
   "cell_type": "code",
   "execution_count": 1,
   "id": "e6d671f2",
   "metadata": {},
   "outputs": [
    {
     "name": "stdout",
     "output_type": "stream",
     "text": [
      "Num GPUs Available:  1\n"
     ]
    }
   ],
   "source": [
    "from tensorflow.python.client import device_lib\n",
    "import tensorflow as tf\n",
    "print(\"Num GPUs Available: \", len(tf.config.experimental.list_physical_devices('GPU')))\n",
    "physical_devices = tf.config.list_physical_devices('GPU')\n",
    "#tf.config.experimental.set_memory_growth(physical_devices[0], enable=True)"
   ]
  },
  {
   "cell_type": "code",
   "execution_count": 2,
   "id": "1a8cfd27",
   "metadata": {},
   "outputs": [],
   "source": [
    "import tensorflow as tf\n",
    "import pandas as pd\n",
    "import matplotlib.pyplot as plt\n",
    "import cv2\n",
    "import numpy as np"
   ]
  },
  {
   "cell_type": "code",
   "execution_count": 3,
   "id": "4d616b4e",
   "metadata": {},
   "outputs": [],
   "source": [
    "from tensorflow import keras\n",
    "from tensorflow.keras import layers, models, metrics\n",
    "from tensorflow.keras.models import Sequential, load_model\n",
    "from tensorflow.keras.callbacks import ModelCheckpoint\n",
    "from tensorflow.keras import optimizers\n",
    "from tensorflow.keras.optimizers import SGD\n",
    "from tensorflow.keras.applications import *\n",
    "from tensorflow.keras.layers import BatchNormalization, Conv2D, MaxPooling2D, Flatten, Dense, Input, Dropout, GlobalMaxPooling2D \n",
    "from sklearn.model_selection import train_test_split"
   ]
  },
  {
   "cell_type": "code",
   "execution_count": 4,
   "id": "7b48e64d",
   "metadata": {},
   "outputs": [
    {
     "data": {
      "text/plain": [
       "'D:\\\\projects\\\\Personal\\\\Fraudulent-Signature-Detection\\\\model\\\\EfficientNet'"
      ]
     },
     "execution_count": 4,
     "metadata": {},
     "output_type": "execute_result"
    }
   ],
   "source": [
    "pwd"
   ]
  },
  {
   "cell_type": "code",
   "execution_count": 5,
   "id": "f5a2a7a2",
   "metadata": {},
   "outputs": [],
   "source": [
    "from numpy import save, load\n",
    "X_train=load('../../data/X_train.npy')\n",
    "y_train=load('../../data/y_train.npy')\n",
    "X_test=load('../../data/X_test.npy')\n",
    "y_test=load('../../data/y_test.npy')"
   ]
  },
  {
   "cell_type": "code",
   "execution_count": 6,
   "id": "68953c1b",
   "metadata": {},
   "outputs": [
    {
     "data": {
      "text/plain": [
       "((14644, 256, 512, 3), (14644, 1))"
      ]
     },
     "execution_count": 6,
     "metadata": {},
     "output_type": "execute_result"
    }
   ],
   "source": [
    "X_train.shape,y_train.shape"
   ]
  },
  {
   "cell_type": "code",
   "execution_count": 7,
   "id": "e287f372",
   "metadata": {},
   "outputs": [
    {
     "data": {
      "text/plain": [
       "((3661, 256, 512, 3), (3661, 1))"
      ]
     },
     "execution_count": 7,
     "metadata": {},
     "output_type": "execute_result"
    }
   ],
   "source": [
    "X_test.shape,y_test.shape"
   ]
  },
  {
   "cell_type": "code",
   "execution_count": 8,
   "id": "6868248c",
   "metadata": {},
   "outputs": [],
   "source": [
    "input_shape=(256,512,3)"
   ]
  },
  {
   "cell_type": "code",
   "execution_count": 10,
   "id": "2a19e015",
   "metadata": {},
   "outputs": [
    {
     "name": "stdout",
     "output_type": "stream",
     "text": [
      "Downloading data from https://storage.googleapis.com/keras-applications/efficientnetb5_notop.h5\n",
      "115269632/115263384 [==============================] - 94s 1us/step\n",
      "115277824/115263384 [==============================] - 94s 1us/step\n"
     ]
    }
   ],
   "source": [
    "base_model = keras.applications.EfficientNetB5(\n",
    "    weights=\"imagenet\",  # Load weights pre-trained on ImageNet.\n",
    "    input_shape=(256, 512, 3),\n",
    "    include_top=False,\n",
    ")"
   ]
  },
  {
   "cell_type": "code",
   "execution_count": 11,
   "id": "4d7b9f69",
   "metadata": {},
   "outputs": [],
   "source": [
    "base_model.trainable = False\n"
   ]
  },
  {
   "cell_type": "code",
   "execution_count": 14,
   "id": "eb7b0600",
   "metadata": {},
   "outputs": [],
   "source": [
    "inputs = keras.Input(shape=(256, 512, 3))\n",
    "x=inputs"
   ]
  },
  {
   "cell_type": "code",
   "execution_count": 15,
   "id": "081a6435",
   "metadata": {},
   "outputs": [],
   "source": [
    "x = base_model(x, training=False)\n",
    "x = keras.layers.GlobalAveragePooling2D()(x)\n",
    "x = keras.layers.Dropout(0.3)(x)  # Regularize with dropout\n",
    "outputs = keras.layers.Dense(1)(x)\n",
    "model = keras.Model(inputs, outputs)"
   ]
  },
  {
   "cell_type": "code",
   "execution_count": 16,
   "id": "20bba33d",
   "metadata": {},
   "outputs": [
    {
     "name": "stdout",
     "output_type": "stream",
     "text": [
      "Model: \"model_1\"\n",
      "_________________________________________________________________\n",
      " Layer (type)                Output Shape              Param #   \n",
      "=================================================================\n",
      " input_3 (InputLayer)        [(None, 256, 512, 3)]     0         \n",
      "                                                                 \n",
      " efficientnetb5 (Functional)  (None, 8, 16, 2048)      28513527  \n",
      "                                                                 \n",
      " global_average_pooling2d_1   (None, 2048)             0         \n",
      " (GlobalAveragePooling2D)                                        \n",
      "                                                                 \n",
      " dropout_1 (Dropout)         (None, 2048)              0         \n",
      "                                                                 \n",
      " dense_1 (Dense)             (None, 1)                 2049      \n",
      "                                                                 \n",
      "=================================================================\n",
      "Total params: 28,515,576\n",
      "Trainable params: 2,049\n",
      "Non-trainable params: 28,513,527\n",
      "_________________________________________________________________\n"
     ]
    }
   ],
   "source": [
    "model.summary()"
   ]
  },
  {
   "cell_type": "code",
   "execution_count": 17,
   "id": "042c70ec",
   "metadata": {},
   "outputs": [],
   "source": [
    "model.compile(\n",
    "    optimizer=keras.optimizers.Adam(),\n",
    "    loss=keras.losses.BinaryCrossentropy(from_logits=True),\n",
    "    metrics=[keras.metrics.BinaryAccuracy()],\n",
    ")\n",
    "\n",
    "epochs = 20"
   ]
  },
  {
   "cell_type": "code",
   "execution_count": 18,
   "id": "a41a7a2a",
   "metadata": {},
   "outputs": [
    {
     "name": "stdout",
     "output_type": "stream",
     "text": [
      "Epoch 1/20\n",
      "157/157 [==============================] - 102s 553ms/step - loss: 0.6949 - binary_accuracy: 0.4616 - val_loss: 0.6900 - val_binary_accuracy: 0.4580\n",
      "Epoch 2/20\n",
      "157/157 [==============================] - 103s 656ms/step - loss: 0.6947 - binary_accuracy: 0.4656 - val_loss: 0.7151 - val_binary_accuracy: 0.4580\n",
      "Epoch 3/20\n",
      "157/157 [==============================] - 142s 906ms/step - loss: 0.6932 - binary_accuracy: 0.4606 - val_loss: 0.6868 - val_binary_accuracy: 0.4580\n",
      "Epoch 4/20\n",
      "157/157 [==============================] - 183s 1s/step - loss: 0.6893 - binary_accuracy: 0.4588 - val_loss: 0.6859 - val_binary_accuracy: 0.4580\n",
      "Epoch 5/20\n",
      "157/157 [==============================] - 216s 1s/step - loss: 0.6892 - binary_accuracy: 0.4636 - val_loss: 0.6893 - val_binary_accuracy: 0.4570\n",
      "Epoch 6/20\n",
      "157/157 [==============================] - 249s 2s/step - loss: 0.6910 - binary_accuracy: 0.4656 - val_loss: 0.6871 - val_binary_accuracy: 0.4580\n",
      "Epoch 7/20\n",
      "157/157 [==============================] - 296s 2s/step - loss: 0.6885 - binary_accuracy: 0.4660 - val_loss: 0.6838 - val_binary_accuracy: 0.4580\n",
      "Epoch 8/20\n",
      "157/157 [==============================] - 314s 2s/step - loss: 0.6893 - binary_accuracy: 0.4726 - val_loss: 0.7077 - val_binary_accuracy: 0.5710\n",
      "Epoch 9/20\n",
      "157/157 [==============================] - 222s 1s/step - loss: 0.6896 - binary_accuracy: 0.4714 - val_loss: 0.6900 - val_binary_accuracy: 0.4580\n",
      "Epoch 10/20\n",
      "157/157 [==============================] - 86s 550ms/step - loss: 0.6843 - binary_accuracy: 0.4722 - val_loss: 0.6828 - val_binary_accuracy: 0.4580\n",
      "Epoch 11/20\n",
      "157/157 [==============================] - 81s 518ms/step - loss: 0.6844 - binary_accuracy: 0.4742 - val_loss: 0.6817 - val_binary_accuracy: 0.4580\n",
      "Epoch 12/20\n",
      "157/157 [==============================] - 81s 518ms/step - loss: 0.6865 - binary_accuracy: 0.4870 - val_loss: 0.6940 - val_binary_accuracy: 0.5670\n",
      "Epoch 13/20\n",
      "157/157 [==============================] - 81s 519ms/step - loss: 0.6881 - binary_accuracy: 0.4698 - val_loss: 0.6822 - val_binary_accuracy: 0.4580\n",
      "Epoch 14/20\n",
      "157/157 [==============================] - 81s 519ms/step - loss: 0.6846 - binary_accuracy: 0.4770 - val_loss: 0.6814 - val_binary_accuracy: 0.4580\n",
      "Epoch 15/20\n",
      "157/157 [==============================] - 80s 512ms/step - loss: 0.6841 - binary_accuracy: 0.4844 - val_loss: 0.7078 - val_binary_accuracy: 0.5740\n",
      "Epoch 16/20\n",
      "157/157 [==============================] - 79s 505ms/step - loss: 0.6850 - binary_accuracy: 0.4768 - val_loss: 0.6823 - val_binary_accuracy: 0.4900\n",
      "Epoch 17/20\n",
      "157/157 [==============================] - 79s 501ms/step - loss: 0.6813 - binary_accuracy: 0.4810 - val_loss: 0.6818 - val_binary_accuracy: 0.4580\n",
      "Epoch 18/20\n",
      "157/157 [==============================] - 78s 498ms/step - loss: 0.6836 - binary_accuracy: 0.4806 - val_loss: 0.6790 - val_binary_accuracy: 0.4580\n",
      "Epoch 19/20\n",
      "157/157 [==============================] - 78s 498ms/step - loss: 0.6852 - binary_accuracy: 0.4862 - val_loss: 0.6853 - val_binary_accuracy: 0.4580\n",
      "Epoch 20/20\n",
      "157/157 [==============================] - 78s 500ms/step - loss: 0.6808 - binary_accuracy: 0.4912 - val_loss: 0.6804 - val_binary_accuracy: 0.4580\n"
     ]
    }
   ],
   "source": [
    "history_efficient_net=model.fit(X_train[:5000],y_train[:5000], epochs=epochs, validation_data=(X_test[:1000],y_test[:1000]))"
   ]
  },
  {
   "cell_type": "code",
   "execution_count": 19,
   "id": "387ee5c2",
   "metadata": {},
   "outputs": [
    {
     "name": "stderr",
     "output_type": "stream",
     "text": [
      "D:\\projects\\Jupyter\\gpu-env\\lib\\site-packages\\keras\\engine\\functional.py:1410: CustomMaskWarning: Custom mask layers require a config and must override get_config. When loading, the custom mask layer must be passed to the custom_objects argument.\n",
      "  layer_config = serialize_layer_fn(layer)\n"
     ]
    }
   ],
   "source": [
    "model.save(\"../saved_models/eff_net_base.h5\")"
   ]
  },
  {
   "cell_type": "code",
   "execution_count": null,
   "id": "c9bb0251",
   "metadata": {},
   "outputs": [],
   "source": []
  }
 ],
 "metadata": {
  "kernelspec": {
   "display_name": "Python 3 (ipykernel)",
   "language": "python",
   "name": "python3"
  },
  "language_info": {
   "codemirror_mode": {
    "name": "ipython",
    "version": 3
   },
   "file_extension": ".py",
   "mimetype": "text/x-python",
   "name": "python",
   "nbconvert_exporter": "python",
   "pygments_lexer": "ipython3",
   "version": "3.8.11"
  }
 },
 "nbformat": 4,
 "nbformat_minor": 5
}
