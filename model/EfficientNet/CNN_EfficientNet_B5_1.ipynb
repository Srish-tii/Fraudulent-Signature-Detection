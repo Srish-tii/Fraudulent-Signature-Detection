{
 "cells": [
  {
   "cell_type": "code",
   "execution_count": 1,
   "id": "e6d671f2",
   "metadata": {},
   "outputs": [
    {
     "name": "stdout",
     "output_type": "stream",
     "text": [
      "Num GPUs Available:  1\n"
     ]
    }
   ],
   "source": [
    "from tensorflow.python.client import device_lib\n",
    "#print(device_lib.list_local_devices())\n",
    "\n",
    "import tensorflow as tf\n",
    "print(\"Num GPUs Available: \", len(tf.config.experimental.list_physical_devices('GPU')))\n",
    "physical_devices = tf.config.list_physical_devices('GPU')\n",
    "#tf.config.experimental.set_memory_growth(physical_devices[0], enable=True)"
   ]
  },
  {
   "cell_type": "code",
   "execution_count": 2,
   "id": "1a8cfd27",
   "metadata": {},
   "outputs": [],
   "source": [
    "import tensorflow as tf\n",
    "import pandas as pd\n",
    "import matplotlib.pyplot as plt\n",
    "import cv2\n",
    "import numpy as np"
   ]
  },
  {
   "cell_type": "code",
   "execution_count": 3,
   "id": "4d616b4e",
   "metadata": {},
   "outputs": [],
   "source": [
    "from tensorflow import keras\n",
    "from tensorflow.keras import layers, models, metrics\n",
    "from tensorflow.keras.models import Sequential, load_model\n",
    "from tensorflow.keras.callbacks import ModelCheckpoint\n",
    "from tensorflow.keras import optimizers\n",
    "from tensorflow.keras.optimizers import SGD\n",
    "from tensorflow.keras.applications import *\n",
    "from tensorflow.keras.layers import BatchNormalization, Conv2D, MaxPooling2D, Flatten, Dense, Input, Dropout, GlobalMaxPooling2D \n",
    "from sklearn.model_selection import train_test_split"
   ]
  },
  {
   "cell_type": "code",
   "execution_count": 4,
   "id": "7b48e64d",
   "metadata": {},
   "outputs": [
    {
     "data": {
      "text/plain": [
       "'D:\\\\projects\\\\Personal\\\\Fraudulent-Signature-Detection\\\\model\\\\EfficientNet'"
      ]
     },
     "execution_count": 4,
     "metadata": {},
     "output_type": "execute_result"
    }
   ],
   "source": [
    "pwd"
   ]
  },
  {
   "cell_type": "code",
   "execution_count": 15,
   "id": "f5a2a7a2",
   "metadata": {},
   "outputs": [],
   "source": [
    "from numpy import save, load\n",
    "X_train=load('../../data/X_train.npy')\n",
    "y_train=load('../../data/y_train.npy')\n",
    "X_test=load('../../data/X_test.npy')\n",
    "y_test=load('../../data/y_test.npy')"
   ]
  },
  {
   "cell_type": "code",
   "execution_count": 18,
   "id": "68953c1b",
   "metadata": {},
   "outputs": [
    {
     "data": {
      "text/plain": [
       "((14644, 256, 512, 3), (14644, 1))"
      ]
     },
     "execution_count": 18,
     "metadata": {},
     "output_type": "execute_result"
    }
   ],
   "source": [
    "X_train.shape,y_train.shape"
   ]
  },
  {
   "cell_type": "code",
   "execution_count": 19,
   "id": "e287f372",
   "metadata": {},
   "outputs": [
    {
     "data": {
      "text/plain": [
       "((3661, 256, 512, 3), (3661, 1))"
      ]
     },
     "execution_count": 19,
     "metadata": {},
     "output_type": "execute_result"
    }
   ],
   "source": [
    "X_test.shape,y_test.shape"
   ]
  },
  {
   "cell_type": "code",
   "execution_count": 24,
   "id": "6868248c",
   "metadata": {},
   "outputs": [],
   "source": [
    "input_shape=(256,512,3)"
   ]
  },
  {
   "cell_type": "code",
   "execution_count": 26,
   "id": "ce3f44fb",
   "metadata": {},
   "outputs": [],
   "source": [
    "model=load_model(\"../saved_models/eff_net_base.h5\")\n",
    "model.summary()"
   ]
  },
  {
   "cell_type": "code",
   "execution_count": 38,
   "id": "79065d82",
   "metadata": {},
   "outputs": [],
   "source": [
    "model.compile(\n",
    "    optimizer=keras.optimizers.Adam(),\n",
    "    loss=keras.losses.BinaryCrossentropy(from_logits=True),\n",
    "    metrics=[keras.metrics.BinaryAccuracy()],\n",
    ")\n"
   ]
  },
  {
   "cell_type": "code",
   "execution_count": 39,
   "id": "bda5aa76",
   "metadata": {},
   "outputs": [],
   "source": [
    "epochs1 = 15"
   ]
  },
  {
   "cell_type": "code",
   "execution_count": 40,
   "id": "1aad9085",
   "metadata": {},
   "outputs": [
    {
     "name": "stdout",
     "output_type": "stream",
     "text": [
      "Epoch 1/15\n",
      "1250/1250 [==============================] - 162s 106ms/step - loss: 0.7433 - binary_accuracy: 0.4824 - val_loss: 0.6917 - val_binary_accuracy: 0.4754\n",
      "Epoch 2/15\n",
      "1250/1250 [==============================] - 143s 115ms/step - loss: 0.7048 - binary_accuracy: 0.4952 - val_loss: 0.7659 - val_binary_accuracy: 0.5323\n",
      "Epoch 3/15\n",
      "1250/1250 [==============================] - 146s 117ms/step - loss: 0.7099 - binary_accuracy: 0.4786 - val_loss: 0.6956 - val_binary_accuracy: 0.4754\n",
      "Epoch 4/15\n",
      "1250/1250 [==============================] - 140s 112ms/step - loss: 0.7065 - binary_accuracy: 0.4818 - val_loss: 0.6917 - val_binary_accuracy: 0.4754\n",
      "Epoch 5/15\n",
      "1250/1250 [==============================] - 140s 112ms/step - loss: 0.7031 - binary_accuracy: 0.4762 - val_loss: 0.7044 - val_binary_accuracy: 0.4754\n",
      "Epoch 6/15\n",
      "1250/1250 [==============================] - 140s 112ms/step - loss: 0.7027 - binary_accuracy: 0.4826 - val_loss: 0.6920 - val_binary_accuracy: 0.4754\n",
      "Epoch 7/15\n",
      "1250/1250 [==============================] - 140s 112ms/step - loss: 0.7049 - binary_accuracy: 0.4862 - val_loss: 0.6947 - val_binary_accuracy: 0.4754\n",
      "Epoch 8/15\n",
      "1250/1250 [==============================] - 159s 128ms/step - loss: 0.7037 - binary_accuracy: 0.4756 - val_loss: 0.7511 - val_binary_accuracy: 0.5292\n",
      "Epoch 9/15\n",
      "1250/1250 [==============================] - 198s 158ms/step - loss: 0.7030 - binary_accuracy: 0.4636 - val_loss: 0.7186 - val_binary_accuracy: 0.4754\n",
      "Epoch 10/15\n",
      "1250/1250 [==============================] - 122s 97ms/step - loss: 0.7016 - binary_accuracy: 0.4876 - val_loss: 0.7200 - val_binary_accuracy: 0.5315\n",
      "Epoch 11/15\n",
      "1250/1250 [==============================] - 109s 87ms/step - loss: 0.7031 - binary_accuracy: 0.4744 - val_loss: 0.6996 - val_binary_accuracy: 0.4754\n",
      "Epoch 12/15\n",
      "1250/1250 [==============================] - 109s 87ms/step - loss: 0.7005 - binary_accuracy: 0.4802 - val_loss: 0.6914 - val_binary_accuracy: 0.4754\n",
      "Epoch 13/15\n",
      "1250/1250 [==============================] - 109s 87ms/step - loss: 0.7039 - binary_accuracy: 0.4692 - val_loss: 0.6991 - val_binary_accuracy: 0.4754\n",
      "Epoch 14/15\n",
      "1250/1250 [==============================] - 111s 89ms/step - loss: 0.7018 - binary_accuracy: 0.4790 - val_loss: 0.6918 - val_binary_accuracy: 0.4754\n",
      "Epoch 15/15\n",
      "1250/1250 [==============================] - 112s 90ms/step - loss: 0.6983 - binary_accuracy: 0.4802 - val_loss: 0.6935 - val_binary_accuracy: 0.4754\n"
     ]
    }
   ],
   "source": [
    "history_fine_tune_base=model.fit(X_train[5000:10000],y_train[5000:10000], batch_size=4, epochs=epochs1, validation_data=(X_test[1000:2300],y_test[1000:2300]))"
   ]
  },
  {
   "cell_type": "code",
   "execution_count": 41,
   "id": "42fd4c24",
   "metadata": {},
   "outputs": [
    {
     "name": "stderr",
     "output_type": "stream",
     "text": [
      "D:\\projects\\Jupyter\\gpu-env\\lib\\site-packages\\keras\\engine\\functional.py:1410: CustomMaskWarning: Custom mask layers require a config and must override get_config. When loading, the custom mask layer must be passed to the custom_objects argument.\n",
      "  layer_config = serialize_layer_fn(layer)\n"
     ]
    }
   ],
   "source": [
    "model.save(\"../saved_models/eff_net_base_1.h5\")"
   ]
  },
  {
   "cell_type": "code",
   "execution_count": 42,
   "id": "42ef9071",
   "metadata": {},
   "outputs": [],
   "source": [
    "def plot_accuracy(history):\n",
    "    plt.plot(history.history['val_binary_accuracy'])\n",
    "    plt.plot(history.history['binary_accuracy'])\n",
    "    plt.title('model accuracy')\n",
    "    plt.ylabel('accuracy')\n",
    "    plt.xlabel('epoch')\n",
    "    plt.legend(['val_accuracy', 'Train_accuracy'], loc = 'best')\n",
    "    plt.show()"
   ]
  },
  {
   "cell_type": "code",
   "execution_count": 43,
   "id": "d27c0dd8",
   "metadata": {},
   "outputs": [
    {
     "data": {
      "image/png": "[encoded data removed]",
      "text/plain": [
       "<Figure size 432x288 with 1 Axes>"
      ]
     },
     "metadata": {
      "needs_background": "light"
     },
     "output_type": "display_data"
    }
   ],
   "source": [
    "plot_accuracy(history_fine_tune_base)"
   ]
  },
  {
   "cell_type": "code",
   "execution_count": 44,
   "id": "9435731d",
   "metadata": {},
   "outputs": [],
   "source": [
    "def plot_loss(history):\n",
    "    plt.plot(history.history['val_loss'])\n",
    "    plt.plot(history.history['loss'])\n",
    "    plt.title('model loss')\n",
    "    plt.ylabel('loss')\n",
    "    plt.xlabel('epoch')\n",
    "    plt.legend(['val_loss', 'train_loss'], loc = 'best')\n",
    "    plt.show()"
   ]
  },
  {
   "cell_type": "code",
   "execution_count": 45,
   "id": "54426d32",
   "metadata": {},
   "outputs": [
    {
     "data": {
      "image/png": "[encoded data removed]",
      "text/plain": [
       "<Figure size 432x288 with 1 Axes>"
      ]
     },
     "metadata": {
      "needs_background": "light"
     },
     "output_type": "display_data"
    }
   ],
   "source": [
    "plot_loss(history_fine_tune_base)"
   ]
  }
 ],
 "metadata": {
  "kernelspec": {
   "display_name": "Python [conda env:gpu-env] *",
   "language": "python",
   "name": "conda-env-gpu-env-py"
  },
  "language_info": {
   "codemirror_mode": {
    "name": "ipython",
    "version": 3
   },
   "file_extension": ".py",
   "mimetype": "text/x-python",
   "name": "python",
   "nbconvert_exporter": "python",
   "pygments_lexer": "ipython3",
   "version": "3.8.11"
  }
 },
 "nbformat": 4,
 "nbformat_minor": 5
}
