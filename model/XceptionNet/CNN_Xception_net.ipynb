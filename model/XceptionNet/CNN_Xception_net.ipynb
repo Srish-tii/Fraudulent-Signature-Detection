{
 "cells": [
  {
   "cell_type": "code",
   "execution_count": 1,
   "id": "e6d671f2",
   "metadata": {},
   "outputs": [
    {
     "name": "stdout",
     "output_type": "stream",
     "text": [
      "Num GPUs Available:  1\n"
     ]
    }
   ],
   "source": [
    "from tensorflow.python.client import device_lib\n",
    "#print(device_lib.list_local_devices())\n",
    "\n",
    "import tensorflow as tf\n",
    "print(\"Num GPUs Available: \", len(tf.config.experimental.list_physical_devices('GPU')))\n",
    "physical_devices = tf.config.list_physical_devices('GPU')\n",
    "#tf.config.experimental.set_memory_growth(physical_devices[0], enable=True)"
   ]
  },
  {
   "cell_type": "code",
   "execution_count": 2,
   "id": "1a8cfd27",
   "metadata": {},
   "outputs": [],
   "source": [
    "import tensorflow as tf\n",
    "import pandas as pd\n",
    "import matplotlib.pyplot as plt\n",
    "import cv2\n",
    "import numpy as np"
   ]
  },
  {
   "cell_type": "code",
   "execution_count": 3,
   "id": "4d616b4e",
   "metadata": {},
   "outputs": [],
   "source": [
    "from tensorflow import keras\n",
    "from tensorflow.keras import layers, models, metrics\n",
    "from tensorflow.keras.models import Sequential, load_model\n",
    "from tensorflow.keras.callbacks import ModelCheckpoint\n",
    "from tensorflow.keras import optimizers\n",
    "from tensorflow.keras.optimizers import SGD\n",
    "from tensorflow.keras.applications import *\n",
    "from tensorflow.keras.layers import BatchNormalization, Conv2D, MaxPooling2D, Flatten, Dense, Input, Dropout, GlobalMaxPooling2D \n",
    "from sklearn.model_selection import train_test_split"
   ]
  },
  {
   "cell_type": "code",
   "execution_count": null,
   "id": "7b48e64d",
   "metadata": {},
   "outputs": [],
   "source": [
    "pwd"
   ]
  },
  {
   "cell_type": "code",
   "execution_count": null,
   "id": "256b11c1",
   "metadata": {},
   "outputs": [],
   "source": [
    "# data=\"../data/cleaned_all_data/\""
   ]
  },
  {
   "cell_type": "code",
   "execution_count": null,
   "id": "c2e426fc",
   "metadata": {},
   "outputs": [],
   "source": [
    "# df=pd.read_csv(\"../data/annotated_data.csv\")"
   ]
  },
  {
   "cell_type": "code",
   "execution_count": null,
   "id": "b68c71f0",
   "metadata": {},
   "outputs": [],
   "source": [
    "# images=df[\"data\"].values"
   ]
  },
  {
   "cell_type": "code",
   "execution_count": null,
   "id": "fcec835c",
   "metadata": {},
   "outputs": [],
   "source": [
    "# labels=df[\"annotation\"].values"
   ]
  },
  {
   "cell_type": "code",
   "execution_count": null,
   "id": "ec3ac30a",
   "metadata": {},
   "outputs": [],
   "source": [
    "# X=[]\n",
    "# Y=[]"
   ]
  },
  {
   "cell_type": "code",
   "execution_count": null,
   "id": "820610e0",
   "metadata": {},
   "outputs": [],
   "source": [
    "# for image in images[:]:\n",
    "#     img=cv2.imread(data+image)\n",
    "#     img=cv2.bitwise_not(img)\n",
    "#     #img=img/255\n",
    "#     X.append(img)"
   ]
  },
  {
   "cell_type": "code",
   "execution_count": null,
   "id": "4ef6322d",
   "metadata": {},
   "outputs": [],
   "source": [
    "# for label in labels:\n",
    "#     label_=[label]\n",
    "#     Y.append(label_)"
   ]
  },
  {
   "cell_type": "code",
   "execution_count": null,
   "id": "f6bd65e6",
   "metadata": {},
   "outputs": [],
   "source": [
    "# X=np.array(X)\n",
    "# X.shape"
   ]
  },
  {
   "cell_type": "code",
   "execution_count": null,
   "id": "b01d9590",
   "metadata": {},
   "outputs": [],
   "source": [
    "# print(X[3])"
   ]
  },
  {
   "cell_type": "code",
   "execution_count": null,
   "id": "e353e266",
   "metadata": {},
   "outputs": [],
   "source": [
    "# Y=np.array(Y)\n",
    "# Y.shape"
   ]
  },
  {
   "cell_type": "code",
   "execution_count": 6,
   "id": "f5a2a7a2",
   "metadata": {},
   "outputs": [],
   "source": [
    "from numpy import save, load\n",
    "X_train=load('X_train.npy')\n",
    "y_train=load('y_train.npy')\n",
    "X_test=load('X_test.npy')\n",
    "y_test=load('y_test.npy')"
   ]
  },
  {
   "cell_type": "code",
   "execution_count": null,
   "id": "874dbcbc",
   "metadata": {},
   "outputs": [],
   "source": []
  },
  {
   "cell_type": "code",
   "execution_count": null,
   "id": "a52a842e",
   "metadata": {},
   "outputs": [],
   "source": [
    "# X_train, X_test, y_train, y_test = train_test_split(X, Y, test_size=0.20, random_state=42)"
   ]
  },
  {
   "cell_type": "code",
   "execution_count": null,
   "id": "60851a33",
   "metadata": {},
   "outputs": [],
   "source": [
    "# print(X_train[4])"
   ]
  },
  {
   "cell_type": "code",
   "execution_count": null,
   "id": "68953c1b",
   "metadata": {},
   "outputs": [],
   "source": [
    "X_train.shape,y_train.shape"
   ]
  },
  {
   "cell_type": "code",
   "execution_count": null,
   "id": "e287f372",
   "metadata": {},
   "outputs": [],
   "source": [
    "X_test.shape,y_test.shape"
   ]
  },
  {
   "cell_type": "code",
   "execution_count": null,
   "id": "3cbb4f1c",
   "metadata": {},
   "outputs": [],
   "source": [
    "# for i in range(14644):\n",
    "#     X_train[i]=X_train[i]/255"
   ]
  },
  {
   "cell_type": "code",
   "execution_count": null,
   "id": "78e1f92e",
   "metadata": {},
   "outputs": [],
   "source": [
    "# for i in range(3661):\n",
    "#     X_test[i]=X_test[i]/255"
   ]
  },
  {
   "cell_type": "code",
   "execution_count": null,
   "id": "4d726887",
   "metadata": {},
   "outputs": [],
   "source": []
  },
  {
   "cell_type": "code",
   "execution_count": null,
   "id": "92bf5862",
   "metadata": {},
   "outputs": [],
   "source": [
    "# save(\"X_train.npy\",X_train)\n",
    "# save(\"y_train.npy\",y_train)\n",
    "# save(\"X_test.npy\",X_test)\n",
    "# save(\"y_test.npy\",y_test)"
   ]
  },
  {
   "cell_type": "code",
   "execution_count": null,
   "id": "ec1154c2",
   "metadata": {},
   "outputs": [],
   "source": []
  },
  {
   "cell_type": "code",
   "execution_count": null,
   "id": "9bd15301",
   "metadata": {
    "scrolled": true
   },
   "outputs": [],
   "source": [
    "# print(X_train[4])"
   ]
  },
  {
   "cell_type": "code",
   "execution_count": null,
   "id": "6868248c",
   "metadata": {},
   "outputs": [],
   "source": [
    "input_shape=(256,512,3)"
   ]
  },
  {
   "cell_type": "code",
   "execution_count": 15,
   "id": "2a19e015",
   "metadata": {},
   "outputs": [],
   "source": [
    "base_model = keras.applications.Xception(\n",
    "    weights=\"imagenet\",  # Load weights pre-trained on ImageNet.\n",
    "    input_shape=(256, 512, 3),\n",
    "    include_top=False,\n",
    ")"
   ]
  },
  {
   "cell_type": "code",
   "execution_count": 16,
   "id": "4d7b9f69",
   "metadata": {},
   "outputs": [],
   "source": [
    "base_model.trainable = False\n"
   ]
  },
  {
   "cell_type": "code",
   "execution_count": 17,
   "id": "eb7b0600",
   "metadata": {},
   "outputs": [],
   "source": [
    "inputs = keras.Input(shape=(256, 512, 3))\n",
    "x=inputs"
   ]
  },
  {
   "cell_type": "code",
   "execution_count": 18,
   "id": "081a6435",
   "metadata": {},
   "outputs": [],
   "source": [
    "x = base_model(x, training=False)\n",
    "x = keras.layers.GlobalAveragePooling2D()(x)\n",
    "x = keras.layers.Dropout(0.2)(x)  # Regularize with dropout\n",
    "outputs = keras.layers.Dense(1)(x)\n",
    "model = keras.Model(inputs, outputs)"
   ]
  },
  {
   "cell_type": "code",
   "execution_count": 19,
   "id": "20bba33d",
   "metadata": {},
   "outputs": [
    {
     "name": "stdout",
     "output_type": "stream",
     "text": [
      "Model: \"model_1\"\n",
      "_________________________________________________________________\n",
      " Layer (type)                Output Shape              Param #   \n",
      "=================================================================\n",
      " input_4 (InputLayer)        [(None, 256, 512, 3)]     0         \n",
      "                                                                 \n",
      " xception (Functional)       (None, 8, 16, 2048)       20861480  \n",
      "                                                                 \n",
      " global_average_pooling2d_1   (None, 2048)             0         \n",
      " (GlobalAveragePooling2D)                                        \n",
      "                                                                 \n",
      " dropout_1 (Dropout)         (None, 2048)              0         \n",
      "                                                                 \n",
      " dense_1 (Dense)             (None, 1)                 2049      \n",
      "                                                                 \n",
      "=================================================================\n",
      "Total params: 20,863,529\n",
      "Trainable params: 2,049\n",
      "Non-trainable params: 20,861,480\n",
      "_________________________________________________________________\n"
     ]
    }
   ],
   "source": [
    "model.summary()"
   ]
  },
  {
   "cell_type": "code",
   "execution_count": 20,
   "id": "042c70ec",
   "metadata": {},
   "outputs": [],
   "source": [
    "model.compile(\n",
    "    optimizer=keras.optimizers.Adam(),\n",
    "    loss=keras.losses.BinaryCrossentropy(from_logits=True),\n",
    "    metrics=[keras.metrics.BinaryAccuracy()],\n",
    ")\n",
    "\n",
    "epochs = 20"
   ]
  },
  {
   "cell_type": "code",
   "execution_count": 21,
   "id": "a41a7a2a",
   "metadata": {},
   "outputs": [
    {
     "name": "stdout",
     "output_type": "stream",
     "text": [
      "Epoch 1/20\n",
      "157/157 [==============================] - 62s 347ms/step - loss: 0.6293 - binary_accuracy: 0.6004 - val_loss: 0.6196 - val_binary_accuracy: 0.6420\n",
      "Epoch 2/20\n",
      "157/157 [==============================] - 64s 406ms/step - loss: 0.5859 - binary_accuracy: 0.6648 - val_loss: 0.6006 - val_binary_accuracy: 0.6340\n",
      "Epoch 3/20\n",
      "157/157 [==============================] - 142s 906ms/step - loss: 0.5679 - binary_accuracy: 0.6802 - val_loss: 0.5966 - val_binary_accuracy: 0.6540\n",
      "Epoch 4/20\n",
      "157/157 [==============================] - 267s 2s/step - loss: 0.5561 - binary_accuracy: 0.6982 - val_loss: 0.5843 - val_binary_accuracy: 0.6470\n",
      "Epoch 5/20\n",
      "157/157 [==============================] - 410s 3s/step - loss: 0.5450 - binary_accuracy: 0.7012 - val_loss: 0.5769 - val_binary_accuracy: 0.6670\n",
      "Epoch 6/20\n",
      "157/157 [==============================] - 408s 3s/step - loss: 0.5383 - binary_accuracy: 0.7044 - val_loss: 0.5766 - val_binary_accuracy: 0.6530\n",
      "Epoch 7/20\n",
      "157/157 [==============================] - 382s 2s/step - loss: 0.5304 - binary_accuracy: 0.7138 - val_loss: 0.5661 - val_binary_accuracy: 0.6620\n",
      "Epoch 8/20\n",
      "157/157 [==============================] - 394s 3s/step - loss: 0.5227 - binary_accuracy: 0.7144 - val_loss: 0.5680 - val_binary_accuracy: 0.6940\n",
      "Epoch 9/20\n",
      "157/157 [==============================] - 365s 2s/step - loss: 0.5200 - binary_accuracy: 0.7232 - val_loss: 0.5595 - val_binary_accuracy: 0.6650\n",
      "Epoch 10/20\n",
      "157/157 [==============================] - 381s 2s/step - loss: 0.5146 - binary_accuracy: 0.7280 - val_loss: 0.5584 - val_binary_accuracy: 0.7050\n",
      "Epoch 11/20\n",
      "157/157 [==============================] - 375s 2s/step - loss: 0.5139 - binary_accuracy: 0.7250 - val_loss: 0.5505 - val_binary_accuracy: 0.6940\n",
      "Epoch 12/20\n",
      "157/157 [==============================] - 362s 2s/step - loss: 0.5078 - binary_accuracy: 0.7318 - val_loss: 0.5490 - val_binary_accuracy: 0.6980\n",
      "Epoch 13/20\n",
      "157/157 [==============================] - 355s 2s/step - loss: 0.5113 - binary_accuracy: 0.7328 - val_loss: 0.5503 - val_binary_accuracy: 0.6730\n",
      "Epoch 14/20\n",
      "157/157 [==============================] - 356s 2s/step - loss: 0.5032 - binary_accuracy: 0.7364 - val_loss: 0.5475 - val_binary_accuracy: 0.7180\n",
      "Epoch 15/20\n",
      "157/157 [==============================] - 357s 2s/step - loss: 0.4992 - binary_accuracy: 0.7404 - val_loss: 0.5456 - val_binary_accuracy: 0.6890\n",
      "Epoch 16/20\n",
      "157/157 [==============================] - 435s 3s/step - loss: 0.4970 - binary_accuracy: 0.7414 - val_loss: 0.5429 - val_binary_accuracy: 0.7140\n",
      "Epoch 17/20\n",
      "157/157 [==============================] - 366s 2s/step - loss: 0.4948 - binary_accuracy: 0.7394 - val_loss: 0.5404 - val_binary_accuracy: 0.7210\n",
      "Epoch 18/20\n",
      "157/157 [==============================] - 366s 2s/step - loss: 0.4892 - binary_accuracy: 0.7440 - val_loss: 0.5387 - val_binary_accuracy: 0.7190\n",
      "Epoch 19/20\n",
      "157/157 [==============================] - 368s 2s/step - loss: 0.4934 - binary_accuracy: 0.7442 - val_loss: 0.5349 - val_binary_accuracy: 0.7090\n",
      "Epoch 20/20\n",
      "157/157 [==============================] - 405s 3s/step - loss: 0.4875 - binary_accuracy: 0.7528 - val_loss: 0.5428 - val_binary_accuracy: 0.7300\n"
     ]
    },
    {
     "data": {
      "text/plain": [
       "<keras.callbacks.History at 0x29778673a90>"
      ]
     },
     "execution_count": 21,
     "metadata": {},
     "output_type": "execute_result"
    }
   ],
   "source": [
    "model.fit(X_train[:5000],y_train[:5000], epochs=epochs, validation_data=(X_test[:1000],y_test[:1000]))"
   ]
  },
  {
   "cell_type": "code",
   "execution_count": null,
   "id": "387ee5c2",
   "metadata": {},
   "outputs": [],
   "source": []
  },
  {
   "cell_type": "code",
   "execution_count": null,
   "id": "c9bb0251",
   "metadata": {},
   "outputs": [],
   "source": []
  }
 ],
 "metadata": {
  "kernelspec": {
   "display_name": "Python 3 (ipykernel)",
   "language": "python",
   "name": "python3"
  },
  "language_info": {
   "codemirror_mode": {
    "name": "ipython",
    "version": 3
   },
   "file_extension": ".py",
   "mimetype": "text/x-python",
   "name": "python",
   "nbconvert_exporter": "python",
   "pygments_lexer": "ipython3",
   "version": "3.8.11"
  }
 },
 "nbformat": 4,
 "nbformat_minor": 5
}
