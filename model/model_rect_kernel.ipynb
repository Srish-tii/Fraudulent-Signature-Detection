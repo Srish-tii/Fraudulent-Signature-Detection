{
 "cells": [
  {
   "cell_type": "code",
   "execution_count": 1,
   "id": "10ee3d92",
   "metadata": {},
   "outputs": [
    {
     "name": "stdout",
     "output_type": "stream",
     "text": [
      "Num GPUs Available:  1\n"
     ]
    }
   ],
   "source": [
    "from tensorflow.python.client import device_lib\n",
    "#print(device_lib.list_local_devices())\n",
    "\n",
    "import tensorflow as tf\n",
    "print(\"Num GPUs Available: \", len(tf.config.experimental.list_physical_devices('GPU')))\n",
    "physical_devices = tf.config.list_physical_devices('GPU')\n",
    "tf.config.experimental.set_memory_growth(physical_devices[0], enable=True)"
   ]
  },
  {
   "cell_type": "code",
   "execution_count": 2,
   "id": "3682d548",
   "metadata": {},
   "outputs": [],
   "source": [
    "import tensorflow as tf\n",
    "import pandas as pd\n",
    "import matplotlib.pyplot as plt"
   ]
  },
  {
   "cell_type": "code",
   "execution_count": 3,
   "id": "b8bd122a",
   "metadata": {},
   "outputs": [],
   "source": [
    "from tensorflow import keras\n",
    "from tensorflow.keras import layers\n",
    "from tensorflow.keras.models import Sequential, load_model\n",
    "from tensorflow.keras.callbacks import ModelCheckpoint\n",
    "from tensorflow.keras.optimizers import SGD\n",
    "from tensorflow.keras.layers import BatchNormalization, Conv2D, MaxPooling2D, Flatten, Dense, Input, Dropout \n",
    "from sklearn.model_selection import train_test_split"
   ]
  },
  {
   "cell_type": "code",
   "execution_count": 4,
   "id": "79ba9ac7",
   "metadata": {},
   "outputs": [],
   "source": [
    "data=\"data/cleaned_all_data/\""
   ]
  },
  {
   "cell_type": "code",
   "execution_count": 5,
   "id": "5556c1ba",
   "metadata": {},
   "outputs": [],
   "source": [
    "df=pd.read_csv(\"data/annotated_data.csv\")"
   ]
  },
  {
   "cell_type": "code",
   "execution_count": 6,
   "id": "ff6315ab",
   "metadata": {},
   "outputs": [
    {
     "data": {
      "text/plain": [
       "<bound method DataFrame.info of                    data  annotation\n",
       "0       E-S-01-F-01.png           1\n",
       "1       E-S-01-F-02.png           1\n",
       "2       E-S-01-F-03.png           1\n",
       "3       E-S-01-F-04.png           1\n",
       "4       E-S-01-F-05.png           1\n",
       "...                 ...         ...\n",
       "18300  B-S-100-G-20.tif           0\n",
       "18301  B-S-100-G-21.tif           0\n",
       "18302  B-S-100-G-22.tif           0\n",
       "18303  B-S-100-G-23.tif           0\n",
       "18304  B-S-100-G-24.tif           0\n",
       "\n",
       "[18305 rows x 2 columns]>"
      ]
     },
     "execution_count": 6,
     "metadata": {},
     "output_type": "execute_result"
    }
   ],
   "source": [
    "df.info"
   ]
  },
  {
   "cell_type": "code",
   "execution_count": 7,
   "id": "9f0320a2",
   "metadata": {},
   "outputs": [
    {
     "data": {
      "text/html": [
       "<div>\n",
       "<style scoped>\n",
       "    .dataframe tbody tr th:only-of-type {\n",
       "        vertical-align: middle;\n",
       "    }\n",
       "\n",
       "    .dataframe tbody tr th {\n",
       "        vertical-align: top;\n",
       "    }\n",
       "\n",
       "    .dataframe thead th {\n",
       "        text-align: right;\n",
       "    }\n",
       "</style>\n",
       "<table border=\"1\" class=\"dataframe\">\n",
       "  <thead>\n",
       "    <tr style=\"text-align: right;\">\n",
       "      <th></th>\n",
       "      <th>data</th>\n",
       "      <th>annotation</th>\n",
       "    </tr>\n",
       "  </thead>\n",
       "  <tbody>\n",
       "    <tr>\n",
       "      <th>0</th>\n",
       "      <td>E-S-01-F-01.png</td>\n",
       "      <td>1</td>\n",
       "    </tr>\n",
       "    <tr>\n",
       "      <th>1</th>\n",
       "      <td>E-S-01-F-02.png</td>\n",
       "      <td>1</td>\n",
       "    </tr>\n",
       "    <tr>\n",
       "      <th>2</th>\n",
       "      <td>E-S-01-F-03.png</td>\n",
       "      <td>1</td>\n",
       "    </tr>\n",
       "    <tr>\n",
       "      <th>3</th>\n",
       "      <td>E-S-01-F-04.png</td>\n",
       "      <td>1</td>\n",
       "    </tr>\n",
       "    <tr>\n",
       "      <th>4</th>\n",
       "      <td>E-S-01-F-05.png</td>\n",
       "      <td>1</td>\n",
       "    </tr>\n",
       "  </tbody>\n",
       "</table>\n",
       "</div>"
      ],
      "text/plain": [
       "              data  annotation\n",
       "0  E-S-01-F-01.png           1\n",
       "1  E-S-01-F-02.png           1\n",
       "2  E-S-01-F-03.png           1\n",
       "3  E-S-01-F-04.png           1\n",
       "4  E-S-01-F-05.png           1"
      ]
     },
     "execution_count": 7,
     "metadata": {},
     "output_type": "execute_result"
    }
   ],
   "source": [
    "df.head()"
   ]
  },
  {
   "cell_type": "code",
   "execution_count": 8,
   "id": "b50e408c",
   "metadata": {},
   "outputs": [],
   "source": [
    "images=df[\"data\"].values"
   ]
  },
  {
   "cell_type": "code",
   "execution_count": 9,
   "id": "6fbca236",
   "metadata": {},
   "outputs": [
    {
     "data": {
      "text/plain": [
       "18305"
      ]
     },
     "execution_count": 9,
     "metadata": {},
     "output_type": "execute_result"
    }
   ],
   "source": [
    "len(images)"
   ]
  },
  {
   "cell_type": "code",
   "execution_count": 10,
   "id": "10710cd6",
   "metadata": {},
   "outputs": [],
   "source": [
    "labels=df[\"annotation\"].values"
   ]
  },
  {
   "cell_type": "code",
   "execution_count": 11,
   "id": "59dffd91",
   "metadata": {},
   "outputs": [
    {
     "data": {
      "text/plain": [
       "18305"
      ]
     },
     "execution_count": 11,
     "metadata": {},
     "output_type": "execute_result"
    }
   ],
   "source": [
    "len(labels)"
   ]
  },
  {
   "cell_type": "code",
   "execution_count": 12,
   "id": "9d34360b",
   "metadata": {},
   "outputs": [],
   "source": [
    "import cv2\n",
    "import numpy as np"
   ]
  },
  {
   "cell_type": "code",
   "execution_count": 13,
   "id": "495d9430",
   "metadata": {},
   "outputs": [],
   "source": [
    "# train_data=tf.data.Dataset.from_tensor_slices((images,labels))"
   ]
  },
  {
   "cell_type": "code",
   "execution_count": 14,
   "id": "9f1827de",
   "metadata": {},
   "outputs": [],
   "source": [
    "# def get_images(img,label):\n",
    "#     image=cv2.imread(data+img,cv2.IMREAD_GRAYSCALE)\n",
    "#     #image=tf.image.decode_image(image,channels=1,dtype=tf.int64)\n",
    "#     return image,label"
   ]
  },
  {
   "cell_type": "code",
   "execution_count": 15,
   "id": "30f3d805",
   "metadata": {},
   "outputs": [],
   "source": [
    "X=[]"
   ]
  },
  {
   "cell_type": "code",
   "execution_count": 16,
   "id": "f8761aed",
   "metadata": {},
   "outputs": [],
   "source": [
    "for image in images[:]:\n",
    "    img=cv2.imread(data+image,cv2.IMREAD_UNCHANGED)\n",
    "    img=cv2.bitwise_not(img)\n",
    "    X.append(img)"
   ]
  },
  {
   "cell_type": "code",
   "execution_count": 17,
   "id": "8c473e28",
   "metadata": {},
   "outputs": [],
   "source": [
    "X=np.array(X)"
   ]
  },
  {
   "cell_type": "code",
   "execution_count": 18,
   "id": "85b65072",
   "metadata": {},
   "outputs": [],
   "source": [
    "Y=[]\n",
    "for label in labels:\n",
    "    label_=[label]\n",
    "    Y.append(label_)"
   ]
  },
  {
   "cell_type": "code",
   "execution_count": 19,
   "id": "7ab03e5f",
   "metadata": {},
   "outputs": [
    {
     "data": {
      "text/plain": [
       "(18305, 256, 512)"
      ]
     },
     "execution_count": 19,
     "metadata": {},
     "output_type": "execute_result"
    }
   ],
   "source": [
    "X.shape"
   ]
  },
  {
   "cell_type": "code",
   "execution_count": 20,
   "id": "0621b443",
   "metadata": {},
   "outputs": [],
   "source": [
    "Y=np.array(Y)"
   ]
  },
  {
   "cell_type": "code",
   "execution_count": 21,
   "id": "e193f898",
   "metadata": {},
   "outputs": [
    {
     "data": {
      "text/plain": [
       "(18305, 1)"
      ]
     },
     "execution_count": 21,
     "metadata": {},
     "output_type": "execute_result"
    }
   ],
   "source": [
    "Y.shape"
   ]
  },
  {
   "cell_type": "code",
   "execution_count": 22,
   "id": "6eb00032",
   "metadata": {},
   "outputs": [],
   "source": [
    "X_train, X_test, y_train, y_test = train_test_split(X, Y, test_size=0.20, random_state=42)"
   ]
  },
  {
   "cell_type": "code",
   "execution_count": 23,
   "id": "21b186fd",
   "metadata": {},
   "outputs": [
    {
     "data": {
      "text/plain": [
       "(14644, 1)"
      ]
     },
     "execution_count": 23,
     "metadata": {},
     "output_type": "execute_result"
    }
   ],
   "source": [
    "y_train.shape"
   ]
  },
  {
   "cell_type": "code",
   "execution_count": 24,
   "id": "15bbfef6",
   "metadata": {},
   "outputs": [],
   "source": [
    "model=Sequential()"
   ]
  },
  {
   "cell_type": "code",
   "execution_count": 25,
   "id": "1b1fbd2b",
   "metadata": {},
   "outputs": [],
   "source": [
    "model.add(Input((256,512,1)))\n",
    "model.add(Conv2D(32,activation = 'relu',kernel_size = (3,4)))\n",
    "model.add(MaxPooling2D(pool_size = (2,2)))\n",
    "#model.add(BatchNormalization())\n",
    "model.add(Conv2D(64,activation = 'relu',kernel_size = (3,4)))\n",
    "model.add(MaxPooling2D(pool_size = (2,2)))\n",
    "model.add(Conv2D(128,activation = 'relu',kernel_size = (3,4)))\n",
    "model.add(BatchNormalization())\n",
    "model.add(MaxPooling2D(pool_size = (2,2)))\n",
    "model.add(Conv2D(256,activation = 'relu',kernel_size = (3,4)))\n",
    "model.add(BatchNormalization())\n",
    "model.add(MaxPooling2D(pool_size = (2,2)))\n",
    "model.add(Conv2D(512,activation = 'relu',kernel_size = (3,4)))\n",
    "model.add(MaxPooling2D(pool_size = (2,2)))\n",
    "# model.add(BatchNormalization())\n",
    "# model.add(Conv2D(1024,activation = 'relu',kernel_size = (3,4)))\n",
    "# model.add(MaxPooling2D(pool_size = (2,2)))\n",
    "model.add(Flatten())\n",
    "model.add(Dropout(0.35))\n",
    "model.add(Dense(64, activation = 'relu'))\n",
    "# model.add(Dropout(0.3))\n",
    "# model.add(Dense(16, activation = 'relu'))\n",
    "model.add(Dense(2, activation = \"softmax\"))"
   ]
  },
  {
   "cell_type": "code",
   "execution_count": 26,
   "id": "9a17580a",
   "metadata": {},
   "outputs": [],
   "source": [
    "opt = SGD(learning_rate=0.01, momentum=0.9)"
   ]
  },
  {
   "cell_type": "code",
   "execution_count": 27,
   "id": "07993a8d",
   "metadata": {},
   "outputs": [],
   "source": [
    "model.compile(loss = \"sparse_categorical_crossentropy\", optimizer = \"adam\", metrics=['accuracy'])"
   ]
  },
  {
   "cell_type": "code",
   "execution_count": 28,
   "id": "0ea8025b",
   "metadata": {},
   "outputs": [],
   "source": [
    "filename = 'fraud_sign_det_test6_rect_kernel.h5'"
   ]
  },
  {
   "cell_type": "code",
   "execution_count": 29,
   "id": "dc113d97",
   "metadata": {},
   "outputs": [],
   "source": [
    "checkpoint = ModelCheckpoint(filename, monitor='val_loss', verbose=1, save_best_only=True, mode='min')"
   ]
  },
  {
   "cell_type": "code",
   "execution_count": 30,
   "id": "01c87654",
   "metadata": {},
   "outputs": [
    {
     "name": "stdout",
     "output_type": "stream",
     "text": [
      "Model: \"sequential\"\n",
      "_________________________________________________________________\n",
      " Layer (type)                Output Shape              Param #   \n",
      "=================================================================\n",
      " conv2d (Conv2D)             (None, 254, 509, 32)      416       \n",
      "                                                                 \n",
      " max_pooling2d (MaxPooling2D  (None, 127, 254, 32)     0         \n",
      " )                                                               \n",
      "                                                                 \n",
      " conv2d_1 (Conv2D)           (None, 125, 251, 64)      24640     \n",
      "                                                                 \n",
      " max_pooling2d_1 (MaxPooling  (None, 62, 125, 64)      0         \n",
      " 2D)                                                             \n",
      "                                                                 \n",
      " conv2d_2 (Conv2D)           (None, 60, 122, 128)      98432     \n",
      "                                                                 \n",
      " batch_normalization (BatchN  (None, 60, 122, 128)     512       \n",
      " ormalization)                                                   \n",
      "                                                                 \n",
      " max_pooling2d_2 (MaxPooling  (None, 30, 61, 128)      0         \n",
      " 2D)                                                             \n",
      "                                                                 \n",
      " conv2d_3 (Conv2D)           (None, 28, 58, 256)       393472    \n",
      "                                                                 \n",
      " batch_normalization_1 (Batc  (None, 28, 58, 256)      1024      \n",
      " hNormalization)                                                 \n",
      "                                                                 \n",
      " max_pooling2d_3 (MaxPooling  (None, 14, 29, 256)      0         \n",
      " 2D)                                                             \n",
      "                                                                 \n",
      " conv2d_4 (Conv2D)           (None, 12, 26, 512)       1573376   \n",
      "                                                                 \n",
      " max_pooling2d_4 (MaxPooling  (None, 6, 13, 512)       0         \n",
      " 2D)                                                             \n",
      "                                                                 \n",
      " flatten (Flatten)           (None, 39936)             0         \n",
      "                                                                 \n",
      " dropout (Dropout)           (None, 39936)             0         \n",
      "                                                                 \n",
      " dense (Dense)               (None, 64)                2555968   \n",
      "                                                                 \n",
      " dense_1 (Dense)             (None, 2)                 130       \n",
      "                                                                 \n",
      "=================================================================\n",
      "Total params: 4,647,970\n",
      "Trainable params: 4,647,202\n",
      "Non-trainable params: 768\n",
      "_________________________________________________________________\n"
     ]
    }
   ],
   "source": [
    "model.summary()"
   ]
  },
  {
   "cell_type": "code",
   "execution_count": 31,
   "id": "86a47f0a",
   "metadata": {
    "scrolled": false
   },
   "outputs": [
    {
     "name": "stdout",
     "output_type": "stream",
     "text": [
      "Epoch 1/10\n",
      "1221/1221 [==============================] - ETA: 0s - loss: 0.7982 - accuracy: 0.6329\n",
      "Epoch 00001: val_loss improved from inf to 0.67925, saving model to fraud_sign_det_test6_rect_kernel.h5\n",
      "1221/1221 [==============================] - 137s 106ms/step - loss: 0.7982 - accuracy: 0.6329 - val_loss: 0.6792 - val_accuracy: 0.6739\n",
      "Epoch 2/10\n",
      "1220/1221 [============================>.] - ETA: 0s - loss: 0.6013 - accuracy: 0.7000\n",
      "Epoch 00002: val_loss improved from 0.67925 to 0.56456, saving model to fraud_sign_det_test6_rect_kernel.h5\n",
      "1221/1221 [==============================] - 198s 162ms/step - loss: 0.6013 - accuracy: 0.6999 - val_loss: 0.5646 - val_accuracy: 0.7178\n",
      "Epoch 3/10\n",
      "1221/1221 [==============================] - ETA: 0s - loss: 0.5098 - accuracy: 0.7454\n",
      "Epoch 00003: val_loss improved from 0.56456 to 0.48138, saving model to fraud_sign_det_test6_rect_kernel.h5\n",
      "1221/1221 [==============================] - 257s 210ms/step - loss: 0.5098 - accuracy: 0.7454 - val_loss: 0.4814 - val_accuracy: 0.7517\n",
      "Epoch 4/10\n",
      "1221/1221 [==============================] - ETA: 0s - loss: 0.4473 - accuracy: 0.7843\n",
      "Epoch 00004: val_loss did not improve from 0.48138\n",
      "1221/1221 [==============================] - 285s 233ms/step - loss: 0.4473 - accuracy: 0.7843 - val_loss: 0.4986 - val_accuracy: 0.7602\n",
      "Epoch 5/10\n",
      "1221/1221 [==============================] - ETA: 0s - loss: 0.3849 - accuracy: 0.8243\n",
      "Epoch 00005: val_loss improved from 0.48138 to 0.35760, saving model to fraud_sign_det_test6_rect_kernel.h5\n",
      "1221/1221 [==============================] - 310s 254ms/step - loss: 0.3849 - accuracy: 0.8243 - val_loss: 0.3576 - val_accuracy: 0.8345\n",
      "Epoch 6/10\n",
      "1220/1221 [============================>.] - ETA: 0s - loss: 0.3318 - accuracy: 0.8485\n",
      "Epoch 00006: val_loss did not improve from 0.35760\n",
      "1221/1221 [==============================] - 334s 274ms/step - loss: 0.3317 - accuracy: 0.8485 - val_loss: 0.4901 - val_accuracy: 0.7818\n",
      "Epoch 7/10\n",
      "1221/1221 [==============================] - ETA: 0s - loss: 0.2792 - accuracy: 0.8744\n",
      "Epoch 00007: val_loss did not improve from 0.35760\n",
      "1221/1221 [==============================] - 368s 302ms/step - loss: 0.2792 - accuracy: 0.8744 - val_loss: 0.5674 - val_accuracy: 0.7673\n",
      "Epoch 8/10\n",
      "1221/1221 [==============================] - ETA: 0s - loss: 0.2303 - accuracy: 0.8952\n",
      "Epoch 00008: val_loss did not improve from 0.35760\n",
      "1221/1221 [==============================] - 358s 293ms/step - loss: 0.2303 - accuracy: 0.8952 - val_loss: 0.3992 - val_accuracy: 0.8306\n",
      "Epoch 9/10\n",
      "1220/1221 [============================>.] - ETA: 0s - loss: 0.1980 - accuracy: 0.9121\n",
      "Epoch 00009: val_loss improved from 0.35760 to 0.32886, saving model to fraud_sign_det_test6_rect_kernel.h5\n",
      "1221/1221 [==============================] - 388s 318ms/step - loss: 0.1980 - accuracy: 0.9121 - val_loss: 0.3289 - val_accuracy: 0.8694\n",
      "Epoch 10/10\n",
      "1221/1221 [==============================] - ETA: 0s - loss: 0.1720 - accuracy: 0.9273\n",
      "Epoch 00010: val_loss improved from 0.32886 to 0.24806, saving model to fraud_sign_det_test6_rect_kernel.h5\n",
      "1221/1221 [==============================] - 392s 321ms/step - loss: 0.1720 - accuracy: 0.9273 - val_loss: 0.2481 - val_accuracy: 0.8927\n"
     ]
    }
   ],
   "source": [
    "history = model.fit(X_train, y_train, validation_data=(X_test,y_test), epochs = 10, batch_size = 12,verbose=1, callbacks=[checkpoint])"
   ]
  },
  {
   "cell_type": "code",
   "execution_count": 32,
   "id": "c62dd94b",
   "metadata": {},
   "outputs": [],
   "source": [
    "def plot_accuracy(history):\n",
    "    plt.plot(history.history['val_accuracy'])\n",
    "    plt.plot(history.history['accuracy'])\n",
    "#     plt.plot(history.history['val_sparse_categorical_accuracy'])\n",
    "#     plt.plot(history.history['sparse_categorical_accuracy'])\n",
    "    plt.title('model accuracy')\n",
    "    plt.ylabel('accuracy')\n",
    "    plt.xlabel('epoch')\n",
    "    plt.legend(['val_accuracy', 'Train_accuracy'], loc = 'best')\n",
    "    plt.show()"
   ]
  },
  {
   "cell_type": "code",
   "execution_count": 33,
   "id": "1bb7d497",
   "metadata": {},
   "outputs": [
    {
     "data": {
      "image/png": "[encoded data removed]",
      "text/plain": [
       "<Figure size 432x288 with 1 Axes>"
      ]
     },
     "metadata": {
      "needs_background": "light"
     },
     "output_type": "display_data"
    }
   ],
   "source": [
    "plot_accuracy(history)"
   ]
  },
  {
   "cell_type": "code",
   "execution_count": 34,
   "id": "0cf1b166",
   "metadata": {},
   "outputs": [],
   "source": [
    "def plot_loss(history):\n",
    "    plt.plot(history.history['val_loss'])\n",
    "    plt.plot(history.history['loss'])\n",
    "    plt.title('model loss')\n",
    "    plt.ylabel('loss')\n",
    "    plt.xlabel('epoch')\n",
    "    plt.legend(['val_loss', 'train_loss'], loc = 'best')\n",
    "    plt.show()"
   ]
  },
  {
   "cell_type": "code",
   "execution_count": 35,
   "id": "20279ea6",
   "metadata": {},
   "outputs": [
    {
     "data": {
      "image/png": "[encoded data removed]",
      "text/plain": [
       "<Figure size 432x288 with 1 Axes>"
      ]
     },
     "metadata": {
      "needs_background": "light"
     },
     "output_type": "display_data"
    }
   ],
   "source": [
    "plot_loss(history)"
   ]
  },
  {
   "cell_type": "code",
   "execution_count": null,
   "id": "693bb71d",
   "metadata": {},
   "outputs": [],
   "source": []
  },
  {
   "cell_type": "code",
   "execution_count": null,
   "id": "e75aa06b",
   "metadata": {},
   "outputs": [],
   "source": []
  }
 ],
 "metadata": {
  "kernelspec": {
   "display_name": "Python [conda env:gpu-env] *",
   "language": "python",
   "name": "conda-env-gpu-env-py"
  },
  "language_info": {
   "codemirror_mode": {
    "name": "ipython",
    "version": 3
   },
   "file_extension": ".py",
   "mimetype": "text/x-python",
   "name": "python",
   "nbconvert_exporter": "python",
   "pygments_lexer": "ipython3",
   "version": "3.8.11"
  }
 },
 "nbformat": 4,
 "nbformat_minor": 5
}
