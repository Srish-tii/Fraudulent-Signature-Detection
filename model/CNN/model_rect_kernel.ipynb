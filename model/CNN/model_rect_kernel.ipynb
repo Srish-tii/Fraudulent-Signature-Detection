{
 "cells": [
  {
   "cell_type": "code",
   "execution_count": 1,
   "id": "10ee3d92",
   "metadata": {},
   "outputs": [
    {
     "name": "stdout",
     "output_type": "stream",
     "text": [
      "Num GPUs Available:  1\n"
     ]
    }
   ],
   "source": [
    "from tensorflow.python.client import device_lib\n",
    "#print(device_lib.list_local_devices())\n",
    "\n",
    "import tensorflow as tf\n",
    "print(\"Num GPUs Available: \", len(tf.config.experimental.list_physical_devices('GPU')))\n",
    "physical_devices = tf.config.list_physical_devices('GPU')\n",
    "tf.config.experimental.set_memory_growth(physical_devices[0], enable=True)"
   ]
  },
  {
   "cell_type": "code",
   "execution_count": 2,
   "id": "3682d548",
   "metadata": {},
   "outputs": [],
   "source": [
    "import tensorflow as tf\n",
    "import pandas as pd\n",
    "import matplotlib.pyplot as plt"
   ]
  },
  {
   "cell_type": "code",
   "execution_count": 3,
   "id": "b8bd122a",
   "metadata": {},
   "outputs": [],
   "source": [
    "from tensorflow import keras\n",
    "from tensorflow.keras import layers\n",
    "from tensorflow.keras.models import Sequential, load_model\n",
    "from tensorflow.keras.callbacks import ModelCheckpoint\n",
    "from tensorflow.keras.optimizers import SGD\n",
    "from tensorflow.keras.layers import BatchNormalization, Conv2D, MaxPooling2D, Flatten, Dense, Input, Dropout \n",
    "from sklearn.model_selection import train_test_split"
   ]
  },
  {
   "cell_type": "code",
   "execution_count": 12,
   "id": "79ba9ac7",
   "metadata": {},
   "outputs": [],
   "source": [
    "data=\"data/cleaned_all_data/\""
   ]
  },
  {
   "cell_type": "code",
   "execution_count": 13,
   "id": "49211398",
   "metadata": {},
   "outputs": [
    {
     "data": {
      "text/plain": [
       "'D:\\\\projects\\\\Personal\\\\Fraudulent-Signature-Detection'"
      ]
     },
     "execution_count": 13,
     "metadata": {},
     "output_type": "execute_result"
    }
   ],
   "source": [
    "pwd"
   ]
  },
  {
   "cell_type": "code",
   "execution_count": 15,
   "id": "ff6315ab",
   "metadata": {},
   "outputs": [
    {
     "data": {
      "text/plain": [
       "<bound method DataFrame.info of                    data  annotation\n",
       "0       E-S-01-F-01.png           1\n",
       "1       E-S-01-F-02.png           1\n",
       "2       E-S-01-F-03.png           1\n",
       "3       E-S-01-F-04.png           1\n",
       "4       E-S-01-F-05.png           1\n",
       "...                 ...         ...\n",
       "18300  B-S-100-G-20.tif           0\n",
       "18301  B-S-100-G-21.tif           0\n",
       "18302  B-S-100-G-22.tif           0\n",
       "18303  B-S-100-G-23.tif           0\n",
       "18304  B-S-100-G-24.tif           0\n",
       "\n",
       "[18305 rows x 2 columns]>"
      ]
     },
     "execution_count": 15,
     "metadata": {},
     "output_type": "execute_result"
    }
   ],
   "source": [
    "df=pd.read_csv(r\"data/annotated_data.csv\")\n",
    "df.info"
   ]
  },
  {
   "cell_type": "code",
   "execution_count": 16,
   "id": "9f0320a2",
   "metadata": {},
   "outputs": [
    {
     "data": {
      "text/html": [
       "<div>\n",
       "<style scoped>\n",
       "    .dataframe tbody tr th:only-of-type {\n",
       "        vertical-align: middle;\n",
       "    }\n",
       "\n",
       "    .dataframe tbody tr th {\n",
       "        vertical-align: top;\n",
       "    }\n",
       "\n",
       "    .dataframe thead th {\n",
       "        text-align: right;\n",
       "    }\n",
       "</style>\n",
       "<table border=\"1\" class=\"dataframe\">\n",
       "  <thead>\n",
       "    <tr style=\"text-align: right;\">\n",
       "      <th></th>\n",
       "      <th>data</th>\n",
       "      <th>annotation</th>\n",
       "    </tr>\n",
       "  </thead>\n",
       "  <tbody>\n",
       "    <tr>\n",
       "      <th>0</th>\n",
       "      <td>E-S-01-F-01.png</td>\n",
       "      <td>1</td>\n",
       "    </tr>\n",
       "    <tr>\n",
       "      <th>1</th>\n",
       "      <td>E-S-01-F-02.png</td>\n",
       "      <td>1</td>\n",
       "    </tr>\n",
       "    <tr>\n",
       "      <th>2</th>\n",
       "      <td>E-S-01-F-03.png</td>\n",
       "      <td>1</td>\n",
       "    </tr>\n",
       "    <tr>\n",
       "      <th>3</th>\n",
       "      <td>E-S-01-F-04.png</td>\n",
       "      <td>1</td>\n",
       "    </tr>\n",
       "    <tr>\n",
       "      <th>4</th>\n",
       "      <td>E-S-01-F-05.png</td>\n",
       "      <td>1</td>\n",
       "    </tr>\n",
       "  </tbody>\n",
       "</table>\n",
       "</div>"
      ],
      "text/plain": [
       "              data  annotation\n",
       "0  E-S-01-F-01.png           1\n",
       "1  E-S-01-F-02.png           1\n",
       "2  E-S-01-F-03.png           1\n",
       "3  E-S-01-F-04.png           1\n",
       "4  E-S-01-F-05.png           1"
      ]
     },
     "execution_count": 16,
     "metadata": {},
     "output_type": "execute_result"
    }
   ],
   "source": [
    "df.head()"
   ]
  },
  {
   "cell_type": "code",
   "execution_count": 17,
   "id": "b50e408c",
   "metadata": {},
   "outputs": [],
   "source": [
    "images=df[\"data\"].values"
   ]
  },
  {
   "cell_type": "code",
   "execution_count": 18,
   "id": "6fbca236",
   "metadata": {},
   "outputs": [
    {
     "data": {
      "text/plain": [
       "18305"
      ]
     },
     "execution_count": 18,
     "metadata": {},
     "output_type": "execute_result"
    }
   ],
   "source": [
    "len(images)"
   ]
  },
  {
   "cell_type": "code",
   "execution_count": 19,
   "id": "10710cd6",
   "metadata": {},
   "outputs": [],
   "source": [
    "labels=df[\"annotation\"].values"
   ]
  },
  {
   "cell_type": "code",
   "execution_count": 20,
   "id": "59dffd91",
   "metadata": {},
   "outputs": [
    {
     "data": {
      "text/plain": [
       "18305"
      ]
     },
     "execution_count": 20,
     "metadata": {},
     "output_type": "execute_result"
    }
   ],
   "source": [
    "len(labels)"
   ]
  },
  {
   "cell_type": "code",
   "execution_count": 21,
   "id": "9d34360b",
   "metadata": {},
   "outputs": [],
   "source": [
    "import cv2\n",
    "import numpy as np"
   ]
  },
  {
   "cell_type": "code",
   "execution_count": 25,
   "id": "f8761aed",
   "metadata": {},
   "outputs": [],
   "source": [
    "X=[]\n",
    "for image in images[:]:\n",
    "    img=cv2.imread(data+image,cv2.IMREAD_UNCHANGED)\n",
    "    img=cv2.bitwise_not(img)\n",
    "    X.append(img)\n",
    "X=np.array(X)"
   ]
  },
  {
   "cell_type": "code",
   "execution_count": 27,
   "id": "85b65072",
   "metadata": {},
   "outputs": [],
   "source": [
    "Y=[]\n",
    "for label in labels:\n",
    "    label_=[label]\n",
    "    Y.append(label_)"
   ]
  },
  {
   "cell_type": "code",
   "execution_count": 28,
   "id": "7ab03e5f",
   "metadata": {},
   "outputs": [
    {
     "data": {
      "text/plain": [
       "(18305, 256, 512)"
      ]
     },
     "execution_count": 28,
     "metadata": {},
     "output_type": "execute_result"
    }
   ],
   "source": [
    "X.shape"
   ]
  },
  {
   "cell_type": "code",
   "execution_count": 29,
   "id": "0621b443",
   "metadata": {},
   "outputs": [],
   "source": [
    "Y=np.array(Y)\n",
    "Y.shape"
   ]
  },
  {
   "cell_type": "code",
   "execution_count": 31,
   "id": "6eb00032",
   "metadata": {},
   "outputs": [],
   "source": [
    "X_train, X_test, y_train, y_test = train_test_split(X, Y, test_size=0.20, random_state=42)"
   ]
  },
  {
   "cell_type": "code",
   "execution_count": 32,
   "id": "21b186fd",
   "metadata": {},
   "outputs": [
    {
     "data": {
      "text/plain": [
       "(14644, 1)"
      ]
     },
     "execution_count": 32,
     "metadata": {},
     "output_type": "execute_result"
    }
   ],
   "source": [
    "y_train.shape"
   ]
  },
  {
   "cell_type": "code",
   "execution_count": 33,
   "id": "15bbfef6",
   "metadata": {},
   "outputs": [],
   "source": [
    "model=Sequential()"
   ]
  },
  {
   "cell_type": "code",
   "execution_count": 34,
   "id": "1b1fbd2b",
   "metadata": {},
   "outputs": [],
   "source": [
    "model.add(Input((256,512,1)))\n",
    "model.add(Conv2D(32,activation = 'relu',kernel_size = (3,5)))\n",
    "model.add(MaxPooling2D(pool_size = (2,2)))\n",
    "#model.add(BatchNormalization())\n",
    "model.add(Conv2D(64,activation = 'relu',kernel_size = (3,5)))\n",
    "model.add(MaxPooling2D(pool_size = (2,2)))\n",
    "model.add(Conv2D(128,activation = 'relu',kernel_size = (3,5)))\n",
    "model.add(BatchNormalization())\n",
    "model.add(MaxPooling2D(pool_size = (2,2)))\n",
    "model.add(Conv2D(256,activation = 'relu',kernel_size = (3,5)))\n",
    "model.add(BatchNormalization())\n",
    "model.add(MaxPooling2D(pool_size = (2,2)))\n",
    "model.add(Conv2D(512,activation = 'relu',kernel_size = (3,5)))\n",
    "model.add(MaxPooling2D(pool_size = (2,2)))\n",
    "# model.add(BatchNormalization())\n",
    "# model.add(Conv2D(1024,activation = 'relu',kernel_size = (3,4)))\n",
    "# model.add(MaxPooling2D(pool_size = (2,2)))\n",
    "model.add(Flatten())\n",
    "model.add(Dropout(0.35))\n",
    "model.add(Dense(64, activation = 'relu'))\n",
    "# model.add(Dropout(0.3))\n",
    "# model.add(Dense(16, activation = 'relu'))\n",
    "model.add(Dense(2, activation = \"softmax\"))"
   ]
  },
  {
   "cell_type": "code",
   "execution_count": 35,
   "id": "9a17580a",
   "metadata": {},
   "outputs": [],
   "source": [
    "opt = SGD(learning_rate=0.01, momentum=0.9)"
   ]
  },
  {
   "cell_type": "code",
   "execution_count": 36,
   "id": "07993a8d",
   "metadata": {},
   "outputs": [],
   "source": [
    "model.compile(loss = \"sparse_categorical_crossentropy\", optimizer = \"adam\", metrics=['accuracy'])"
   ]
  },
  {
   "cell_type": "code",
   "execution_count": 37,
   "id": "0ea8025b",
   "metadata": {},
   "outputs": [],
   "source": [
    "filename = 'model/saved_models/fraud_sign_det_test6_rect_kernel_try1.h5'"
   ]
  },
  {
   "cell_type": "code",
   "execution_count": 38,
   "id": "dc113d97",
   "metadata": {},
   "outputs": [],
   "source": [
    "checkpoint = ModelCheckpoint(filename, monitor='val_loss', verbose=1, save_best_only=True, mode='min')"
   ]
  },
  {
   "cell_type": "code",
   "execution_count": 39,
   "id": "01c87654",
   "metadata": {},
   "outputs": [
    {
     "name": "stdout",
     "output_type": "stream",
     "text": [
      "Model: \"sequential\"\n",
      "_________________________________________________________________\n",
      " Layer (type)                Output Shape              Param #   \n",
      "=================================================================\n",
      " conv2d (Conv2D)             (None, 254, 508, 32)      512       \n",
      "                                                                 \n",
      " max_pooling2d (MaxPooling2D  (None, 127, 254, 32)     0         \n",
      " )                                                               \n",
      "                                                                 \n",
      " conv2d_1 (Conv2D)           (None, 125, 250, 64)      30784     \n",
      "                                                                 \n",
      " max_pooling2d_1 (MaxPooling  (None, 62, 125, 64)      0         \n",
      " 2D)                                                             \n",
      "                                                                 \n",
      " conv2d_2 (Conv2D)           (None, 60, 121, 128)      123008    \n",
      "                                                                 \n",
      " batch_normalization (BatchN  (None, 60, 121, 128)     512       \n",
      " ormalization)                                                   \n",
      "                                                                 \n",
      " max_pooling2d_2 (MaxPooling  (None, 30, 60, 128)      0         \n",
      " 2D)                                                             \n",
      "                                                                 \n",
      " conv2d_3 (Conv2D)           (None, 28, 56, 256)       491776    \n",
      "                                                                 \n",
      " batch_normalization_1 (Batc  (None, 28, 56, 256)      1024      \n",
      " hNormalization)                                                 \n",
      "                                                                 \n",
      " max_pooling2d_3 (MaxPooling  (None, 14, 28, 256)      0         \n",
      " 2D)                                                             \n",
      "                                                                 \n",
      " conv2d_4 (Conv2D)           (None, 12, 24, 512)       1966592   \n",
      "                                                                 \n",
      " max_pooling2d_4 (MaxPooling  (None, 6, 12, 512)       0         \n",
      " 2D)                                                             \n",
      "                                                                 \n",
      " flatten (Flatten)           (None, 36864)             0         \n",
      "                                                                 \n",
      " dropout (Dropout)           (None, 36864)             0         \n",
      "                                                                 \n",
      " dense (Dense)               (None, 64)                2359360   \n",
      "                                                                 \n",
      " dense_1 (Dense)             (None, 2)                 130       \n",
      "                                                                 \n",
      "=================================================================\n",
      "Total params: 4,973,698\n",
      "Trainable params: 4,972,930\n",
      "Non-trainable params: 768\n",
      "_________________________________________________________________\n"
     ]
    }
   ],
   "source": [
    "model.summary()"
   ]
  },
  {
   "cell_type": "code",
   "execution_count": 40,
   "id": "86a47f0a",
   "metadata": {
    "scrolled": false
   },
   "outputs": [
    {
     "name": "stdout",
     "output_type": "stream",
     "text": [
      "Epoch 1/20\n",
      "916/916 [==============================] - ETA: 0s - loss: 0.7790 - accuracy: 0.6465\n",
      "Epoch 00001: val_loss improved from inf to 0.61919, saving model to model/saved_models\\fraud_sign_det_test6_rect_kernel_try1.h5\n",
      "916/916 [==============================] - 133s 137ms/step - loss: 0.7790 - accuracy: 0.6465 - val_loss: 0.6192 - val_accuracy: 0.6785\n",
      "Epoch 2/20\n",
      "916/916 [==============================] - ETA: 0s - loss: 0.5853 - accuracy: 0.7108\n",
      "Epoch 00002: val_loss did not improve from 0.61919\n",
      "916/916 [==============================] - 176s 193ms/step - loss: 0.5853 - accuracy: 0.7108 - val_loss: 0.6707 - val_accuracy: 0.6173\n",
      "Epoch 3/20\n",
      "916/916 [==============================] - ETA: 0s - loss: 0.5389 - accuracy: 0.7486\n",
      "Epoch 00003: val_loss improved from 0.61919 to 0.50728, saving model to model/saved_models\\fraud_sign_det_test6_rect_kernel_try1.h5\n",
      "916/916 [==============================] - 248s 271ms/step - loss: 0.5389 - accuracy: 0.7486 - val_loss: 0.5073 - val_accuracy: 0.7656\n",
      "Epoch 4/20\n",
      "916/916 [==============================] - ETA: 0s - loss: 0.4886 - accuracy: 0.7783\n",
      "Epoch 00004: val_loss did not improve from 0.50728\n",
      "916/916 [==============================] - 259s 283ms/step - loss: 0.4886 - accuracy: 0.7783 - val_loss: 0.5175 - val_accuracy: 0.7574\n",
      "Epoch 5/20\n",
      "916/916 [==============================] - ETA: 0s - loss: 0.4307 - accuracy: 0.8146\n",
      "Epoch 00005: val_loss improved from 0.50728 to 0.43413, saving model to model/saved_models\\fraud_sign_det_test6_rect_kernel_try1.h5\n",
      "916/916 [==============================] - 279s 304ms/step - loss: 0.4307 - accuracy: 0.8146 - val_loss: 0.4341 - val_accuracy: 0.8074\n",
      "Epoch 6/20\n",
      "916/916 [==============================] - ETA: 0s - loss: 0.3606 - accuracy: 0.8545\n",
      "Epoch 00006: val_loss improved from 0.43413 to 0.41484, saving model to model/saved_models\\fraud_sign_det_test6_rect_kernel_try1.h5\n",
      "916/916 [==============================] - 329s 360ms/step - loss: 0.3606 - accuracy: 0.8545 - val_loss: 0.4148 - val_accuracy: 0.8091\n",
      "Epoch 7/20\n",
      "916/916 [==============================] - ETA: 0s - loss: 0.2903 - accuracy: 0.8903\n",
      "Epoch 00007: val_loss improved from 0.41484 to 0.33297, saving model to model/saved_models\\fraud_sign_det_test6_rect_kernel_try1.h5\n",
      "916/916 [==============================] - 360s 393ms/step - loss: 0.2903 - accuracy: 0.8903 - val_loss: 0.3330 - val_accuracy: 0.8634\n",
      "Epoch 8/20\n",
      "916/916 [==============================] - ETA: 0s - loss: 0.2528 - accuracy: 0.9085\n",
      "Epoch 00008: val_loss did not improve from 0.33297\n",
      "916/916 [==============================] - 311s 339ms/step - loss: 0.2528 - accuracy: 0.9085 - val_loss: 0.4473 - val_accuracy: 0.8593\n",
      "Epoch 9/20\n",
      "916/916 [==============================] - ETA: 0s - loss: 0.1941 - accuracy: 0.9314\n",
      "Epoch 00009: val_loss did not improve from 0.33297\n",
      "916/916 [==============================] - 302s 330ms/step - loss: 0.1941 - accuracy: 0.9314 - val_loss: 0.3584 - val_accuracy: 0.8730\n",
      "Epoch 10/20\n",
      "916/916 [==============================] - ETA: 0s - loss: 0.1493 - accuracy: 0.9506\n",
      "Epoch 00010: val_loss improved from 0.33297 to 0.30857, saving model to model/saved_models\\fraud_sign_det_test6_rect_kernel_try1.h5\n",
      "916/916 [==============================] - 329s 360ms/step - loss: 0.1493 - accuracy: 0.9506 - val_loss: 0.3086 - val_accuracy: 0.8866\n",
      "Epoch 11/20\n",
      "916/916 [==============================] - ETA: 0s - loss: 0.1304 - accuracy: 0.9575\n",
      "Epoch 00011: val_loss did not improve from 0.30857\n",
      "916/916 [==============================] - 305s 333ms/step - loss: 0.1304 - accuracy: 0.9575 - val_loss: 0.5490 - val_accuracy: 0.8205\n",
      "Epoch 12/20\n",
      "916/916 [==============================] - ETA: 0s - loss: 0.1141 - accuracy: 0.9614\n",
      "Epoch 00012: val_loss did not improve from 0.30857\n",
      "916/916 [==============================] - 284s 310ms/step - loss: 0.1141 - accuracy: 0.9614 - val_loss: 0.3168 - val_accuracy: 0.8886\n",
      "Epoch 13/20\n",
      "916/916 [==============================] - ETA: 0s - loss: 0.0933 - accuracy: 0.9702\n",
      "Epoch 00013: val_loss improved from 0.30857 to 0.30638, saving model to model/saved_models\\fraud_sign_det_test6_rect_kernel_try1.h5\n",
      "916/916 [==============================] - 301s 328ms/step - loss: 0.0933 - accuracy: 0.9702 - val_loss: 0.3064 - val_accuracy: 0.8984\n",
      "Epoch 14/20\n",
      "916/916 [==============================] - ETA: 0s - loss: 0.0843 - accuracy: 0.9734\n",
      "Epoch 00014: val_loss improved from 0.30638 to 0.27540, saving model to model/saved_models\\fraud_sign_det_test6_rect_kernel_try1.h5\n",
      "916/916 [==============================] - 304s 332ms/step - loss: 0.0843 - accuracy: 0.9734 - val_loss: 0.2754 - val_accuracy: 0.8932\n",
      "Epoch 15/20\n",
      "916/916 [==============================] - ETA: 0s - loss: 0.0712 - accuracy: 0.9776\n",
      "Epoch 00015: val_loss did not improve from 0.27540\n",
      "916/916 [==============================] - 306s 333ms/step - loss: 0.0712 - accuracy: 0.9776 - val_loss: 0.3420 - val_accuracy: 0.9019\n",
      "Epoch 16/20\n",
      "916/916 [==============================] - ETA: 0s - loss: 0.0728 - accuracy: 0.9769\n",
      "Epoch 00016: val_loss did not improve from 0.27540\n",
      "916/916 [==============================] - 319s 348ms/step - loss: 0.0728 - accuracy: 0.9769 - val_loss: 0.3428 - val_accuracy: 0.8888\n",
      "Epoch 17/20\n",
      "916/916 [==============================] - ETA: 0s - loss: 0.0614 - accuracy: 0.9810\n",
      "Epoch 00017: val_loss did not improve from 0.27540\n",
      "916/916 [==============================] - 298s 325ms/step - loss: 0.0614 - accuracy: 0.9810 - val_loss: 0.3453 - val_accuracy: 0.9099\n",
      "Epoch 18/20\n",
      "916/916 [==============================] - ETA: 0s - loss: 0.0624 - accuracy: 0.9801\n",
      "Epoch 00018: val_loss did not improve from 0.27540\n",
      "916/916 [==============================] - 308s 337ms/step - loss: 0.0624 - accuracy: 0.9801 - val_loss: 0.2996 - val_accuracy: 0.9030\n",
      "Epoch 19/20\n",
      "916/916 [==============================] - ETA: 0s - loss: 0.0682 - accuracy: 0.9792\n",
      "Epoch 00019: val_loss did not improve from 0.27540\n",
      "916/916 [==============================] - 293s 320ms/step - loss: 0.0682 - accuracy: 0.9792 - val_loss: 0.3637 - val_accuracy: 0.8937\n",
      "Epoch 20/20\n",
      "916/916 [==============================] - ETA: 0s - loss: 0.0539 - accuracy: 0.9842\n",
      "Epoch 00020: val_loss did not improve from 0.27540\n",
      "916/916 [==============================] - 305s 333ms/step - loss: 0.0539 - accuracy: 0.9842 - val_loss: 0.4374 - val_accuracy: 0.9014\n"
     ]
    }
   ],
   "source": [
    "history = model.fit(X_train, y_train, validation_data=(X_test,y_test), epochs = 20, batch_size = 16,verbose=1, callbacks=[checkpoint])"
   ]
  },
  {
   "cell_type": "code",
   "execution_count": 41,
   "id": "c62dd94b",
   "metadata": {},
   "outputs": [],
   "source": [
    "def plot_accuracy(history):\n",
    "    plt.plot(history.history['val_accuracy'])\n",
    "    plt.plot(history.history['accuracy'])\n",
    "#     plt.plot(history.history['val_sparse_categorical_accuracy'])\n",
    "#     plt.plot(history.history['sparse_categorical_accuracy'])\n",
    "    plt.title('model accuracy')\n",
    "    plt.ylabel('accuracy')\n",
    "    plt.xlabel('epoch')\n",
    "    plt.legend(['val_accuracy', 'Train_accuracy'], loc = 'best')\n",
    "    plt.show()"
   ]
  },
  {
   "cell_type": "code",
   "execution_count": 42,
   "id": "1bb7d497",
   "metadata": {},
   "outputs": [
    {
     "data": {
      "image/png": "[encoded data removed]",
      "text/plain": [
       "<Figure size 432x288 with 1 Axes>"
      ]
     },
     "metadata": {
      "needs_background": "light"
     },
     "output_type": "display_data"
    }
   ],
   "source": [
    "plot_accuracy(history)"
   ]
  },
  {
   "cell_type": "code",
   "execution_count": 43,
   "id": "0cf1b166",
   "metadata": {},
   "outputs": [],
   "source": [
    "def plot_loss(history):\n",
    "    plt.plot(history.history['val_loss'])\n",
    "    plt.plot(history.history['loss'])\n",
    "    plt.title('model loss')\n",
    "    plt.ylabel('loss')\n",
    "    plt.xlabel('epoch')\n",
    "    plt.legend(['val_loss', 'train_loss'], loc = 'best')\n",
    "    plt.show()"
   ]
  },
  {
   "cell_type": "code",
   "execution_count": 44,
   "id": "20279ea6",
   "metadata": {},
   "outputs": [
    {
     "data": {
      "image/png": "[encoded data removed]",
      "text/plain": [
       "<Figure size 432x288 with 1 Axes>"
      ]
     },
     "metadata": {
      "needs_background": "light"
     },
     "output_type": "display_data"
    }
   ],
   "source": [
    "plot_loss(history)"
   ]
  }
 ],
 "metadata": {
  "kernelspec": {
   "display_name": "Python [conda env:gpu-env] *",
   "language": "python",
   "name": "conda-env-gpu-env-py"
  },
  "language_info": {
   "codemirror_mode": {
    "name": "ipython",
    "version": 3
   },
   "file_extension": ".py",
   "mimetype": "text/x-python",
   "name": "python",
   "nbconvert_exporter": "python",
   "pygments_lexer": "ipython3",
   "version": "3.8.11"
  }
 },
 "nbformat": 4,
 "nbformat_minor": 5
}
