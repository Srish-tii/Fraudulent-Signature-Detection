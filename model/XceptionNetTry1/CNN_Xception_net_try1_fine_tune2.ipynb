{
 "cells": [
  {
   "cell_type": "code",
   "execution_count": 1,
   "id": "e6d671f2",
   "metadata": {},
   "outputs": [
    {
     "name": "stdout",
     "output_type": "stream",
     "text": [
      "Num GPUs Available:  1\n"
     ]
    }
   ],
   "source": [
    "from tensorflow.python.client import device_lib\n",
    "#print(device_lib.list_local_devices())\n",
    "\n",
    "import tensorflow as tf\n",
    "print(\"Num GPUs Available: \", len(tf.config.experimental.list_physical_devices('GPU')))\n",
    "physical_devices = tf.config.list_physical_devices('GPU')\n",
    "#tf.config.experimental.set_memory_growth(physical_devices[0], enable=True)"
   ]
  },
  {
   "cell_type": "code",
   "execution_count": 2,
   "id": "1a8cfd27",
   "metadata": {},
   "outputs": [],
   "source": [
    "import tensorflow as tf\n",
    "import pandas as pd\n",
    "import matplotlib.pyplot as plt\n",
    "import cv2\n",
    "import numpy as np"
   ]
  },
  {
   "cell_type": "code",
   "execution_count": 3,
   "id": "4d616b4e",
   "metadata": {},
   "outputs": [],
   "source": [
    "from tensorflow import keras\n",
    "from tensorflow.keras import layers, models, metrics\n",
    "from tensorflow.keras.models import Sequential, load_model\n",
    "from tensorflow.keras.callbacks import ModelCheckpoint\n",
    "from tensorflow.keras import optimizers\n",
    "from tensorflow.keras.optimizers import SGD\n",
    "from tensorflow.keras.applications import *\n",
    "from tensorflow.keras.layers import BatchNormalization, Conv2D, MaxPooling2D, Flatten, Dense, Input, Dropout, GlobalMaxPooling2D \n",
    "from sklearn.model_selection import train_test_split"
   ]
  },
  {
   "cell_type": "code",
   "execution_count": 4,
   "id": "7b48e64d",
   "metadata": {},
   "outputs": [
    {
     "data": {
      "text/plain": [
       "'D:\\\\projects\\\\Personal\\\\Fraudulent-Signature-Detection\\\\model\\\\XceptionNetTry1'"
      ]
     },
     "execution_count": 4,
     "metadata": {},
     "output_type": "execute_result"
    }
   ],
   "source": [
    "pwd"
   ]
  },
  {
   "cell_type": "code",
   "execution_count": 5,
   "id": "256b11c1",
   "metadata": {},
   "outputs": [],
   "source": [
    "# data=\"../data/cleaned_all_data/\""
   ]
  },
  {
   "cell_type": "code",
   "execution_count": 6,
   "id": "c2e426fc",
   "metadata": {},
   "outputs": [],
   "source": [
    "# df=pd.read_csv(\"../data/annotated_data.csv\")"
   ]
  },
  {
   "cell_type": "code",
   "execution_count": 7,
   "id": "b68c71f0",
   "metadata": {},
   "outputs": [],
   "source": [
    "# images=df[\"data\"].values"
   ]
  },
  {
   "cell_type": "code",
   "execution_count": 8,
   "id": "fcec835c",
   "metadata": {},
   "outputs": [],
   "source": [
    "# labels=df[\"annotation\"].values"
   ]
  },
  {
   "cell_type": "code",
   "execution_count": 9,
   "id": "ec3ac30a",
   "metadata": {},
   "outputs": [],
   "source": [
    "# X=[]\n",
    "# Y=[]"
   ]
  },
  {
   "cell_type": "code",
   "execution_count": 10,
   "id": "820610e0",
   "metadata": {},
   "outputs": [],
   "source": [
    "# for image in images[:]:\n",
    "#     img=cv2.imread(data+image)\n",
    "#     img=cv2.bitwise_not(img)\n",
    "#     #img=img/255\n",
    "#     X.append(img)"
   ]
  },
  {
   "cell_type": "code",
   "execution_count": 11,
   "id": "4ef6322d",
   "metadata": {},
   "outputs": [],
   "source": [
    "# for label in labels:\n",
    "#     label_=[label]\n",
    "#     Y.append(label_)"
   ]
  },
  {
   "cell_type": "code",
   "execution_count": 12,
   "id": "f6bd65e6",
   "metadata": {},
   "outputs": [],
   "source": [
    "# X=np.array(X)\n",
    "# X.shape"
   ]
  },
  {
   "cell_type": "code",
   "execution_count": 13,
   "id": "b01d9590",
   "metadata": {},
   "outputs": [],
   "source": [
    "# print(X[3])"
   ]
  },
  {
   "cell_type": "code",
   "execution_count": 14,
   "id": "e353e266",
   "metadata": {},
   "outputs": [],
   "source": [
    "# Y=np.array(Y)\n",
    "# Y.shape"
   ]
  },
  {
   "cell_type": "code",
   "execution_count": 15,
   "id": "f5a2a7a2",
   "metadata": {},
   "outputs": [],
   "source": [
    "from numpy import save, load\n",
    "X_train=load('../../data/X_train.npy')\n",
    "y_train=load('../../data/y_train.npy')\n",
    "X_test=load('../../data/X_test.npy')\n",
    "y_test=load('../../data/y_test.npy')"
   ]
  },
  {
   "cell_type": "code",
   "execution_count": null,
   "id": "874dbcbc",
   "metadata": {},
   "outputs": [],
   "source": []
  },
  {
   "cell_type": "code",
   "execution_count": 16,
   "id": "a52a842e",
   "metadata": {},
   "outputs": [],
   "source": [
    "# X_train, X_test, y_train, y_test = train_test_split(X, Y, test_size=0.20, random_state=42)"
   ]
  },
  {
   "cell_type": "code",
   "execution_count": 17,
   "id": "60851a33",
   "metadata": {},
   "outputs": [],
   "source": [
    "# print(X_train[4])"
   ]
  },
  {
   "cell_type": "code",
   "execution_count": 18,
   "id": "68953c1b",
   "metadata": {},
   "outputs": [
    {
     "data": {
      "text/plain": [
       "((14644, 256, 512, 3), (14644, 1))"
      ]
     },
     "execution_count": 18,
     "metadata": {},
     "output_type": "execute_result"
    }
   ],
   "source": [
    "X_train.shape,y_train.shape"
   ]
  },
  {
   "cell_type": "code",
   "execution_count": 19,
   "id": "e287f372",
   "metadata": {},
   "outputs": [
    {
     "data": {
      "text/plain": [
       "((3661, 256, 512, 3), (3661, 1))"
      ]
     },
     "execution_count": 19,
     "metadata": {},
     "output_type": "execute_result"
    }
   ],
   "source": [
    "X_test.shape,y_test.shape"
   ]
  },
  {
   "cell_type": "code",
   "execution_count": 20,
   "id": "3cbb4f1c",
   "metadata": {},
   "outputs": [],
   "source": [
    "# for i in range(14644):\n",
    "#     X_train[i]=X_train[i]/255"
   ]
  },
  {
   "cell_type": "code",
   "execution_count": 21,
   "id": "78e1f92e",
   "metadata": {},
   "outputs": [],
   "source": [
    "# for i in range(3661):\n",
    "#     X_test[i]=X_test[i]/255"
   ]
  },
  {
   "cell_type": "code",
   "execution_count": null,
   "id": "4d726887",
   "metadata": {},
   "outputs": [],
   "source": []
  },
  {
   "cell_type": "code",
   "execution_count": 22,
   "id": "92bf5862",
   "metadata": {},
   "outputs": [],
   "source": [
    "# save(\"X_train.npy\",X_train)\n",
    "# save(\"y_train.npy\",y_train)\n",
    "# save(\"X_test.npy\",X_test)\n",
    "# save(\"y_test.npy\",y_test)"
   ]
  },
  {
   "cell_type": "code",
   "execution_count": null,
   "id": "ec1154c2",
   "metadata": {},
   "outputs": [],
   "source": []
  },
  {
   "cell_type": "code",
   "execution_count": 23,
   "id": "9bd15301",
   "metadata": {
    "scrolled": true
   },
   "outputs": [],
   "source": [
    "# print(X_train[4])"
   ]
  },
  {
   "cell_type": "code",
   "execution_count": 24,
   "id": "6868248c",
   "metadata": {},
   "outputs": [],
   "source": [
    "input_shape=(256,512,3)"
   ]
  },
  {
   "cell_type": "code",
   "execution_count": 25,
   "id": "2a19e015",
   "metadata": {},
   "outputs": [],
   "source": [
    "# base_model = keras.applications.Xception(\n",
    "#     weights=\"imagenet\",  # Load weights pre-trained on ImageNet.\n",
    "#     input_shape=(256, 512, 3),\n",
    "#     include_top=False,\n",
    "# )"
   ]
  },
  {
   "cell_type": "code",
   "execution_count": 26,
   "id": "ce3f44fb",
   "metadata": {},
   "outputs": [],
   "source": [
    "model=load_model(\"../saved_models/xcep_try1_ft1.h5\")"
   ]
  },
  {
   "cell_type": "code",
   "execution_count": 27,
   "id": "dd886bcd",
   "metadata": {},
   "outputs": [],
   "source": [
    "model.trainable=True"
   ]
  },
  {
   "cell_type": "code",
   "execution_count": 28,
   "id": "164bfbb7",
   "metadata": {},
   "outputs": [
    {
     "name": "stdout",
     "output_type": "stream",
     "text": [
      "Model: \"model\"\n",
      "_________________________________________________________________\n",
      " Layer (type)                Output Shape              Param #   \n",
      "=================================================================\n",
      " input_2 (InputLayer)        [(None, 256, 512, 3)]     0         \n",
      "                                                                 \n",
      " xception (Functional)       (None, 8, 16, 2048)       20861480  \n",
      "                                                                 \n",
      " global_average_pooling2d (G  (None, 2048)             0         \n",
      " lobalAveragePooling2D)                                          \n",
      "                                                                 \n",
      " dropout (Dropout)           (None, 2048)              0         \n",
      "                                                                 \n",
      " dense (Dense)               (None, 128)               262272    \n",
      "                                                                 \n",
      " dense_1 (Dense)             (None, 1)                 129       \n",
      "                                                                 \n",
      "=================================================================\n",
      "Total params: 21,123,881\n",
      "Trainable params: 21,069,353\n",
      "Non-trainable params: 54,528\n",
      "_________________________________________________________________\n"
     ]
    }
   ],
   "source": [
    "model.summary()"
   ]
  },
  {
   "cell_type": "code",
   "execution_count": 29,
   "id": "943ed204",
   "metadata": {},
   "outputs": [],
   "source": [
    "# base_model.trainable = False\n"
   ]
  },
  {
   "cell_type": "code",
   "execution_count": 30,
   "id": "4a3ae381",
   "metadata": {},
   "outputs": [],
   "source": [
    "# inputs = keras.Input(shape=(256, 512, 3))\n",
    "# x=inputs"
   ]
  },
  {
   "cell_type": "code",
   "execution_count": 31,
   "id": "d939e92f",
   "metadata": {},
   "outputs": [],
   "source": [
    "# x = base_model(x, training=False)\n",
    "# x = keras.layers.GlobalAveragePooling2D()(x)\n",
    "# x = keras.layers.Dropout(0.2)(x)  # Regularize with dropout\n",
    "# outputs = keras.layers.Dense(1)(x)\n",
    "# model = keras.Model(inputs, outputs)"
   ]
  },
  {
   "cell_type": "code",
   "execution_count": 32,
   "id": "eef7de4e",
   "metadata": {},
   "outputs": [],
   "source": [
    "# model.summary()"
   ]
  },
  {
   "cell_type": "code",
   "execution_count": 33,
   "id": "5bd31d5d",
   "metadata": {},
   "outputs": [],
   "source": [
    "# model.compile(\n",
    "#     optimizer=keras.optimizers.Adam(),\n",
    "#     loss=keras.losses.BinaryCrossentropy(from_logits=True),\n",
    "#     metrics=[keras.metrics.BinaryAccuracy()],\n",
    "# )\n",
    "\n",
    "# epochs = 20"
   ]
  },
  {
   "cell_type": "code",
   "execution_count": 34,
   "id": "ff964268",
   "metadata": {},
   "outputs": [],
   "source": [
    "# model.fit(X_train[:5000],y_train[:5000], epochs=epochs, validation_data=(X_test[:1000],y_test[:1000]))"
   ]
  },
  {
   "cell_type": "code",
   "execution_count": 35,
   "id": "41a6b32f",
   "metadata": {},
   "outputs": [],
   "source": [
    "# model.save(\"saved_models/exceptionNet.h5\")"
   ]
  },
  {
   "cell_type": "code",
   "execution_count": 36,
   "id": "9ade157f",
   "metadata": {},
   "outputs": [],
   "source": [
    "# base_model.trainable=True"
   ]
  },
  {
   "cell_type": "code",
   "execution_count": 37,
   "id": "4ccfe4e7",
   "metadata": {},
   "outputs": [],
   "source": [
    "# model.summary()"
   ]
  },
  {
   "cell_type": "code",
   "execution_count": 38,
   "id": "79065d82",
   "metadata": {},
   "outputs": [],
   "source": [
    "model.compile(\n",
    "    optimizer=keras.optimizers.Adam(1e-5),  # Low learning rate\n",
    "    loss=keras.losses.BinaryCrossentropy(from_logits=True),\n",
    "    metrics=[keras.metrics.BinaryAccuracy()],\n",
    ")"
   ]
  },
  {
   "cell_type": "code",
   "execution_count": 39,
   "id": "bda5aa76",
   "metadata": {},
   "outputs": [],
   "source": [
    "epochs1 = 10"
   ]
  },
  {
   "cell_type": "code",
   "execution_count": 40,
   "id": "1aad9085",
   "metadata": {},
   "outputs": [
    {
     "name": "stdout",
     "output_type": "stream",
     "text": [
      "Epoch 1/10\n",
      "1667/1667 [==============================] - 307s 177ms/step - loss: 0.2649 - binary_accuracy: 0.8928 - val_loss: 0.2216 - val_binary_accuracy: 0.9058accu\n",
      "Epoch 2/10\n",
      "1667/1667 [==============================] - 300s 180ms/step - loss: 0.1188 - binary_accuracy: 0.9538 - val_loss: 0.2416 - val_binary_accuracy: 0.9192\n",
      "Epoch 3/10\n",
      "1667/1667 [==============================] - 319s 191ms/step - loss: 0.0586 - binary_accuracy: 0.9764 - val_loss: 0.2385 - val_binary_accuracy: 0.9167\n",
      "Epoch 4/10\n",
      "1667/1667 [==============================] - 303s 182ms/step - loss: 0.0418 - binary_accuracy: 0.9872 - val_loss: 0.2216 - val_binary_accuracy: 0.9208\n",
      "Epoch 5/10\n",
      "1667/1667 [==============================] - 316s 190ms/step - loss: 0.0253 - binary_accuracy: 0.9918 - val_loss: 0.2095 - val_binary_accuracy: 0.9275 binary_accura - ETA: 1:45 - loss: 0.0168 - binary_accuracy: - ETA: 1:44 - loss: 0. - ETA: 1:39 - loss: 0.0169 - binary_accur - ETA: 1:37 - loss: 0.0168 - binary_accuracy: 0.9 - ETA: 1:36 - loss: 0.0170 - binary_accuracy - ETA: 1:35 - loss: 0.0169 - binary_accuracy:  - ETA: 1:34 - loss: 0.0169 - binary_accuracy: 0. - ETA: 1:33 - l - ETA: 1:27 - loss: 0.0163 - binary - ETA: 1: - ETA: 1:07 - loss: 0.0186 - binary_acc - ETA: 1:05 - loss: 0.0184 - binary_acc - ETA: 1:02 - loss: 0.0185 - ETA: 54s - loss - ETA: 51s - loss: 0.0185 - binary_ac - ETA: 12s - loss: 0.0230 - binary_accu - ETA: 11s - loss: 0.0233 - binary_accuracy: 0. - ETA: 11s - loss: 0.0233 - binary_accuracy - ETA: 1s - loss: 0.0253 - binary_accuracy\n",
      "Epoch 6/10\n",
      "1667/1667 [==============================] - 307s 184ms/step - loss: 0.0387 - binary_accuracy: 0.9872 - val_loss: 0.2347 - val_binary_accuracy: 0.9275\n",
      "Epoch 7/10\n",
      "1667/1667 [==============================] - 302s 181ms/step - loss: 0.0183 - binary_accuracy: 0.9932 - val_loss: 0.3070 - val_binary_accuracy: 0.9292\n",
      "Epoch 8/10\n",
      "1667/1667 [==============================] - 322s 193ms/step - loss: 0.0228 - binary_accuracy: 0.9924 - val_loss: 0.2233 - val_binary_accuracy: 0.9208TA: 3:49 - loss: 0.0121 - binary_accu - ETA: 3:48 - loss: 0.0117 - binary_accurac - ETA: 3: - ETA: 3:40 - loss: 0.0108 - binary_ -  - ETA: 3:05 - loss: 0.0172 - binary_accuracy: 0.994 - ETA: 3:05 - loss: 0.0177 - binary_accurac - ETA: 3:03 - loss: 0.0177 - b - ETA: 2:59 - loss: 0.0195 - binary_acc - ETA: 2:57 - ETA: 2:31 - loss: 0.0179 - binary_accurac - ETA: 2:29 - loss: 0.0177 - bin - ETA: 2:26 - l - ETA: 2:19 - loss: 0.0167 - binary_accuracy: 0 - ETA: 2:18 - loss:  - ETA: 2:12 - loss: - ETA: 2:06 - loss: 0.0169 - binary_accur - ETA: 2:04 - loss: 0.0167 - binary_ - ETA: 2:01 - loss: 0.0173 - binary_accuracy:  - ETA: 2:00 - loss: 0.0172 - bina - ETA: 1:56 - loss: 0.0170 - binary_ - ETA: 1:53 - l - ETA: 1:36 - loss: 0.0160 - binary_accurac - ETA: 1:35 - loss: 0.0158 - binary_accura - ETA: 1:33 - loss: 0.0157 - binary_accuracy: 0.994 - ETA: 1:32 - loss: 0.0157 - binary_accuracy: - ETA: 1:31 - loss - ETA: 1:25 - loss: 0.0152 - binary_acc - ETA: 1:22 - loss: 0 - ETA: 1:17 - loss: 0. - ETA: 1:11 - los - ETA: 7s - loss: 0.0197 - binary_accuracy: 0. - ETA: 6s - loss: 0.0222 - binary_accurac - ETA: 5s - loss: 0.02\n",
      "Epoch 9/10\n",
      "1667/1667 [==============================] - 302s 181ms/step - loss: 0.0138 - binary_accuracy: 0.9952 - val_loss: 0.3293 - val_binary_accuracy: 0.9100\n",
      "Epoch 10/10\n",
      "1667/1667 [==============================] - 314s 188ms/step - loss: 0.0207 - binary_accuracy: 0.9926 - val_loss: 0.2456 - val_binary_accuracy: 0.9300 0.0370 - binary_accuracy: 0.98 - ETA: 3:32 - loss: 0.0369 - binary_ac - ETA: 3:29 - loss - ETA: 3:05 - loss: 0.0335 - binary_accuracy - ETA: 3:0 - ETA: 2:10 - loss: 0.0309 - binary_accuracy: 0.9 - ETA: 2:10 - loss: 0 - ETA: 2:04 - loss: 0.0299 - binary - ETA: 2:01 - loss: 0.0295 - binary_accuracy: - ETA: 2:00 - loss: 0.0294 - binar - ETA: 1:57 - loss: 0.0289 - binary_accuracy: 0.9 - ETA: 1:57 - loss: 0.0288 - binary_accuracy - ETA: 1:55 - loss: 0.0290 - binary_acc - ET - ETA: 45s - loss: 0.0225 - binary_ac - ETA: 44s  - ETA: 41s - loss: 0.0224 - binary_accuracy: 0.99 - ETA: 40s - loss: 0. - ETA: 19 - ETA: 11s - loss: 0.0213 - binary_accuracy: 0. - ETA: 10s - loss: 0.0213 - - ETA: 7s - loss: - ETA: 1s - loss: 0.0207 - binary_accur\n"
     ]
    }
   ],
   "source": [
    "history_fine_tune=model.fit(X_train[5000:10000],y_train[5000:10000], batch_size=3, epochs=epochs1, validation_data=(X_test[1200:2400],y_test[1200:2400]))"
   ]
  },
  {
   "cell_type": "code",
   "execution_count": 41,
   "id": "42fd4c24",
   "metadata": {},
   "outputs": [
    {
     "name": "stderr",
     "output_type": "stream",
     "text": [
      "D:\\projects\\Jupyter\\gpu-env\\lib\\site-packages\\keras\\engine\\functional.py:1410: CustomMaskWarning: Custom mask layers require a config and must override get_config. When loading, the custom mask layer must be passed to the custom_objects argument.\n",
      "  layer_config = serialize_layer_fn(layer)\n"
     ]
    }
   ],
   "source": [
    "model.save(\"../saved_models/xcep_try1_ft2.h5\")"
   ]
  },
  {
   "cell_type": "code",
   "execution_count": 42,
   "id": "42ef9071",
   "metadata": {},
   "outputs": [],
   "source": [
    "def plot_accuracy(history):\n",
    "    plt.plot(history.history['val_binary_accuracy'])\n",
    "    plt.plot(history.history['binary_accuracy'])\n",
    "#     plt.plot(history.history['val_sparse_categorical_accuracy'])\n",
    "#     plt.plot(history.history['sparse_categorical_accuracy'])\n",
    "    plt.title('model accuracy')\n",
    "    plt.ylabel('accuracy')\n",
    "    plt.xlabel('epoch')\n",
    "    plt.legend(['val_accuracy', 'Train_accuracy'], loc = 'best')\n",
    "    plt.show()"
   ]
  },
  {
   "cell_type": "code",
   "execution_count": 43,
   "id": "d27c0dd8",
   "metadata": {},
   "outputs": [
    {
     "data": {
      "image/png": "[encoded data removed]",
      "text/plain": [
       "<Figure size 432x288 with 1 Axes>"
      ]
     },
     "metadata": {
      "needs_background": "light"
     },
     "output_type": "display_data"
    }
   ],
   "source": [
    "plot_accuracy(history_fine_tune)"
   ]
  },
  {
   "cell_type": "code",
   "execution_count": 44,
   "id": "9435731d",
   "metadata": {},
   "outputs": [],
   "source": [
    "def plot_loss(history):\n",
    "    plt.plot(history.history['val_loss'])\n",
    "    plt.plot(history.history['loss'])\n",
    "    plt.title('model loss')\n",
    "    plt.ylabel('loss')\n",
    "    plt.xlabel('epoch')\n",
    "    plt.legend(['val_loss', 'train_loss'], loc = 'best')\n",
    "    plt.show()"
   ]
  },
  {
   "cell_type": "code",
   "execution_count": 45,
   "id": "54426d32",
   "metadata": {},
   "outputs": [
    {
     "data": {
      "image/png": "[encoded data removed]",
      "text/plain": [
       "<Figure size 432x288 with 1 Axes>"
      ]
     },
     "metadata": {
      "needs_background": "light"
     },
     "output_type": "display_data"
    }
   ],
   "source": [
    "plot_loss(history_fine_tune)"
   ]
  },
  {
   "cell_type": "code",
   "execution_count": null,
   "id": "efb342f1",
   "metadata": {},
   "outputs": [],
   "source": []
  }
 ],
 "metadata": {
  "kernelspec": {
   "display_name": "Python [conda env:gpu-env] *",
   "language": "python",
   "name": "conda-env-gpu-env-py"
  },
  "language_info": {
   "codemirror_mode": {
    "name": "ipython",
    "version": 3
   },
   "file_extension": ".py",
   "mimetype": "text/x-python",
   "name": "python",
   "nbconvert_exporter": "python",
   "pygments_lexer": "ipython3",
   "version": "3.8.11"
  }
 },
 "nbformat": 4,
 "nbformat_minor": 5
}
