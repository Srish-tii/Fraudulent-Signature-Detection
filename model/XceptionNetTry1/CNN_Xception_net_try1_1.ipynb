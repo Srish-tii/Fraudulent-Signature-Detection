{
 "cells": [
  {
   "cell_type": "code",
   "execution_count": 1,
   "id": "e6d671f2",
   "metadata": {},
   "outputs": [
    {
     "name": "stdout",
     "output_type": "stream",
     "text": [
      "Num GPUs Available:  1\n"
     ]
    }
   ],
   "source": [
    "from tensorflow.python.client import device_lib\n",
    "#print(device_lib.list_local_devices())\n",
    "\n",
    "import tensorflow as tf\n",
    "print(\"Num GPUs Available: \", len(tf.config.experimental.list_physical_devices('GPU')))\n",
    "physical_devices = tf.config.list_physical_devices('GPU')\n",
    "#tf.config.experimental.set_memory_growth(physical_devices[0], enable=True)"
   ]
  },
  {
   "cell_type": "code",
   "execution_count": 2,
   "id": "1a8cfd27",
   "metadata": {},
   "outputs": [],
   "source": [
    "import tensorflow as tf\n",
    "import pandas as pd\n",
    "import matplotlib.pyplot as plt\n",
    "import cv2\n",
    "import numpy as np"
   ]
  },
  {
   "cell_type": "code",
   "execution_count": 3,
   "id": "4d616b4e",
   "metadata": {},
   "outputs": [],
   "source": [
    "from tensorflow import keras\n",
    "from tensorflow.keras import layers, models, metrics\n",
    "from tensorflow.keras.models import Sequential, load_model\n",
    "from tensorflow.keras.callbacks import ModelCheckpoint\n",
    "from tensorflow.keras import optimizers\n",
    "from tensorflow.keras.optimizers import SGD\n",
    "from tensorflow.keras.applications import *\n",
    "from tensorflow.keras.layers import BatchNormalization, Conv2D, MaxPooling2D, Flatten, Dense, Input, Dropout, GlobalMaxPooling2D \n",
    "from sklearn.model_selection import train_test_split"
   ]
  },
  {
   "cell_type": "code",
   "execution_count": 4,
   "id": "7b48e64d",
   "metadata": {},
   "outputs": [
    {
     "data": {
      "text/plain": [
       "'D:\\\\projects\\\\Personal\\\\Fraudulent-Signature-Detection\\\\model\\\\XceptionNetTry1'"
      ]
     },
     "execution_count": 4,
     "metadata": {},
     "output_type": "execute_result"
    }
   ],
   "source": [
    "pwd"
   ]
  },
  {
   "cell_type": "code",
   "execution_count": 5,
   "id": "256b11c1",
   "metadata": {},
   "outputs": [],
   "source": [
    "# data=\"../data/cleaned_all_data/\""
   ]
  },
  {
   "cell_type": "code",
   "execution_count": 6,
   "id": "c2e426fc",
   "metadata": {},
   "outputs": [],
   "source": [
    "# df=pd.read_csv(\"../data/annotated_data.csv\")"
   ]
  },
  {
   "cell_type": "code",
   "execution_count": 7,
   "id": "b68c71f0",
   "metadata": {},
   "outputs": [],
   "source": [
    "# images=df[\"data\"].values"
   ]
  },
  {
   "cell_type": "code",
   "execution_count": 8,
   "id": "fcec835c",
   "metadata": {},
   "outputs": [],
   "source": [
    "# labels=df[\"annotation\"].values"
   ]
  },
  {
   "cell_type": "code",
   "execution_count": 9,
   "id": "ec3ac30a",
   "metadata": {},
   "outputs": [],
   "source": [
    "# X=[]\n",
    "# Y=[]"
   ]
  },
  {
   "cell_type": "code",
   "execution_count": 10,
   "id": "820610e0",
   "metadata": {},
   "outputs": [],
   "source": [
    "# for image in images[:]:\n",
    "#     img=cv2.imread(data+image)\n",
    "#     img=cv2.bitwise_not(img)\n",
    "#     #img=img/255\n",
    "#     X.append(img)"
   ]
  },
  {
   "cell_type": "code",
   "execution_count": 11,
   "id": "4ef6322d",
   "metadata": {},
   "outputs": [],
   "source": [
    "# for label in labels:\n",
    "#     label_=[label]\n",
    "#     Y.append(label_)"
   ]
  },
  {
   "cell_type": "code",
   "execution_count": 12,
   "id": "f6bd65e6",
   "metadata": {},
   "outputs": [],
   "source": [
    "# X=np.array(X)\n",
    "# X.shape"
   ]
  },
  {
   "cell_type": "code",
   "execution_count": 13,
   "id": "b01d9590",
   "metadata": {},
   "outputs": [],
   "source": [
    "# print(X[3])"
   ]
  },
  {
   "cell_type": "code",
   "execution_count": 14,
   "id": "e353e266",
   "metadata": {},
   "outputs": [],
   "source": [
    "# Y=np.array(Y)\n",
    "# Y.shape"
   ]
  },
  {
   "cell_type": "code",
   "execution_count": 15,
   "id": "f5a2a7a2",
   "metadata": {},
   "outputs": [],
   "source": [
    "from numpy import save, load\n",
    "X_train=load('../../data/X_train.npy')\n",
    "y_train=load('../../data/y_train.npy')\n",
    "X_test=load('../../data/X_test.npy')\n",
    "y_test=load('../../data/y_test.npy')"
   ]
  },
  {
   "cell_type": "code",
   "execution_count": null,
   "id": "874dbcbc",
   "metadata": {},
   "outputs": [],
   "source": []
  },
  {
   "cell_type": "code",
   "execution_count": 16,
   "id": "a52a842e",
   "metadata": {},
   "outputs": [],
   "source": [
    "# X_train, X_test, y_train, y_test = train_test_split(X, Y, test_size=0.20, random_state=42)"
   ]
  },
  {
   "cell_type": "code",
   "execution_count": 17,
   "id": "60851a33",
   "metadata": {},
   "outputs": [],
   "source": [
    "# print(X_train[4])"
   ]
  },
  {
   "cell_type": "code",
   "execution_count": 18,
   "id": "68953c1b",
   "metadata": {},
   "outputs": [
    {
     "data": {
      "text/plain": [
       "((14644, 256, 512, 3), (14644, 1))"
      ]
     },
     "execution_count": 18,
     "metadata": {},
     "output_type": "execute_result"
    }
   ],
   "source": [
    "X_train.shape,y_train.shape"
   ]
  },
  {
   "cell_type": "code",
   "execution_count": 19,
   "id": "e287f372",
   "metadata": {},
   "outputs": [
    {
     "data": {
      "text/plain": [
       "((3661, 256, 512, 3), (3661, 1))"
      ]
     },
     "execution_count": 19,
     "metadata": {},
     "output_type": "execute_result"
    }
   ],
   "source": [
    "X_test.shape,y_test.shape"
   ]
  },
  {
   "cell_type": "code",
   "execution_count": 20,
   "id": "3cbb4f1c",
   "metadata": {},
   "outputs": [],
   "source": [
    "# for i in range(14644):\n",
    "#     X_train[i]=X_train[i]/255"
   ]
  },
  {
   "cell_type": "code",
   "execution_count": 21,
   "id": "78e1f92e",
   "metadata": {},
   "outputs": [],
   "source": [
    "# for i in range(3661):\n",
    "#     X_test[i]=X_test[i]/255"
   ]
  },
  {
   "cell_type": "code",
   "execution_count": null,
   "id": "4d726887",
   "metadata": {},
   "outputs": [],
   "source": []
  },
  {
   "cell_type": "code",
   "execution_count": 22,
   "id": "92bf5862",
   "metadata": {},
   "outputs": [],
   "source": [
    "# save(\"X_train.npy\",X_train)\n",
    "# save(\"y_train.npy\",y_train)\n",
    "# save(\"X_test.npy\",X_test)\n",
    "# save(\"y_test.npy\",y_test)"
   ]
  },
  {
   "cell_type": "code",
   "execution_count": null,
   "id": "ec1154c2",
   "metadata": {},
   "outputs": [],
   "source": []
  },
  {
   "cell_type": "code",
   "execution_count": 23,
   "id": "9bd15301",
   "metadata": {
    "scrolled": true
   },
   "outputs": [],
   "source": [
    "# print(X_train[4])"
   ]
  },
  {
   "cell_type": "code",
   "execution_count": 24,
   "id": "6868248c",
   "metadata": {},
   "outputs": [],
   "source": [
    "input_shape=(256,512,3)"
   ]
  },
  {
   "cell_type": "code",
   "execution_count": 25,
   "id": "2a19e015",
   "metadata": {},
   "outputs": [],
   "source": [
    "# base_model = keras.applications.Xception(\n",
    "#     weights=\"imagenet\",  # Load weights pre-trained on ImageNet.\n",
    "#     input_shape=(256, 512, 3),\n",
    "#     include_top=False,\n",
    "# )"
   ]
  },
  {
   "cell_type": "code",
   "execution_count": 26,
   "id": "4d7b9f69",
   "metadata": {},
   "outputs": [],
   "source": [
    "# base_model.trainable = False\n"
   ]
  },
  {
   "cell_type": "code",
   "execution_count": 27,
   "id": "eb7b0600",
   "metadata": {},
   "outputs": [],
   "source": [
    "# inputs = keras.Input(shape=(256, 512, 3))\n",
    "# x=inputs"
   ]
  },
  {
   "cell_type": "code",
   "execution_count": 28,
   "id": "081a6435",
   "metadata": {},
   "outputs": [],
   "source": [
    "# x = base_model(x, training=False)\n",
    "# x = keras.layers.GlobalAveragePooling2D()(x)\n",
    "# x = keras.layers.Dropout(0.2)(x)  # Regularize with dropout\n",
    "# x= keras.layers.Dense(128)(x)\n",
    "# outputs = keras.layers.Dense(1)(x)\n",
    "# model = keras.Model(inputs, outputs)"
   ]
  },
  {
   "cell_type": "code",
   "execution_count": 29,
   "id": "595c0155",
   "metadata": {},
   "outputs": [],
   "source": [
    "model=load_model(\"../saved_models/xcep_try1_base1.h5\")"
   ]
  },
  {
   "cell_type": "code",
   "execution_count": 30,
   "id": "20bba33d",
   "metadata": {},
   "outputs": [
    {
     "name": "stdout",
     "output_type": "stream",
     "text": [
      "Model: \"model\"\n",
      "_________________________________________________________________\n",
      " Layer (type)                Output Shape              Param #   \n",
      "=================================================================\n",
      " input_2 (InputLayer)        [(None, 256, 512, 3)]     0         \n",
      "                                                                 \n",
      " xception (Functional)       (None, 8, 16, 2048)       20861480  \n",
      "                                                                 \n",
      " global_average_pooling2d (G  (None, 2048)             0         \n",
      " lobalAveragePooling2D)                                          \n",
      "                                                                 \n",
      " dropout (Dropout)           (None, 2048)              0         \n",
      "                                                                 \n",
      " dense (Dense)               (None, 128)               262272    \n",
      "                                                                 \n",
      " dense_1 (Dense)             (None, 1)                 129       \n",
      "                                                                 \n",
      "=================================================================\n",
      "Total params: 21,123,881\n",
      "Trainable params: 262,401\n",
      "Non-trainable params: 20,861,480\n",
      "_________________________________________________________________\n"
     ]
    }
   ],
   "source": [
    "model.summary()"
   ]
  },
  {
   "cell_type": "code",
   "execution_count": 31,
   "id": "042c70ec",
   "metadata": {},
   "outputs": [],
   "source": [
    "model.compile(\n",
    "    optimizer=keras.optimizers.Adam(),\n",
    "    loss=keras.losses.BinaryCrossentropy(from_logits=True),\n",
    "    metrics=[keras.metrics.BinaryAccuracy()],\n",
    ")\n",
    "\n",
    "epochs = 20"
   ]
  },
  {
   "cell_type": "code",
   "execution_count": 32,
   "id": "a41a7a2a",
   "metadata": {},
   "outputs": [
    {
     "name": "stdout",
     "output_type": "stream",
     "text": [
      "Epoch 1/20\n",
      "157/157 [==============================] - 66s 349ms/step - loss: 0.5318 - binary_accuracy: 0.7230 - val_loss: 0.4962 - val_binary_accuracy: 0.7342\n",
      "Epoch 2/20\n",
      "157/157 [==============================] - 54s 343ms/step - loss: 0.5310 - binary_accuracy: 0.7190 - val_loss: 0.5006 - val_binary_accuracy: 0.7092\n",
      "Epoch 3/20\n",
      "157/157 [==============================] - 55s 348ms/step - loss: 0.5170 - binary_accuracy: 0.7304 - val_loss: 0.4866 - val_binary_accuracy: 0.7325\n",
      "Epoch 4/20\n",
      "157/157 [==============================] - 55s 353ms/step - loss: 0.5012 - binary_accuracy: 0.7428 - val_loss: 0.4808 - val_binary_accuracy: 0.7400\n",
      "Epoch 5/20\n",
      "157/157 [==============================] - 56s 356ms/step - loss: 0.5041 - binary_accuracy: 0.7390 - val_loss: 0.4801 - val_binary_accuracy: 0.7450\n",
      "Epoch 6/20\n",
      "157/157 [==============================] - 58s 369ms/step - loss: 0.5058 - binary_accuracy: 0.7438 - val_loss: 0.5315 - val_binary_accuracy: 0.7617\n",
      "Epoch 7/20\n",
      "157/157 [==============================] - 57s 364ms/step - loss: 0.5034 - binary_accuracy: 0.7414 - val_loss: 0.5006 - val_binary_accuracy: 0.7658\n",
      "Epoch 8/20\n",
      "157/157 [==============================] - 59s 376ms/step - loss: 0.4891 - binary_accuracy: 0.7502 - val_loss: 0.4849 - val_binary_accuracy: 0.7533\n",
      "Epoch 9/20\n",
      "157/157 [==============================] - 60s 381ms/step - loss: 0.4841 - binary_accuracy: 0.7562 - val_loss: 0.4757 - val_binary_accuracy: 0.7458\n",
      "Epoch 10/20\n",
      "157/157 [==============================] - 61s 391ms/step - loss: 0.5016 - binary_accuracy: 0.7436 - val_loss: 0.4790 - val_binary_accuracy: 0.7517\n",
      "Epoch 11/20\n",
      "157/157 [==============================] - 64s 406ms/step - loss: 0.4741 - binary_accuracy: 0.7618 - val_loss: 0.4819 - val_binary_accuracy: 0.7750\n",
      "Epoch 12/20\n",
      "157/157 [==============================] - 69s 439ms/step - loss: 0.4816 - binary_accuracy: 0.7568 - val_loss: 0.4848 - val_binary_accuracy: 0.7417\n",
      "Epoch 13/20\n",
      "157/157 [==============================] - 65s 412ms/step - loss: 0.4766 - binary_accuracy: 0.7602 - val_loss: 0.4978 - val_binary_accuracy: 0.7608\n",
      "Epoch 14/20\n",
      "157/157 [==============================] - 62s 396ms/step - loss: 0.4818 - binary_accuracy: 0.7658 - val_loss: 0.4852 - val_binary_accuracy: 0.7642\n",
      "Epoch 15/20\n",
      "157/157 [==============================] - 62s 395ms/step - loss: 0.4750 - binary_accuracy: 0.7620 - val_loss: 0.4956 - val_binary_accuracy: 0.7133\n",
      "Epoch 16/20\n",
      "157/157 [==============================] - 59s 379ms/step - loss: 0.4651 - binary_accuracy: 0.7704 - val_loss: 0.4753 - val_binary_accuracy: 0.7567\n",
      "Epoch 17/20\n",
      "157/157 [==============================] - 57s 366ms/step - loss: 0.4596 - binary_accuracy: 0.7704 - val_loss: 0.4784 - val_binary_accuracy: 0.7550\n",
      "Epoch 18/20\n",
      "157/157 [==============================] - 59s 376ms/step - loss: 0.4664 - binary_accuracy: 0.7610 - val_loss: 0.4935 - val_binary_accuracy: 0.7700\n",
      "Epoch 19/20\n",
      "157/157 [==============================] - 58s 371ms/step - loss: 0.4668 - binary_accuracy: 0.7670 - val_loss: 0.4735 - val_binary_accuracy: 0.7383\n",
      "Epoch 20/20\n",
      "157/157 [==============================] - 60s 382ms/step - loss: 0.4642 - binary_accuracy: 0.7680 - val_loss: 0.4798 - val_binary_accuracy: 0.7483\n"
     ]
    }
   ],
   "source": [
    "base_model=model.fit(X_train[5000:10000],y_train[5000:10000], epochs=epochs, validation_data=(X_test[1000:2200],y_test[1000:2200]))"
   ]
  },
  {
   "cell_type": "code",
   "execution_count": 33,
   "id": "387ee5c2",
   "metadata": {},
   "outputs": [
    {
     "name": "stderr",
     "output_type": "stream",
     "text": [
      "D:\\projects\\Jupyter\\gpu-env\\lib\\site-packages\\keras\\engine\\functional.py:1410: CustomMaskWarning: Custom mask layers require a config and must override get_config. When loading, the custom mask layer must be passed to the custom_objects argument.\n",
      "  layer_config = serialize_layer_fn(layer)\n"
     ]
    }
   ],
   "source": [
    "model.save(\"../saved_models/xcep_try1_base2.h5\")"
   ]
  },
  {
   "cell_type": "code",
   "execution_count": null,
   "id": "c9bb0251",
   "metadata": {},
   "outputs": [],
   "source": []
  }
 ],
 "metadata": {
  "kernelspec": {
   "display_name": "Python 3 (ipykernel)",
   "language": "python",
   "name": "python3"
  },
  "language_info": {
   "codemirror_mode": {
    "name": "ipython",
    "version": 3
   },
   "file_extension": ".py",
   "mimetype": "text/x-python",
   "name": "python",
   "nbconvert_exporter": "python",
   "pygments_lexer": "ipython3",
   "version": "3.8.11"
  }
 },
 "nbformat": 4,
 "nbformat_minor": 5
}
