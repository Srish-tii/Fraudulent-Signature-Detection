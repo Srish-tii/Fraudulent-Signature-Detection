{
 "cells": [
  {
   "cell_type": "code",
   "execution_count": 1,
   "id": "e6d671f2",
   "metadata": {},
   "outputs": [
    {
     "name": "stdout",
     "output_type": "stream",
     "text": [
      "Num GPUs Available:  1\n"
     ]
    }
   ],
   "source": [
    "from tensorflow.python.client import device_lib\n",
    "#print(device_lib.list_local_devices())\n",
    "\n",
    "import tensorflow as tf\n",
    "print(\"Num GPUs Available: \", len(tf.config.experimental.list_physical_devices('GPU')))\n",
    "physical_devices = tf.config.list_physical_devices('GPU')\n",
    "#tf.config.experimental.set_memory_growth(physical_devices[0], enable=True)"
   ]
  },
  {
   "cell_type": "code",
   "execution_count": 2,
   "id": "1a8cfd27",
   "metadata": {},
   "outputs": [],
   "source": [
    "import tensorflow as tf\n",
    "import pandas as pd\n",
    "import matplotlib.pyplot as plt\n",
    "import cv2\n",
    "import numpy as np"
   ]
  },
  {
   "cell_type": "code",
   "execution_count": 3,
   "id": "4d616b4e",
   "metadata": {},
   "outputs": [],
   "source": [
    "from tensorflow import keras\n",
    "from tensorflow.keras import layers, models, metrics\n",
    "from tensorflow.keras.models import Sequential, load_model\n",
    "from tensorflow.keras.callbacks import ModelCheckpoint\n",
    "from tensorflow.keras import optimizers\n",
    "from tensorflow.keras.optimizers import SGD\n",
    "from tensorflow.keras.applications import *\n",
    "from tensorflow.keras.layers import BatchNormalization, Conv2D, MaxPooling2D, Flatten, Dense, Input, Dropout, GlobalMaxPooling2D \n",
    "from sklearn.model_selection import train_test_split"
   ]
  },
  {
   "cell_type": "code",
   "execution_count": 4,
   "id": "7b48e64d",
   "metadata": {},
   "outputs": [
    {
     "data": {
      "text/plain": [
       "'D:\\\\projects\\\\Personal\\\\Fraudulent-Signature-Detection\\\\model\\\\XceptionNetTry1'"
      ]
     },
     "execution_count": 4,
     "metadata": {},
     "output_type": "execute_result"
    }
   ],
   "source": [
    "pwd"
   ]
  },
  {
   "cell_type": "code",
   "execution_count": 5,
   "id": "256b11c1",
   "metadata": {},
   "outputs": [],
   "source": [
    "# data=\"../data/cleaned_all_data/\""
   ]
  },
  {
   "cell_type": "code",
   "execution_count": 6,
   "id": "c2e426fc",
   "metadata": {},
   "outputs": [],
   "source": [
    "# df=pd.read_csv(\"../data/annotated_data.csv\")"
   ]
  },
  {
   "cell_type": "code",
   "execution_count": 7,
   "id": "b68c71f0",
   "metadata": {},
   "outputs": [],
   "source": [
    "# images=df[\"data\"].values"
   ]
  },
  {
   "cell_type": "code",
   "execution_count": 8,
   "id": "fcec835c",
   "metadata": {},
   "outputs": [],
   "source": [
    "# labels=df[\"annotation\"].values"
   ]
  },
  {
   "cell_type": "code",
   "execution_count": 9,
   "id": "ec3ac30a",
   "metadata": {},
   "outputs": [],
   "source": [
    "# X=[]\n",
    "# Y=[]"
   ]
  },
  {
   "cell_type": "code",
   "execution_count": 10,
   "id": "820610e0",
   "metadata": {},
   "outputs": [],
   "source": [
    "# for image in images[:]:\n",
    "#     img=cv2.imread(data+image)\n",
    "#     img=cv2.bitwise_not(img)\n",
    "#     #img=img/255\n",
    "#     X.append(img)"
   ]
  },
  {
   "cell_type": "code",
   "execution_count": 11,
   "id": "4ef6322d",
   "metadata": {},
   "outputs": [],
   "source": [
    "# for label in labels:\n",
    "#     label_=[label]\n",
    "#     Y.append(label_)"
   ]
  },
  {
   "cell_type": "code",
   "execution_count": 12,
   "id": "f6bd65e6",
   "metadata": {},
   "outputs": [],
   "source": [
    "# X=np.array(X)\n",
    "# X.shape"
   ]
  },
  {
   "cell_type": "code",
   "execution_count": 13,
   "id": "b01d9590",
   "metadata": {},
   "outputs": [],
   "source": [
    "# print(X[3])"
   ]
  },
  {
   "cell_type": "code",
   "execution_count": 14,
   "id": "e353e266",
   "metadata": {},
   "outputs": [],
   "source": [
    "# Y=np.array(Y)\n",
    "# Y.shape"
   ]
  },
  {
   "cell_type": "code",
   "execution_count": 15,
   "id": "f5a2a7a2",
   "metadata": {},
   "outputs": [],
   "source": [
    "from numpy import save, load\n",
    "X_train=load('../../data/X_train.npy')\n",
    "y_train=load('../../data/y_train.npy')\n",
    "X_test=load('../../data/X_test.npy')\n",
    "y_test=load('../../data/y_test.npy')"
   ]
  },
  {
   "cell_type": "code",
   "execution_count": null,
   "id": "874dbcbc",
   "metadata": {},
   "outputs": [],
   "source": []
  },
  {
   "cell_type": "code",
   "execution_count": 16,
   "id": "a52a842e",
   "metadata": {},
   "outputs": [],
   "source": [
    "# X_train, X_test, y_train, y_test = train_test_split(X, Y, test_size=0.20, random_state=42)"
   ]
  },
  {
   "cell_type": "code",
   "execution_count": 17,
   "id": "60851a33",
   "metadata": {},
   "outputs": [],
   "source": [
    "# print(X_train[4])"
   ]
  },
  {
   "cell_type": "code",
   "execution_count": 18,
   "id": "68953c1b",
   "metadata": {},
   "outputs": [
    {
     "data": {
      "text/plain": [
       "((14644, 256, 512, 3), (14644, 1))"
      ]
     },
     "execution_count": 18,
     "metadata": {},
     "output_type": "execute_result"
    }
   ],
   "source": [
    "X_train.shape,y_train.shape"
   ]
  },
  {
   "cell_type": "code",
   "execution_count": 19,
   "id": "e287f372",
   "metadata": {},
   "outputs": [
    {
     "data": {
      "text/plain": [
       "((3661, 256, 512, 3), (3661, 1))"
      ]
     },
     "execution_count": 19,
     "metadata": {},
     "output_type": "execute_result"
    }
   ],
   "source": [
    "X_test.shape,y_test.shape"
   ]
  },
  {
   "cell_type": "code",
   "execution_count": 20,
   "id": "3cbb4f1c",
   "metadata": {},
   "outputs": [],
   "source": [
    "# for i in range(14644):\n",
    "#     X_train[i]=X_train[i]/255"
   ]
  },
  {
   "cell_type": "code",
   "execution_count": 21,
   "id": "78e1f92e",
   "metadata": {},
   "outputs": [],
   "source": [
    "# for i in range(3661):\n",
    "#     X_test[i]=X_test[i]/255"
   ]
  },
  {
   "cell_type": "code",
   "execution_count": null,
   "id": "4d726887",
   "metadata": {},
   "outputs": [],
   "source": []
  },
  {
   "cell_type": "code",
   "execution_count": 22,
   "id": "92bf5862",
   "metadata": {},
   "outputs": [],
   "source": [
    "# save(\"X_train.npy\",X_train)\n",
    "# save(\"y_train.npy\",y_train)\n",
    "# save(\"X_test.npy\",X_test)\n",
    "# save(\"y_test.npy\",y_test)"
   ]
  },
  {
   "cell_type": "code",
   "execution_count": null,
   "id": "ec1154c2",
   "metadata": {},
   "outputs": [],
   "source": []
  },
  {
   "cell_type": "code",
   "execution_count": 23,
   "id": "9bd15301",
   "metadata": {
    "scrolled": true
   },
   "outputs": [],
   "source": [
    "# print(X_train[4])"
   ]
  },
  {
   "cell_type": "code",
   "execution_count": 24,
   "id": "6868248c",
   "metadata": {},
   "outputs": [],
   "source": [
    "input_shape=(256,512,3)"
   ]
  },
  {
   "cell_type": "code",
   "execution_count": 25,
   "id": "2a19e015",
   "metadata": {},
   "outputs": [],
   "source": [
    "base_model = keras.applications.Xception(\n",
    "    weights=\"imagenet\",  # Load weights pre-trained on ImageNet.\n",
    "    input_shape=(256, 512, 3),\n",
    "    include_top=False,\n",
    ")"
   ]
  },
  {
   "cell_type": "code",
   "execution_count": 26,
   "id": "4d7b9f69",
   "metadata": {},
   "outputs": [],
   "source": [
    "base_model.trainable = False\n"
   ]
  },
  {
   "cell_type": "code",
   "execution_count": 27,
   "id": "eb7b0600",
   "metadata": {},
   "outputs": [],
   "source": [
    "inputs = keras.Input(shape=(256, 512, 3))\n",
    "x=inputs"
   ]
  },
  {
   "cell_type": "code",
   "execution_count": 28,
   "id": "081a6435",
   "metadata": {},
   "outputs": [],
   "source": [
    "x = base_model(x, training=False)\n",
    "x = keras.layers.GlobalAveragePooling2D()(x)\n",
    "x = keras.layers.Dropout(0.2)(x)  # Regularize with dropout\n",
    "x= keras.layers.Dense(128)(x)\n",
    "outputs = keras.layers.Dense(1)(x)\n",
    "model = keras.Model(inputs, outputs)"
   ]
  },
  {
   "cell_type": "code",
   "execution_count": 29,
   "id": "20bba33d",
   "metadata": {},
   "outputs": [
    {
     "name": "stdout",
     "output_type": "stream",
     "text": [
      "Model: \"model\"\n",
      "_________________________________________________________________\n",
      " Layer (type)                Output Shape              Param #   \n",
      "=================================================================\n",
      " input_2 (InputLayer)        [(None, 256, 512, 3)]     0         \n",
      "                                                                 \n",
      " xception (Functional)       (None, 8, 16, 2048)       20861480  \n",
      "                                                                 \n",
      " global_average_pooling2d (G  (None, 2048)             0         \n",
      " lobalAveragePooling2D)                                          \n",
      "                                                                 \n",
      " dropout (Dropout)           (None, 2048)              0         \n",
      "                                                                 \n",
      " dense (Dense)               (None, 128)               262272    \n",
      "                                                                 \n",
      " dense_1 (Dense)             (None, 1)                 129       \n",
      "                                                                 \n",
      "=================================================================\n",
      "Total params: 21,123,881\n",
      "Trainable params: 262,401\n",
      "Non-trainable params: 20,861,480\n",
      "_________________________________________________________________\n"
     ]
    }
   ],
   "source": [
    "model.summary()"
   ]
  },
  {
   "cell_type": "code",
   "execution_count": 30,
   "id": "042c70ec",
   "metadata": {},
   "outputs": [],
   "source": [
    "model.compile(\n",
    "    optimizer=keras.optimizers.Adam(),\n",
    "    loss=keras.losses.BinaryCrossentropy(from_logits=True),\n",
    "    metrics=[keras.metrics.BinaryAccuracy()],\n",
    ")\n",
    "\n",
    "epochs = 20"
   ]
  },
  {
   "cell_type": "code",
   "execution_count": 31,
   "id": "a41a7a2a",
   "metadata": {},
   "outputs": [
    {
     "name": "stdout",
     "output_type": "stream",
     "text": [
      "Epoch 1/20\n",
      "157/157 [==============================] - 64s 335ms/step - loss: 0.6170 - binary_accuracy: 0.6534 - val_loss: 0.6474 - val_binary_accuracy: 0.5980\n",
      "Epoch 2/20\n",
      "157/157 [==============================] - 52s 331ms/step - loss: 0.5488 - binary_accuracy: 0.7006 - val_loss: 0.5657 - val_binary_accuracy: 0.6780\n",
      "Epoch 3/20\n",
      "157/157 [==============================] - 53s 338ms/step - loss: 0.5256 - binary_accuracy: 0.7282 - val_loss: 0.5678 - val_binary_accuracy: 0.6570\n",
      "Epoch 4/20\n",
      "157/157 [==============================] - 54s 343ms/step - loss: 0.5058 - binary_accuracy: 0.7364 - val_loss: 0.5520 - val_binary_accuracy: 0.7340\n",
      "Epoch 5/20\n",
      "157/157 [==============================] - 54s 344ms/step - loss: 0.5154 - binary_accuracy: 0.7278 - val_loss: 0.5297 - val_binary_accuracy: 0.7250\n",
      "Epoch 6/20\n",
      "157/157 [==============================] - 54s 344ms/step - loss: 0.4925 - binary_accuracy: 0.7514 - val_loss: 0.5430 - val_binary_accuracy: 0.7340\n",
      "Epoch 7/20\n",
      "157/157 [==============================] - 54s 347ms/step - loss: 0.4922 - binary_accuracy: 0.7420 - val_loss: 0.5358 - val_binary_accuracy: 0.7440\n",
      "Epoch 8/20\n",
      "157/157 [==============================] - 54s 347ms/step - loss: 0.4820 - binary_accuracy: 0.7564 - val_loss: 0.5264 - val_binary_accuracy: 0.6940\n",
      "Epoch 9/20\n",
      "157/157 [==============================] - 54s 343ms/step - loss: 0.4825 - binary_accuracy: 0.7520 - val_loss: 0.5317 - val_binary_accuracy: 0.7060\n",
      "Epoch 10/20\n",
      "157/157 [==============================] - 54s 345ms/step - loss: 0.4840 - binary_accuracy: 0.7566 - val_loss: 0.5147 - val_binary_accuracy: 0.7260\n",
      "Epoch 11/20\n",
      "157/157 [==============================] - 54s 342ms/step - loss: 0.4830 - binary_accuracy: 0.7548 - val_loss: 0.5155 - val_binary_accuracy: 0.7330\n",
      "Epoch 12/20\n",
      "157/157 [==============================] - 54s 347ms/step - loss: 0.4713 - binary_accuracy: 0.7628 - val_loss: 0.5602 - val_binary_accuracy: 0.7540\n",
      "Epoch 13/20\n",
      "157/157 [==============================] - 54s 344ms/step - loss: 0.4685 - binary_accuracy: 0.7628 - val_loss: 0.5314 - val_binary_accuracy: 0.7590\n",
      "Epoch 14/20\n",
      "157/157 [==============================] - 54s 343ms/step - loss: 0.4612 - binary_accuracy: 0.7678 - val_loss: 0.5021 - val_binary_accuracy: 0.7560\n",
      "Epoch 15/20\n",
      "157/157 [==============================] - 54s 343ms/step - loss: 0.4729 - binary_accuracy: 0.7662 - val_loss: 0.5353 - val_binary_accuracy: 0.6820\n",
      "Epoch 16/20\n",
      "157/157 [==============================] - 55s 348ms/step - loss: 0.4632 - binary_accuracy: 0.7736 - val_loss: 0.5122 - val_binary_accuracy: 0.7490\n",
      "Epoch 17/20\n",
      "157/157 [==============================] - 55s 352ms/step - loss: 0.4633 - binary_accuracy: 0.7670 - val_loss: 0.5365 - val_binary_accuracy: 0.7590\n",
      "Epoch 18/20\n",
      "157/157 [==============================] - 55s 348ms/step - loss: 0.4668 - binary_accuracy: 0.7656 - val_loss: 0.5098 - val_binary_accuracy: 0.7160\n",
      "Epoch 19/20\n",
      "157/157 [==============================] - 55s 348ms/step - loss: 0.4558 - binary_accuracy: 0.7754 - val_loss: 0.5086 - val_binary_accuracy: 0.7390\n",
      "Epoch 20/20\n",
      "157/157 [==============================] - 55s 349ms/step - loss: 0.4566 - binary_accuracy: 0.7738 - val_loss: 0.5846 - val_binary_accuracy: 0.7490\n"
     ]
    }
   ],
   "source": [
    "base_model=model.fit(X_train[:5000],y_train[:5000], epochs=epochs, validation_data=(X_test[:1000],y_test[:1000]))"
   ]
  },
  {
   "cell_type": "code",
   "execution_count": 32,
   "id": "387ee5c2",
   "metadata": {},
   "outputs": [
    {
     "name": "stderr",
     "output_type": "stream",
     "text": [
      "D:\\projects\\Jupyter\\gpu-env\\lib\\site-packages\\keras\\engine\\functional.py:1410: CustomMaskWarning: Custom mask layers require a config and must override get_config. When loading, the custom mask layer must be passed to the custom_objects argument.\n",
      "  layer_config = serialize_layer_fn(layer)\n"
     ]
    }
   ],
   "source": [
    "model.save(\"../saved_models/xcep_try1_base1.h5\")"
   ]
  },
  {
   "cell_type": "code",
   "execution_count": null,
   "id": "c9bb0251",
   "metadata": {},
   "outputs": [],
   "source": []
  }
 ],
 "metadata": {
  "kernelspec": {
   "display_name": "Python 3 (ipykernel)",
   "language": "python",
   "name": "python3"
  },
  "language_info": {
   "codemirror_mode": {
    "name": "ipython",
    "version": 3
   },
   "file_extension": ".py",
   "mimetype": "text/x-python",
   "name": "python",
   "nbconvert_exporter": "python",
   "pygments_lexer": "ipython3",
   "version": "3.8.11"
  }
 },
 "nbformat": 4,
 "nbformat_minor": 5
}
