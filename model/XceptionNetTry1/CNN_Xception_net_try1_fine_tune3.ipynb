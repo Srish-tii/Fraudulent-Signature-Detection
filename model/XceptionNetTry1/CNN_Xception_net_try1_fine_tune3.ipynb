{
 "cells": [
  {
   "cell_type": "code",
   "execution_count": 1,
   "id": "e6d671f2",
   "metadata": {},
   "outputs": [
    {
     "name": "stdout",
     "output_type": "stream",
     "text": [
      "Num GPUs Available:  1\n"
     ]
    }
   ],
   "source": [
    "from tensorflow.python.client import device_lib\n",
    "#print(device_lib.list_local_devices())\n",
    "\n",
    "import tensorflow as tf\n",
    "print(\"Num GPUs Available: \", len(tf.config.experimental.list_physical_devices('GPU')))\n",
    "physical_devices = tf.config.list_physical_devices('GPU')\n",
    "#tf.config.experimental.set_memory_growth(physical_devices[0], enable=True)"
   ]
  },
  {
   "cell_type": "code",
   "execution_count": 2,
   "id": "1a8cfd27",
   "metadata": {},
   "outputs": [],
   "source": [
    "import tensorflow as tf\n",
    "import pandas as pd\n",
    "import matplotlib.pyplot as plt\n",
    "import cv2\n",
    "import numpy as np"
   ]
  },
  {
   "cell_type": "code",
   "execution_count": 3,
   "id": "4d616b4e",
   "metadata": {},
   "outputs": [],
   "source": [
    "from tensorflow import keras\n",
    "from tensorflow.keras import layers, models, metrics\n",
    "from tensorflow.keras.models import Sequential, load_model\n",
    "from tensorflow.keras.callbacks import ModelCheckpoint\n",
    "from tensorflow.keras import optimizers\n",
    "from tensorflow.keras.optimizers import SGD\n",
    "from tensorflow.keras.applications import *\n",
    "from tensorflow.keras.layers import BatchNormalization, Conv2D, MaxPooling2D, Flatten, Dense, Input, Dropout, GlobalMaxPooling2D \n",
    "from sklearn.model_selection import train_test_split"
   ]
  },
  {
   "cell_type": "code",
   "execution_count": 4,
   "id": "7b48e64d",
   "metadata": {},
   "outputs": [
    {
     "data": {
      "text/plain": [
       "'D:\\\\projects\\\\Personal\\\\Fraudulent-Signature-Detection\\\\model\\\\XceptionNetTry1'"
      ]
     },
     "execution_count": 4,
     "metadata": {},
     "output_type": "execute_result"
    }
   ],
   "source": [
    "pwd"
   ]
  },
  {
   "cell_type": "code",
   "execution_count": 5,
   "id": "256b11c1",
   "metadata": {},
   "outputs": [],
   "source": [
    "# data=\"../data/cleaned_all_data/\""
   ]
  },
  {
   "cell_type": "code",
   "execution_count": 6,
   "id": "c2e426fc",
   "metadata": {},
   "outputs": [],
   "source": [
    "# df=pd.read_csv(\"../data/annotated_data.csv\")"
   ]
  },
  {
   "cell_type": "code",
   "execution_count": 7,
   "id": "b68c71f0",
   "metadata": {},
   "outputs": [],
   "source": [
    "# images=df[\"data\"].values"
   ]
  },
  {
   "cell_type": "code",
   "execution_count": 8,
   "id": "fcec835c",
   "metadata": {},
   "outputs": [],
   "source": [
    "# labels=df[\"annotation\"].values"
   ]
  },
  {
   "cell_type": "code",
   "execution_count": 9,
   "id": "ec3ac30a",
   "metadata": {},
   "outputs": [],
   "source": [
    "# X=[]\n",
    "# Y=[]"
   ]
  },
  {
   "cell_type": "code",
   "execution_count": 10,
   "id": "820610e0",
   "metadata": {},
   "outputs": [],
   "source": [
    "# for image in images[:]:\n",
    "#     img=cv2.imread(data+image)\n",
    "#     img=cv2.bitwise_not(img)\n",
    "#     #img=img/255\n",
    "#     X.append(img)"
   ]
  },
  {
   "cell_type": "code",
   "execution_count": 11,
   "id": "4ef6322d",
   "metadata": {},
   "outputs": [],
   "source": [
    "# for label in labels:\n",
    "#     label_=[label]\n",
    "#     Y.append(label_)"
   ]
  },
  {
   "cell_type": "code",
   "execution_count": 12,
   "id": "f6bd65e6",
   "metadata": {},
   "outputs": [],
   "source": [
    "# X=np.array(X)\n",
    "# X.shape"
   ]
  },
  {
   "cell_type": "code",
   "execution_count": 13,
   "id": "b01d9590",
   "metadata": {},
   "outputs": [],
   "source": [
    "# print(X[3])"
   ]
  },
  {
   "cell_type": "code",
   "execution_count": 14,
   "id": "e353e266",
   "metadata": {},
   "outputs": [],
   "source": [
    "# Y=np.array(Y)\n",
    "# Y.shape"
   ]
  },
  {
   "cell_type": "code",
   "execution_count": 15,
   "id": "f5a2a7a2",
   "metadata": {},
   "outputs": [],
   "source": [
    "from numpy import save, load\n",
    "X_train=load('../../data/X_train.npy')\n",
    "y_train=load('../../data/y_train.npy')\n",
    "X_test=load('../../data/X_test.npy')\n",
    "y_test=load('../../data/y_test.npy')"
   ]
  },
  {
   "cell_type": "code",
   "execution_count": null,
   "id": "874dbcbc",
   "metadata": {},
   "outputs": [],
   "source": []
  },
  {
   "cell_type": "code",
   "execution_count": 16,
   "id": "a52a842e",
   "metadata": {},
   "outputs": [],
   "source": [
    "# X_train, X_test, y_train, y_test = train_test_split(X, Y, test_size=0.20, random_state=42)"
   ]
  },
  {
   "cell_type": "code",
   "execution_count": 17,
   "id": "60851a33",
   "metadata": {},
   "outputs": [],
   "source": [
    "# print(X_train[4])"
   ]
  },
  {
   "cell_type": "code",
   "execution_count": 18,
   "id": "68953c1b",
   "metadata": {},
   "outputs": [
    {
     "data": {
      "text/plain": [
       "((14644, 256, 512, 3), (14644, 1))"
      ]
     },
     "execution_count": 18,
     "metadata": {},
     "output_type": "execute_result"
    }
   ],
   "source": [
    "X_train.shape,y_train.shape"
   ]
  },
  {
   "cell_type": "code",
   "execution_count": 19,
   "id": "e287f372",
   "metadata": {},
   "outputs": [
    {
     "data": {
      "text/plain": [
       "((3661, 256, 512, 3), (3661, 1))"
      ]
     },
     "execution_count": 19,
     "metadata": {},
     "output_type": "execute_result"
    }
   ],
   "source": [
    "X_test.shape,y_test.shape"
   ]
  },
  {
   "cell_type": "code",
   "execution_count": 20,
   "id": "3cbb4f1c",
   "metadata": {},
   "outputs": [],
   "source": [
    "# for i in range(14644):\n",
    "#     X_train[i]=X_train[i]/255"
   ]
  },
  {
   "cell_type": "code",
   "execution_count": 21,
   "id": "78e1f92e",
   "metadata": {},
   "outputs": [],
   "source": [
    "# for i in range(3661):\n",
    "#     X_test[i]=X_test[i]/255"
   ]
  },
  {
   "cell_type": "code",
   "execution_count": null,
   "id": "4d726887",
   "metadata": {},
   "outputs": [],
   "source": []
  },
  {
   "cell_type": "code",
   "execution_count": 22,
   "id": "92bf5862",
   "metadata": {},
   "outputs": [],
   "source": [
    "# save(\"X_train.npy\",X_train)\n",
    "# save(\"y_train.npy\",y_train)\n",
    "# save(\"X_test.npy\",X_test)\n",
    "# save(\"y_test.npy\",y_test)"
   ]
  },
  {
   "cell_type": "code",
   "execution_count": null,
   "id": "ec1154c2",
   "metadata": {},
   "outputs": [],
   "source": []
  },
  {
   "cell_type": "code",
   "execution_count": 23,
   "id": "9bd15301",
   "metadata": {
    "scrolled": true
   },
   "outputs": [],
   "source": [
    "# print(X_train[4])"
   ]
  },
  {
   "cell_type": "code",
   "execution_count": 24,
   "id": "6868248c",
   "metadata": {},
   "outputs": [],
   "source": [
    "input_shape=(256,512,3)"
   ]
  },
  {
   "cell_type": "code",
   "execution_count": 25,
   "id": "2a19e015",
   "metadata": {},
   "outputs": [],
   "source": [
    "# base_model = keras.applications.Xception(\n",
    "#     weights=\"imagenet\",  # Load weights pre-trained on ImageNet.\n",
    "#     input_shape=(256, 512, 3),\n",
    "#     include_top=False,\n",
    "# )"
   ]
  },
  {
   "cell_type": "code",
   "execution_count": 26,
   "id": "ce3f44fb",
   "metadata": {},
   "outputs": [],
   "source": [
    "model=load_model(\"../saved_models/xcep_try1_ft2.h5\")"
   ]
  },
  {
   "cell_type": "code",
   "execution_count": 27,
   "id": "dd886bcd",
   "metadata": {},
   "outputs": [],
   "source": [
    "model.trainable=True"
   ]
  },
  {
   "cell_type": "code",
   "execution_count": 28,
   "id": "164bfbb7",
   "metadata": {},
   "outputs": [
    {
     "name": "stdout",
     "output_type": "stream",
     "text": [
      "Model: \"model\"\n",
      "_________________________________________________________________\n",
      " Layer (type)                Output Shape              Param #   \n",
      "=================================================================\n",
      " input_2 (InputLayer)        [(None, 256, 512, 3)]     0         \n",
      "                                                                 \n",
      " xception (Functional)       (None, 8, 16, 2048)       20861480  \n",
      "                                                                 \n",
      " global_average_pooling2d (G  (None, 2048)             0         \n",
      " lobalAveragePooling2D)                                          \n",
      "                                                                 \n",
      " dropout (Dropout)           (None, 2048)              0         \n",
      "                                                                 \n",
      " dense (Dense)               (None, 128)               262272    \n",
      "                                                                 \n",
      " dense_1 (Dense)             (None, 1)                 129       \n",
      "                                                                 \n",
      "=================================================================\n",
      "Total params: 21,123,881\n",
      "Trainable params: 21,069,353\n",
      "Non-trainable params: 54,528\n",
      "_________________________________________________________________\n"
     ]
    }
   ],
   "source": [
    "model.summary()"
   ]
  },
  {
   "cell_type": "code",
   "execution_count": 29,
   "id": "943ed204",
   "metadata": {},
   "outputs": [],
   "source": [
    "# base_model.trainable = False\n"
   ]
  },
  {
   "cell_type": "code",
   "execution_count": 30,
   "id": "4a3ae381",
   "metadata": {},
   "outputs": [],
   "source": [
    "# inputs = keras.Input(shape=(256, 512, 3))\n",
    "# x=inputs"
   ]
  },
  {
   "cell_type": "code",
   "execution_count": 31,
   "id": "d939e92f",
   "metadata": {},
   "outputs": [],
   "source": [
    "# x = base_model(x, training=False)\n",
    "# x = keras.layers.GlobalAveragePooling2D()(x)\n",
    "# x = keras.layers.Dropout(0.2)(x)  # Regularize with dropout\n",
    "# outputs = keras.layers.Dense(1)(x)\n",
    "# model = keras.Model(inputs, outputs)"
   ]
  },
  {
   "cell_type": "code",
   "execution_count": 32,
   "id": "eef7de4e",
   "metadata": {},
   "outputs": [],
   "source": [
    "# model.summary()"
   ]
  },
  {
   "cell_type": "code",
   "execution_count": 33,
   "id": "5bd31d5d",
   "metadata": {},
   "outputs": [],
   "source": [
    "# model.compile(\n",
    "#     optimizer=keras.optimizers.Adam(),\n",
    "#     loss=keras.losses.BinaryCrossentropy(from_logits=True),\n",
    "#     metrics=[keras.metrics.BinaryAccuracy()],\n",
    "# )\n",
    "\n",
    "# epochs = 20"
   ]
  },
  {
   "cell_type": "code",
   "execution_count": 34,
   "id": "ff964268",
   "metadata": {},
   "outputs": [],
   "source": [
    "# model.fit(X_train[:5000],y_train[:5000], epochs=epochs, validation_data=(X_test[:1000],y_test[:1000]))"
   ]
  },
  {
   "cell_type": "code",
   "execution_count": 35,
   "id": "41a6b32f",
   "metadata": {},
   "outputs": [],
   "source": [
    "# model.save(\"saved_models/exceptionNet.h5\")"
   ]
  },
  {
   "cell_type": "code",
   "execution_count": 36,
   "id": "9ade157f",
   "metadata": {},
   "outputs": [],
   "source": [
    "# base_model.trainable=True"
   ]
  },
  {
   "cell_type": "code",
   "execution_count": 37,
   "id": "4ccfe4e7",
   "metadata": {},
   "outputs": [],
   "source": [
    "# model.summary()"
   ]
  },
  {
   "cell_type": "code",
   "execution_count": 38,
   "id": "79065d82",
   "metadata": {},
   "outputs": [],
   "source": [
    "model.compile(\n",
    "    optimizer=keras.optimizers.Adam(1e-5),  # Low learning rate\n",
    "    loss=keras.losses.BinaryCrossentropy(from_logits=True),\n",
    "    metrics=[keras.metrics.BinaryAccuracy()],\n",
    ")"
   ]
  },
  {
   "cell_type": "code",
   "execution_count": 39,
   "id": "bda5aa76",
   "metadata": {},
   "outputs": [],
   "source": [
    "epochs1 = 10"
   ]
  },
  {
   "cell_type": "code",
   "execution_count": 40,
   "id": "1aad9085",
   "metadata": {},
   "outputs": [
    {
     "name": "stdout",
     "output_type": "stream",
     "text": [
      "Epoch 1/10\n",
      "1548/1548 [==============================] - 297s 184ms/step - loss: 0.1668 - binary_accuracy: 0.9302 - val_loss: 0.1506 - val_binary_accuracy: 0.9453\n",
      "Epoch 2/10\n",
      "1548/1548 [==============================] - 310s 200ms/step - loss: 0.0513 - binary_accuracy: 0.9806 - val_loss: 0.1631 - val_binary_accuracy: 0.954012 - loss: 0.0366 - binary_accuracy: 0. - ETA: 3 - ETA: 3:04 - loss: 0.0397 - binary_accu - ETA: 3:02 - loss: 0.0393 - binary_accuracy:  - ETA: 3:01 - loss: 0.0390 - binary_accuracy:  - ETA: 3:00 - loss: 0.0387 - binary_accuracy: 0. - ETA: 2:5 - ETA: 2:53 - loss: 0.0398  - ETA: 2:48 - loss: 0.0391 - binary_accuracy:  - ETA: 2:47 - loss: 0.0400 - binary_accuracy: 0.98 - ETA: 2:47 -  - ETA: 2:41 - loss: 0.0389 - binary_accuracy: 0.988 - ETA: 2:41 - loss: 0.0390 - bina - ETA: 2:37 - loss: 0. - ETA: 2:32 - loss: 0.0415 - bi - ETA: 2:28  - ETA: 2:21 - loss: 0.0413 - binary - ETA: 2:18 - loss: 0.0411 - binary_acc - ETA: 2:16 - loss: 0.0417 - binary_accur - ETA: 2:14 - loss: 0.0412 - binary_accurac - ETA: 2:13 - loss: 0.0415 - binary_accuracy: - ETA: 2:11 - lo - ETA: 2:05 - loss: 0.0424 - binary_accuracy: 0 - ETA: 2:04 - loss: 0.0424 - binary_accuracy: 0.9 - ETA: 2:04 - loss: 0.0423 - binary_accuracy: 0.98 - ETA: 2:03 - loss: 0.0425 - binary_acc - ETA: 2:01 - loss: 0.0438 - binary_accuracy - ETA: 2:00 - loss: 0.0436 - bina - ETA: 1:56 - loss: 0.0442 - binary_accuracy - ETA: 1:55 - loss: 0.0439 - binary_accuracy: - ETA: 9s - loss: 0.0525 - binary_accuracy: 0.980 - ETA: 8s - loss: 0.0525 - binary_accuracy: - ETA: 7s - loss: 0.0523 - binary_ac - ETA: 4s - loss: 0.0520 - binary_accur - ETA: 2s - loss: 0.0517 - binary_accuracy: 0.980 - ETA: 2s - loss: 0.0517 - binary_accuracy:  - ETA: 1s - loss: 0.0515 - binary_accurac\n",
      "Epoch 3/10\n",
      "1548/1548 [==============================] - 297s 192ms/step - loss: 0.0339 - binary_accuracy: 0.9886 - val_loss: 0.2268 - val_binary_accuracy: 0.9397\n",
      "Epoch 4/10\n",
      "1548/1548 [==============================] - 291s 188ms/step - loss: 0.0224 - binary_accuracy: 0.9907 - val_loss: 0.2902 - val_binary_accuracy: 0.9310\n",
      "Epoch 5/10\n",
      "1548/1548 [==============================] - 315s 204ms/step - loss: 0.0258 - binary_accuracy: 0.9910 - val_loss: 0.2782 - val_binary_accuracy: 0.9405ETA: 3:47 - loss: 0.0509 - binary_accuracy:  - ETA: 3: - E - ETA: 3:14 - loss: 0.03 - ETA: 3:09 - loss: 0.0356 - binary_accuracy:  - ETA: 3:08 - loss: 0.0352 - binary_accuracy: 0 - ETA: 3:07 - loss: 0.0349 - binary_accura - ETA: 2:56 - loss: 0.0330 - binary_accurac - ETA: 2:54 - loss: 0.0327 - binary - ETA: 2:51 - los - ETA: 2:44 - loss: 0.0307 - bin - ETA: 2:30 - loss: 0.029 - ETA: 2:25 - loss: 0.0284 - binary_accura - ETA: 2:23 - loss: 0.0280 - bin - ETA: 2:19 - loss: 0.0275 - binary_accuracy: - ETA: 2:18 - loss: 0.0274 - binary_accuracy: 0.990 - ETA: 2:18 - loss: 0.0274 - binary_accur - ETA: 2:16 - loss: 0.0270 - ETA: 2:10 - loss: 0.0263 - binary_accuracy: 0 - ETA: 2:09 - loss: 0.0261 - b - ETA: 2:05 - loss: 0.0256 - binary - ETA: 2:02 - loss: 0.0252 - binary_accuracy: 0.991 - ETA: 2:02 - loss: 0.0251 - binary_accuracy: 0.991 - ETA: 2:01 - loss: 0.02 - ETA: 1:46 - loss: 0.0253 - binary_accuracy:  - ETA: 1:44 - loss: 0.0261 - b - ETA: 1:29 - loss: 0.0313 - binary_accuracy: 0 - ETA: 1:28 - loss: 0.0313 - binary_accuracy: 0.989 - ETA: 1:28 - loss: 0.03 - ETA: 1:22 - loss: 0.0310 - binar - ETA: 1:09 - loss: 0.0304 - binary_ac - ETA: 1:06 - loss: 0.0302 - binary_accuracy: 0. - ETA: 1:05 - loss: 0.0301 - binary_a -  - ETA: 56s - loss: 0.0292 - binary_ac - ETA: 54s - loss: 0.0291 - binary_ - ETA: 53s - loss: 0.0290 - binary_accuracy: 0. - ETA - ETA: 38s - loss: 0.0276 - bin - ETA: 26s - loss: 0.0270 - b - ETA: 24s  - ETA: 20s - loss: 0.0268 - bin - ETA: 18s - loss: 0.0268 - binary_accuracy:  - ETA: 17s - loss: 0.0268 - bin - - ETA: 10s - loss: 0.0263 - binary_accura\n",
      "Epoch 6/10\n",
      "1548/1548 [==============================] - 287s 185ms/step - loss: 0.0239 - binary_accuracy: 0.9920 - val_loss: 0.3412 - val_binary_accuracy: 0.9262\n",
      "Epoch 7/10\n",
      "1548/1548 [==============================] - 298s 192ms/step - loss: 0.0271 - binary_accuracy: 0.9905 - val_loss: 0.2158 - val_binary_accuracy: 0.9429oss: 0.0375 - binary_accuracy:  - ETA: 3:07 - loss: 0.0371 - binary_accuracy: 0. -  - ETA: 2:59 - loss: 0.0335  - ETA: 2:54 - loss: 0.0321 - binary_accuracy: 0 - ETA: 2:53 - loss: 0.0318 - bin - ETA: 2:50 - loss: 0.0307 - binary_accur - ETA: 2:48 - loss: 0.0302 - binary_accuracy:  - ETA: 2:47 - loss: 0.0299 - binary_accuracy: 0.9 - ETA: 2:47 - loss: 0.0298 - binary_accurac - ETA: 2:45 - loss: 0.0293 - binary_accurac - ETA: 2:43 - loss: 0.0289 - b - ETA: 2:40 - loss: 0.0282 - binary_accura - ETA: 2:38 - loss: 0.0278 - bina - ETA: 2:34 - loss - ETA: 2:29 - loss: 0.0263 - binary_accuracy: 0.99 - ETA: 2:28 - loss: 0.0263 - bi - ETA: 2:25 - lo - ETA: 2:00 - loss: 0.0234 - bin - ETA: 1:56 - loss: 0.0243 - binary_accuracy: 0. - ETA: 1:55 - loss: 0.0242 - binary - ETA: 1 - ETA: 1:26 - loss: 0 - ETA: 6s - l\n",
      "Epoch 8/10\n",
      "1548/1548 [==============================] - 314s 203ms/step - loss: 0.0130 - binary_accuracy: 0.9959 - val_loss: 0.1827 - val_binary_accuracy: 0.9540ry_accu - ETA: 4:23 - loss: 0.0085 - binary_accuracy: - ETA: 4:22 - loss: 0.0082 - binary_accuracy: 1.0 - ETA: 4:21 - loss: 0.0081 - binary_accuracy: 1.00 - ETA: 4:21 - loss: - ETA: 4:14 - loss: 0.0106 - binary_a - ETA: 3:50 - loss: 0.0072 - binary_accu - ETA: 3:48 - loss: 0.0071 - binary_ac -  - ETA: 3:18 - loss: 0.0102 - binary_accu - ETA: 3:16 - loss: 0.0106 - binary_accuracy: - ETA: 3:15 - loss: 0.0105 - binary_accuracy: 0. - ETA: 3:14 - loss: 0.0104 - binary_acc - ETA: 3:11 - loss: 0.0104 - binary_accuracy: 0.9 - ETA: 3:10 - loss: - ETA: 3:04 - loss: 0.0105 - binary_accu - ETA: 3:01 - loss: 0.0103 - binary_accurac - ETA: 2:59 - loss: 0 - ETA: 2:53 - loss: 0.0098 - binary_accuracy - ETA: 2:52 - loss: 0.0097 - binary_accurac - ETA: 2:50 - loss: 0.0100 - - ETA: 2:45 - loss: 0.0105 - binary_accuracy: 0. - ETA: 2:45 - loss: 0.0110 - binary_accuracy: 0.99 - ETA: 2:44 - loss: 0.0109 - binary_accu - ETA: 2:42 - loss: 0.0109 - binary_accura - ETA: 2:40 - loss: 0.0108 - binary_a - ETA: 2:37 - loss: 0.0106 - binary_accuracy: 0.9 - ETA: 2:36 - loss: 0.0106 - bina - ETA: 2:32 - loss: 0.0123 - binary_accur - ETA: 2:30 - loss: 0.01 - ETA: 2:24 - loss: 0.0131 - binary_accuracy: 0 - ETA: 2:23 - loss: 0.0131 - binary_accuracy: 0.99 - ETA: 2:23 - loss: 0.0130 - binary_accuracy: - ETA: 2:22 - loss: 0.0134 - binary_accuracy: 0.99 - ETA: 2:21 - loss: 0.01 - ETA: 2:05 - loss: 0.0135 - binary_accurac - ETA: 2:03 - loss: 0.0134 - binary_ac - ETA: 2:00 - loss: 0.0138 - binar - ETA: 1:36 - loss: 0.0143 - binary_accuracy:  - ETA: 1:34 - loss: 0.0143 - binary_accuracy: 0.9 - ETA: 1:34 - loss: 0.0142 - binary_accuracy: 0.9 - ETA: 1:33 - loss: 0.0142  - ETA: 1:28 - loss: 0.0140 - binary_accuracy: - ETA: 1:27 - loss: 0.0139 - binary_accuracy: 0.995 - ETA: 1:27 - loss: 0.0139 - binary_accuracy - ETA: 1:25 - loss: 0.0140 - binary_accu - ETA: 1:23 - loss: 0.0139 - binary_a - ETA: 1:20 - loss: 0.0138 - binary_accuracy - ETA: 1:18 - loss: 0.0137 - binary_ - ETA: 1:15 - loss: 0.0135 - binary_ - ETA - ETA: 0s - loss: 0.0130 - binary_accuracy: 0.\n",
      "Epoch 9/10\n",
      "1548/1548 [==============================] - 283s 183ms/step - loss: 0.0052 - binary_accuracy: 0.9989 - val_loss: 0.2160 - val_binary_accuracy: 0.9603\n",
      "Epoch 10/10\n",
      "1548/1548 [==============================] - 288s 186ms/step - loss: 0.0306 - binary_accuracy: 0.9905 - val_loss: 0.1684 - val_binary_accuracy: 0.9318- loss: 0.0303 - binary_accuracy: \n"
     ]
    }
   ],
   "source": [
    "history_fine_tune=model.fit(X_train[10000:],y_train[10000:], batch_size=3, epochs=epochs1, validation_data=(X_test[2400:],y_test[2400:]))"
   ]
  },
  {
   "cell_type": "code",
   "execution_count": 41,
   "id": "42fd4c24",
   "metadata": {},
   "outputs": [
    {
     "name": "stderr",
     "output_type": "stream",
     "text": [
      "D:\\projects\\Jupyter\\gpu-env\\lib\\site-packages\\keras\\engine\\functional.py:1410: CustomMaskWarning: Custom mask layers require a config and must override get_config. When loading, the custom mask layer must be passed to the custom_objects argument.\n",
      "  layer_config = serialize_layer_fn(layer)\n"
     ]
    }
   ],
   "source": [
    "model.save(\"../saved_models/xcep_try1_ft3.h5\")"
   ]
  },
  {
   "cell_type": "code",
   "execution_count": 42,
   "id": "42ef9071",
   "metadata": {},
   "outputs": [],
   "source": [
    "def plot_accuracy(history):\n",
    "    plt.plot(history.history['val_binary_accuracy'])\n",
    "    plt.plot(history.history['binary_accuracy'])\n",
    "#     plt.plot(history.history['val_sparse_categorical_accuracy'])\n",
    "#     plt.plot(history.history['sparse_categorical_accuracy'])\n",
    "    plt.title('model accuracy')\n",
    "    plt.ylabel('accuracy')\n",
    "    plt.xlabel('epoch')\n",
    "    plt.legend(['val_accuracy', 'Train_accuracy'], loc = 'best')\n",
    "    plt.show()"
   ]
  },
  {
   "cell_type": "code",
   "execution_count": 43,
   "id": "d27c0dd8",
   "metadata": {},
   "outputs": [
    {
     "data": {
      "image/png": "[encoded data removed]",
      "text/plain": [
       "<Figure size 432x288 with 1 Axes>"
      ]
     },
     "metadata": {
      "needs_background": "light"
     },
     "output_type": "display_data"
    }
   ],
   "source": [
    "plot_accuracy(history_fine_tune)"
   ]
  },
  {
   "cell_type": "code",
   "execution_count": 44,
   "id": "9435731d",
   "metadata": {},
   "outputs": [],
   "source": [
    "def plot_loss(history):\n",
    "    plt.plot(history.history['val_loss'])\n",
    "    plt.plot(history.history['loss'])\n",
    "    plt.title('model loss')\n",
    "    plt.ylabel('loss')\n",
    "    plt.xlabel('epoch')\n",
    "    plt.legend(['val_loss', 'train_loss'], loc = 'best')\n",
    "    plt.show()"
   ]
  },
  {
   "cell_type": "code",
   "execution_count": 45,
   "id": "54426d32",
   "metadata": {},
   "outputs": [
    {
     "data": {
      "image/png": "[encoded data removed]",
      "text/plain": [
       "<Figure size 432x288 with 1 Axes>"
      ]
     },
     "metadata": {
      "needs_background": "light"
     },
     "output_type": "display_data"
    }
   ],
   "source": [
    "plot_loss(history_fine_tune)"
   ]
  },
  {
   "cell_type": "code",
   "execution_count": null,
   "id": "efb342f1",
   "metadata": {},
   "outputs": [],
   "source": []
  }
 ],
 "metadata": {
  "kernelspec": {
   "display_name": "Python [conda env:gpu-env] *",
   "language": "python",
   "name": "conda-env-gpu-env-py"
  },
  "language_info": {
   "codemirror_mode": {
    "name": "ipython",
    "version": 3
   },
   "file_extension": ".py",
   "mimetype": "text/x-python",
   "name": "python",
   "nbconvert_exporter": "python",
   "pygments_lexer": "ipython3",
   "version": "3.8.11"
  }
 },
 "nbformat": 4,
 "nbformat_minor": 5
}
