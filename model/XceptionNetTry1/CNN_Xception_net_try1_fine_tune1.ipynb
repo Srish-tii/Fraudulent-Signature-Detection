{
 "cells": [
  {
   "cell_type": "code",
   "execution_count": 1,
   "id": "e6d671f2",
   "metadata": {},
   "outputs": [
    {
     "name": "stdout",
     "output_type": "stream",
     "text": [
      "Num GPUs Available:  1\n"
     ]
    }
   ],
   "source": [
    "from tensorflow.python.client import device_lib\n",
    "#print(device_lib.list_local_devices())\n",
    "\n",
    "import tensorflow as tf\n",
    "print(\"Num GPUs Available: \", len(tf.config.experimental.list_physical_devices('GPU')))\n",
    "physical_devices = tf.config.list_physical_devices('GPU')\n",
    "#tf.config.experimental.set_memory_growth(physical_devices[0], enable=True)"
   ]
  },
  {
   "cell_type": "code",
   "execution_count": 2,
   "id": "1a8cfd27",
   "metadata": {},
   "outputs": [],
   "source": [
    "import tensorflow as tf\n",
    "import pandas as pd\n",
    "import matplotlib.pyplot as plt\n",
    "import cv2\n",
    "import numpy as np"
   ]
  },
  {
   "cell_type": "code",
   "execution_count": 3,
   "id": "4d616b4e",
   "metadata": {},
   "outputs": [],
   "source": [
    "from tensorflow import keras\n",
    "from tensorflow.keras import layers, models, metrics\n",
    "from tensorflow.keras.models import Sequential, load_model\n",
    "from tensorflow.keras.callbacks import ModelCheckpoint\n",
    "from tensorflow.keras import optimizers\n",
    "from tensorflow.keras.optimizers import SGD\n",
    "from tensorflow.keras.applications import *\n",
    "from tensorflow.keras.layers import BatchNormalization, Conv2D, MaxPooling2D, Flatten, Dense, Input, Dropout, GlobalMaxPooling2D \n",
    "from sklearn.model_selection import train_test_split"
   ]
  },
  {
   "cell_type": "code",
   "execution_count": 4,
   "id": "7b48e64d",
   "metadata": {},
   "outputs": [
    {
     "data": {
      "text/plain": [
       "'D:\\\\projects\\\\Personal\\\\Fraudulent-Signature-Detection\\\\model\\\\XceptionNetTry1'"
      ]
     },
     "execution_count": 4,
     "metadata": {},
     "output_type": "execute_result"
    }
   ],
   "source": [
    "pwd"
   ]
  },
  {
   "cell_type": "code",
   "execution_count": 5,
   "id": "256b11c1",
   "metadata": {},
   "outputs": [],
   "source": [
    "# data=\"../data/cleaned_all_data/\""
   ]
  },
  {
   "cell_type": "code",
   "execution_count": 6,
   "id": "c2e426fc",
   "metadata": {},
   "outputs": [],
   "source": [
    "# df=pd.read_csv(\"../data/annotated_data.csv\")"
   ]
  },
  {
   "cell_type": "code",
   "execution_count": 7,
   "id": "b68c71f0",
   "metadata": {},
   "outputs": [],
   "source": [
    "# images=df[\"data\"].values"
   ]
  },
  {
   "cell_type": "code",
   "execution_count": 8,
   "id": "fcec835c",
   "metadata": {},
   "outputs": [],
   "source": [
    "# labels=df[\"annotation\"].values"
   ]
  },
  {
   "cell_type": "code",
   "execution_count": 9,
   "id": "ec3ac30a",
   "metadata": {},
   "outputs": [],
   "source": [
    "# X=[]\n",
    "# Y=[]"
   ]
  },
  {
   "cell_type": "code",
   "execution_count": 10,
   "id": "820610e0",
   "metadata": {},
   "outputs": [],
   "source": [
    "# for image in images[:]:\n",
    "#     img=cv2.imread(data+image)\n",
    "#     img=cv2.bitwise_not(img)\n",
    "#     #img=img/255\n",
    "#     X.append(img)"
   ]
  },
  {
   "cell_type": "code",
   "execution_count": 11,
   "id": "4ef6322d",
   "metadata": {},
   "outputs": [],
   "source": [
    "# for label in labels:\n",
    "#     label_=[label]\n",
    "#     Y.append(label_)"
   ]
  },
  {
   "cell_type": "code",
   "execution_count": 12,
   "id": "f6bd65e6",
   "metadata": {},
   "outputs": [],
   "source": [
    "# X=np.array(X)\n",
    "# X.shape"
   ]
  },
  {
   "cell_type": "code",
   "execution_count": 13,
   "id": "b01d9590",
   "metadata": {},
   "outputs": [],
   "source": [
    "# print(X[3])"
   ]
  },
  {
   "cell_type": "code",
   "execution_count": 14,
   "id": "e353e266",
   "metadata": {},
   "outputs": [],
   "source": [
    "# Y=np.array(Y)\n",
    "# Y.shape"
   ]
  },
  {
   "cell_type": "code",
   "execution_count": 15,
   "id": "f5a2a7a2",
   "metadata": {},
   "outputs": [],
   "source": [
    "from numpy import save, load\n",
    "X_train=load('../../data/X_train.npy')\n",
    "y_train=load('../../data/y_train.npy')\n",
    "X_test=load('../../data/X_test.npy')\n",
    "y_test=load('../../data/y_test.npy')"
   ]
  },
  {
   "cell_type": "code",
   "execution_count": null,
   "id": "874dbcbc",
   "metadata": {},
   "outputs": [],
   "source": []
  },
  {
   "cell_type": "code",
   "execution_count": 16,
   "id": "a52a842e",
   "metadata": {},
   "outputs": [],
   "source": [
    "# X_train, X_test, y_train, y_test = train_test_split(X, Y, test_size=0.20, random_state=42)"
   ]
  },
  {
   "cell_type": "code",
   "execution_count": 17,
   "id": "60851a33",
   "metadata": {},
   "outputs": [],
   "source": [
    "# print(X_train[4])"
   ]
  },
  {
   "cell_type": "code",
   "execution_count": 18,
   "id": "68953c1b",
   "metadata": {},
   "outputs": [
    {
     "data": {
      "text/plain": [
       "((14644, 256, 512, 3), (14644, 1))"
      ]
     },
     "execution_count": 18,
     "metadata": {},
     "output_type": "execute_result"
    }
   ],
   "source": [
    "X_train.shape,y_train.shape"
   ]
  },
  {
   "cell_type": "code",
   "execution_count": 19,
   "id": "e287f372",
   "metadata": {},
   "outputs": [
    {
     "data": {
      "text/plain": [
       "((3661, 256, 512, 3), (3661, 1))"
      ]
     },
     "execution_count": 19,
     "metadata": {},
     "output_type": "execute_result"
    }
   ],
   "source": [
    "X_test.shape,y_test.shape"
   ]
  },
  {
   "cell_type": "code",
   "execution_count": 20,
   "id": "3cbb4f1c",
   "metadata": {},
   "outputs": [],
   "source": [
    "# for i in range(14644):\n",
    "#     X_train[i]=X_train[i]/255"
   ]
  },
  {
   "cell_type": "code",
   "execution_count": 21,
   "id": "78e1f92e",
   "metadata": {},
   "outputs": [],
   "source": [
    "# for i in range(3661):\n",
    "#     X_test[i]=X_test[i]/255"
   ]
  },
  {
   "cell_type": "code",
   "execution_count": null,
   "id": "4d726887",
   "metadata": {},
   "outputs": [],
   "source": []
  },
  {
   "cell_type": "code",
   "execution_count": 22,
   "id": "92bf5862",
   "metadata": {},
   "outputs": [],
   "source": [
    "# save(\"X_train.npy\",X_train)\n",
    "# save(\"y_train.npy\",y_train)\n",
    "# save(\"X_test.npy\",X_test)\n",
    "# save(\"y_test.npy\",y_test)"
   ]
  },
  {
   "cell_type": "code",
   "execution_count": null,
   "id": "ec1154c2",
   "metadata": {},
   "outputs": [],
   "source": []
  },
  {
   "cell_type": "code",
   "execution_count": 23,
   "id": "9bd15301",
   "metadata": {
    "scrolled": true
   },
   "outputs": [],
   "source": [
    "# print(X_train[4])"
   ]
  },
  {
   "cell_type": "code",
   "execution_count": 24,
   "id": "6868248c",
   "metadata": {},
   "outputs": [],
   "source": [
    "input_shape=(256,512,3)"
   ]
  },
  {
   "cell_type": "code",
   "execution_count": 25,
   "id": "2a19e015",
   "metadata": {},
   "outputs": [],
   "source": [
    "# base_model = keras.applications.Xception(\n",
    "#     weights=\"imagenet\",  # Load weights pre-trained on ImageNet.\n",
    "#     input_shape=(256, 512, 3),\n",
    "#     include_top=False,\n",
    "# )"
   ]
  },
  {
   "cell_type": "code",
   "execution_count": 26,
   "id": "ce3f44fb",
   "metadata": {},
   "outputs": [],
   "source": [
    "model=load_model(\"../saved_models/xcep_try1_base3.h5\")"
   ]
  },
  {
   "cell_type": "code",
   "execution_count": 27,
   "id": "dd886bcd",
   "metadata": {},
   "outputs": [],
   "source": [
    "model.trainable=True"
   ]
  },
  {
   "cell_type": "code",
   "execution_count": 28,
   "id": "164bfbb7",
   "metadata": {},
   "outputs": [
    {
     "name": "stdout",
     "output_type": "stream",
     "text": [
      "Model: \"model\"\n",
      "_________________________________________________________________\n",
      " Layer (type)                Output Shape              Param #   \n",
      "=================================================================\n",
      " input_2 (InputLayer)        [(None, 256, 512, 3)]     0         \n",
      "                                                                 \n",
      " xception (Functional)       (None, 8, 16, 2048)       20861480  \n",
      "                                                                 \n",
      " global_average_pooling2d (G  (None, 2048)             0         \n",
      " lobalAveragePooling2D)                                          \n",
      "                                                                 \n",
      " dropout (Dropout)           (None, 2048)              0         \n",
      "                                                                 \n",
      " dense (Dense)               (None, 128)               262272    \n",
      "                                                                 \n",
      " dense_1 (Dense)             (None, 1)                 129       \n",
      "                                                                 \n",
      "=================================================================\n",
      "Total params: 21,123,881\n",
      "Trainable params: 21,069,353\n",
      "Non-trainable params: 54,528\n",
      "_________________________________________________________________\n"
     ]
    }
   ],
   "source": [
    "model.summary()"
   ]
  },
  {
   "cell_type": "code",
   "execution_count": 29,
   "id": "943ed204",
   "metadata": {},
   "outputs": [],
   "source": [
    "# base_model.trainable = False\n"
   ]
  },
  {
   "cell_type": "code",
   "execution_count": 30,
   "id": "4a3ae381",
   "metadata": {},
   "outputs": [],
   "source": [
    "# inputs = keras.Input(shape=(256, 512, 3))\n",
    "# x=inputs"
   ]
  },
  {
   "cell_type": "code",
   "execution_count": 31,
   "id": "d939e92f",
   "metadata": {},
   "outputs": [],
   "source": [
    "# x = base_model(x, training=False)\n",
    "# x = keras.layers.GlobalAveragePooling2D()(x)\n",
    "# x = keras.layers.Dropout(0.2)(x)  # Regularize with dropout\n",
    "# outputs = keras.layers.Dense(1)(x)\n",
    "# model = keras.Model(inputs, outputs)"
   ]
  },
  {
   "cell_type": "code",
   "execution_count": 32,
   "id": "eef7de4e",
   "metadata": {},
   "outputs": [],
   "source": [
    "# model.summary()"
   ]
  },
  {
   "cell_type": "code",
   "execution_count": 33,
   "id": "5bd31d5d",
   "metadata": {},
   "outputs": [],
   "source": [
    "# model.compile(\n",
    "#     optimizer=keras.optimizers.Adam(),\n",
    "#     loss=keras.losses.BinaryCrossentropy(from_logits=True),\n",
    "#     metrics=[keras.metrics.BinaryAccuracy()],\n",
    "# )\n",
    "\n",
    "# epochs = 20"
   ]
  },
  {
   "cell_type": "code",
   "execution_count": 34,
   "id": "ff964268",
   "metadata": {},
   "outputs": [],
   "source": [
    "# model.fit(X_train[:5000],y_train[:5000], epochs=epochs, validation_data=(X_test[:1000],y_test[:1000]))"
   ]
  },
  {
   "cell_type": "code",
   "execution_count": 35,
   "id": "41a6b32f",
   "metadata": {},
   "outputs": [],
   "source": [
    "# model.save(\"saved_models/exceptionNet.h5\")"
   ]
  },
  {
   "cell_type": "code",
   "execution_count": 36,
   "id": "9ade157f",
   "metadata": {},
   "outputs": [],
   "source": [
    "# base_model.trainable=True"
   ]
  },
  {
   "cell_type": "code",
   "execution_count": 37,
   "id": "4ccfe4e7",
   "metadata": {},
   "outputs": [],
   "source": [
    "# model.summary()"
   ]
  },
  {
   "cell_type": "code",
   "execution_count": 38,
   "id": "79065d82",
   "metadata": {},
   "outputs": [],
   "source": [
    "model.compile(\n",
    "    optimizer=keras.optimizers.Adam(1e-5),  # Low learning rate\n",
    "    loss=keras.losses.BinaryCrossentropy(from_logits=True),\n",
    "    metrics=[keras.metrics.BinaryAccuracy()],\n",
    ")"
   ]
  },
  {
   "cell_type": "code",
   "execution_count": 39,
   "id": "bda5aa76",
   "metadata": {},
   "outputs": [],
   "source": [
    "epochs1 = 10"
   ]
  },
  {
   "cell_type": "code",
   "execution_count": 40,
   "id": "1aad9085",
   "metadata": {},
   "outputs": [
    {
     "name": "stdout",
     "output_type": "stream",
     "text": [
      "Epoch 1/10\n",
      "1667/1667 [==============================] - 312s 180ms/step - loss: 0.5004 - binary_accuracy: 0.7468 - val_loss: 0.3953 - val_binary_accuracy: 0.80925019 - binary_accuracy: 0.7 - ETA: 3s - loss: 0.5015 - binary_accuracy: 0 - ETA: 2s - loss: 0.5018 - binary_accura - ETA: 1s - loss: 0.5011 - binary_accuracy:  - ETA: 0s - loss: 0.5005 - binary_accuracy: 0.74\n",
      "Epoch 2/10\n",
      "1667/1667 [==============================] - 328s 197ms/step - loss: 0.2953 - binary_accuracy: 0.8634 - val_loss: 0.3028 - val_binary_accuracy: 0.8683: 4:54 - loss: 0.3390 - binary_accuracy: 0. - ETA: 4:53 - los - ETA: 4:43 - loss: 0.3 - E - ETA: 3:50 - loss: 0.3239 - binary_accur - ETA: 3:48 - loss: 0.3221 - binary_accurac - ETA: 3: - ETA: 3:39 - loss: 0.3239 - binary_accuracy: 0.8 - ETA: 3:38 - loss: 0.3259 - binary_a - ETA: 3:28 - loss: 0.3250 - bi - ETA: 3:25 - loss: 0.3218 - binary_accuracy: - ETA: 3:24 - loss: 0.3238 - binary_a - ETA: 3:21 - loss: 0.3257 - binary_accuracy:  - ETA: 3:20 - loss: 0.3266 - binary_accurac - ETA: 3:19 - loss: 0.3274 - binar - ETA: 3:16 - loss: 0.3273 - binary_accuracy: 0.8 - ETA: 3:15 - loss: 0.3272 - binary_accuracy:  - ETA: 3:14 - loss: 0.3268 - binary  - ETA: 3:03 - loss: 0.3223 - binary_acc - ETA: 3:00 - loss: 0 - ETA: 2:55 - loss: 0.3183  - ETA: 2:51 - loss: - ETA: 2:45 - loss: 0.3148 -  - E - ETA: 2:32 - loss: 0.3116 - binary_accurac - ETA: 2:00 - l - ETA: 1:53 - loss: 0.3005 - binar - ETA: 1:50 - loss: 0.3010 - binary_accuracy: - ETA: 1:49 - loss: 0.3003 - binary_accuracy: 0.853 - ETA: 1:48 - loss: 0.3001 - binary_ac - ETA: 1:46 - loss: 0.2977 - binary_accurac - ETA: 1:44 - loss: 0.2969 - binary_accuracy: - ETA: 1:43 - loss: 0.2974 - binary_accuracy: 0.85 - ETA: 1:42 - loss: 0.2980 - binar - ETA:  - ETA: 1:30 - loss: 0.2965 - binary_accuracy - ETA: 1:29 -  - ETA:  - ETA: 1:13 - loss: 0.2975 - bina - ETA: 1:10 - loss: 0.2965 - binary - ETA: 1:06 - loss: 0.2964 - binary_accura - ETA: 1:05 - loss: 0.2977 - binary_a - ETA: 1:02 - loss: 0.2961 - binary_accuracy: 0.85 - ETA: 1:01 - loss: 0.2958 - binary_accuracy:  - ETA: 1:00 - loss: 0.29 - ETA: 57s - loss: 0.2970 - ETA: 55s - loss: 0.2969 - ETA:  - ETA: 38s - loss: 0.2975 - ETA: 36s - loss: 0.2967 - binary_accuracy: 0. - ETA - E - ETA: 12s - loss:  - ETA: 8s - loss: 0.2953 -  - ETA: 3s - loss: 0.2945 - b\n",
      "Epoch 3/10\n",
      "1667/1667 [==============================] - 310s 186ms/step - loss: 0.1568 - binary_accuracy: 0.9336 - val_loss: 0.4029 - val_binary_accuracy: 0.8558: 5:03 - loss: 0.1159 - binary_accuracy: - ETA: 5:01 - loss: 0.1245 - binary_accur - ETA: 4:59 - loss: 0.1333 - binary_ - ETA: 4:54 - loss: 0.1568 - binary_accuracy: 0.92 - ETA: 4:55 - loss: 0.1635 - binary_accuracy: 0.918 - ETA: 4:55 - loss: 0.1738 - binary_accuracy:  - ETA: 4 - ETA: 4:37 - loss: 0.1700 - binary_accu - ETA: 4:34 - loss: 0.1651 - binary_accura - ETA: 4:32 - loss: 0.1739 - binary_ac - ETA: 4:30 - loss: 0.1691 - binary_ - ETA: 4:27 - l - ETA: 4:20 - loss: 0.1729  - ETA: 4:16 - loss: 0.1681 - binary_accu - ETA: 4:13 - loss: 0.1646 - bina - ETA: 4:10 - loss: 0.1607 - binary_accuracy - ETA: 4:08 - l - ETA: 3:51 - loss: 0.1451 - binary_accuracy: - ETA: 3:49 - loss: 0.1463 - binary_accu - ETA: 3:47 - loss: 0.1451 - binary_accura - ETA: 3:45 - loss: 0.1464 - binar - ETA:  - ETA: 3:23 - loss: 0.15 - ETA: 3:17 - loss:  - ETA: 3:11 - loss: 0.1518 - - ETA: 3:06 - loss: 0.1503 - binary_accurac - ETA: 2:55 - loss: 0.1478 - binary_accuracy: 0.93 - ETA: 2:54 - loss: 0.1474 - binary_accu - ETA: 2:52 - loss: 0.1466 - binary_accuracy: 0 - ETA: 2:51 - loss - ETA - ETA: 41s - loss: 0.1558 - - ETA: 39s -  - ETA: 5s - loss:\n",
      "Epoch 4/10\n",
      "1667/1667 [==============================] - 317s 190ms/step - loss: 0.0777 - binary_accuracy: 0.9726 - val_loss: 0.3064 - val_binary_accuracy: 0.8967 ETA: 3: - ETA: 2:34 - loss: 0.0826 - - ETA: 2:30 - loss: 0.0815 - binar - ETA: 2:27 - loss: 0.0812 - bi - ETA: 2:23 - loss: 0.0829 - binary_accuracy: 0 - ETA: 2:22 - loss: 0.0827  - ETA: 2:18 - loss: 0.081 - ETA: 2:13 -  - ETA: 2:06 - l - ETA: 1:59 - loss: 0.0783 - binary_accuracy: 0. - E - ETA: 1:50 - loss: 0.0797 - - ETA: 1:46 - loss: 0.0793 - binary_accuracy: 0 - ETA: 1:45  - ET - ETA: 1:29 - loss: 0.0774 - binary_accuracy: 0 - ETA: 1:28 - loss: 0.0784 - binary_accuracy - ETA: 1:17 - loss: 0.0832 - bin - ETA: 1:14 - loss: 0.0833 - binary_accura - ETA: 1:12 - loss: 0.0838  - ETA: 1:08 - loss: 0.0839 - ETA: 1:03 - loss: 0.0831 - binary_accuracy:  - ETA: 1:02 - loss: 0.0828 - binary_accuracy:  - ETA: 1 - ETA: 33s - loss: 0.08 - ETA: 26s - loss: 0.0798 - binary_accuracy:  - ETA: 25s - loss: 0.0796 - - ETA: 9s - loss: 0.0785 - binary_acc - ETA: 6s - loss: 0.0784 - binary - ETA: 3s - loss: 0.0782 - bi\n",
      "Epoch 5/10\n",
      "1667/1667 [==============================] - 320s 192ms/step - loss: 0.0539 - binary_accuracy: 0.9766 - val_loss: 0.4442 - val_binary_accuracy: 0.8708TA: 5:20 - loss: 0.0729 - binary_accuracy:  - ETA: 5:18 - loss: 0.0807 - bina - ETA: 5:11 - loss: 0.0740 - binary_accuracy: 0 - ETA: 5:10 - loss: 0.0716 - binary_acc - ETA: 5:07 - loss: 0.0650 - binary_accuracy: 0.9 - ETA: 5:06 - loss: 0.0690 - bina - ETA: 5: - ETA: 4:39 - loss: 0.0570  - ETA: 4:34 - loss: 0.0531 - binary_accuracy: - ETA: 4:33 - loss: 0.0527 -  - ETA: 4:28 - loss: 0 - ETA: 4:22 - loss: 0.0510 - binary_a - ETA: 4:19 - loss: 0.0490 - binary_accuracy: 0.97 - ETA: 4:18 - loss: 0.0488 - bina - ETA: 4:14 - loss: 0.0463 - binary_accuracy: 0.9 - ETA: 4:13 - loss: 0.0459 - binary - ETA: 4:10 - l - ETA: 4:02 - loss: 0.0446 - binary - ETA: 3:59 - loss: 0.0439 -  - ETA: 3:54 - loss: 0.0435 - binary_a - ETA: 3:51 - loss: 0.0440 - binary_accuracy: 0.9 - ETA: 3:51 - loss: 0.0437 - binary_accuracy: 0.982 - ETA: 3:50 - loss: 0.0437 - binary_accuracy: 0.982 - ETA: 3:50 - loss: 0.0438 - binary_accu - ETA: 3:48 - loss: 0.0431 - binary_accuracy: - ETA: 3:46 - loss: 0.0425 - binary_accurac - ETA: 3:45 - loss: 0.0420 - binary_accura - ETA:  - ETA: 3:34 - loss: 0.0441 - binary_accuracy: - ETA: 3:32 - loss: 0. - ETA: 3:26 - loss: 0.0443 - binary - ETA: 3:23 - loss: 0.0451 - binary_accuracy: - ETA: 3:21 - loss: 0.0449 - binary_accur - ETA: 3:19 - loss: 0.0446 - binary - ETA: 3:16 - loss: 0.0453 -  - ETA: 3:11 - loss: 0.0485  - ETA: 3:06 - loss: 0.0505 - binary_a - ETA: 3:03 - loss: 0.0529 - binary_accuracy: 0.97 - ETA: 3:03 - loss: 0.0534 - binary_accuracy: 0.977 - ETA: 3:03 - loss: 0.0536 - binary_accuracy: 0.977 - ETA: 3:03 - - - ETA: 2:35 - loss: 0.0562 - binary_accur - ETA: 2:33 - lo - ETA: 1:55 - loss: 0.0580 - binary_accuracy: 0 - ETA: 1:54 - loss: 0.0578 - binary_accuracy: 0.974 - ETA: 1:54 - loss: 0.0577 - binary_accuracy: 0. - ETA: 1:53 - loss: 0.0576 - binary_accuracy: 0.9 - ETA: 1:52 - loss: 0 - ETA: 1:36 - loss: 0.0550 - bin - ETA: 1:33 - loss: 0.0542 - binary_accu - ETA: 1:30 - loss: 0.0537 - binary_accuracy: 0.9 - ETA: 1:30 - loss: 0.0536 - binary_acc\n",
      "Epoch 6/10\n",
      "1667/1667 [==============================] - 307s 184ms/step - loss: 0.0353 - binary_accuracy: 0.9872 - val_loss: 0.2819 - val_binary_accuracy: 0.9150ETA: 2:16 - loss: 0.0381 - binary_accuracy - ETA: 2:15 - loss: 0.0383 - binary_accuracy: 0.98 - ETA: 2:15 - loss: 0.0382 -   - ETA: 21s - ETA: 7\n",
      "Epoch 7/10\n"
     ]
    },
    {
     "name": "stdout",
     "output_type": "stream",
     "text": [
      "1667/1667 [==============================] - 324s 194ms/step - loss: 0.0328 - binary_accuracy: 0.9886 - val_loss: 0.2759 - val_binary_accuracy: 0.91580.0336 - bina - ETA: 3:23 - loss: 0.038 - ETA: 3:18 - loss: 0.0395 - binary_accuracy: 0.986 - ETA: 3:18 - loss: 0.0397 - binary_accuracy:  - ETA: 3:17 - loss: 0.0395 - binary_accur - ETA: 3:15 - ETA: 2:42 - loss - ETA: 2:36 - loss: 0.0380 - binary_accuracy: 0.9 - ETA: 2:35 - loss: 0.0380 - binary - ETA: 2:33 - loss: 0.0378 - binary_accuracy: - ETA: 2:31 - loss: 0. - ETA: 2:26 - loss: 0.0376 - binary - ETA: 2:23 - loss:  - ETA: 2:18 - loss: 0.0361 - binary_accura - ETA: 2:16 - loss: 0.0357 - binary_accur - ETA: 2:14 - loss: 0.0364 - binary_accuracy: 0.987 - ETA: 2:14 - loss: 0.03 - ETA: 2:09 - loss: 0.0375 - bi - ETA: 2:06 - loss: 0.037 - ETA: 2:01 - loss: 0.0374 - binary_accuracy: - ETA: 1:59 - loss: 0.0378 - - ETA: 1:55 - loss: 0.0377 - binary_accuracy: 0.98 - ETA: - ETA: 20s - loss: 0.0333 - binary_accuracy - ETA: 0s - loss: 0.0329 - binary_accuracy: 0.\n",
      "Epoch 8/10\n",
      "1667/1667 [==============================] - 310s 186ms/step - loss: 0.0391 - binary_accuracy: 0.9852 - val_loss: 0.2864 - val_binary_accuracy: 0.9017ccuracy - ETA: 4:31 - loss: 0.0112 - binary_ac - ETA: 4:29 - loss: 0.0143 - - ETA - ETA: 4:04 - lo - ETA: 3:57 - loss: 0.0482 - binary_ - ETA: 3:54 - loss: 0.0505 - binary_accuracy:  - ETA: 3:53 - loss: 0.0506 - bina - ETA: 3:50 - loss: 0.0504 - bina - ETA: 30s - loss: 0.04 - ETA: 28s - loss: 0.0407 - binary_accuracy:  - ETA: 27s - loss: 0.0407 - binary_ - ETA: 26s - loss:  - ETA: 23s - loss: 0.0403 - binary_accuracy - ETA - ETA:  - ETA - ETA: 10s - loss: 0.0401 -  - ETA: 7s\n",
      "Epoch 9/10\n",
      "1667/1667 [==============================] - 315s 189ms/step - loss: 0.0189 - binary_accuracy: 0.9944 - val_loss: 0.2517 - val_binary_accuracy: 0.9308 0.0035 - binary_acc - ETA: 4:43 - loss: 0.004 - ETA: 4:39 - loss: 0.0034 - binar - ETA: 4 - ETA: 4:17 - loss: 0.0066 - binary_a - - ETA: 4:04 - loss: 0.0072 - binary_accuracy:  -  - ETA: 3:55 - loss: 0.0150 - binary_accuracy:  - ETA: 3:53 - loss: 0.0156 - binary_ac - ETA: 3:51 - loss: 0.0 - ETA: 3:36 - loss: 0.0149 - bin - ETA: 3:32 -  - ETA: 3:26 - loss: 0.0136 -  - ETA: 3:12 - loss: 0.0124 - binary_accur - ETA: 3:10 - loss: 0.01 - ETA: 3:05 - loss: 0.0125 - binary_accuracy: 0.9 - ETA: 3:04 - loss: 0.0137 - binary_acc - ETA: 3:02 - loss: 0.0149 - binary - ETA: 2:59 - loss: 0.0146 - binary_accura - ETA: 2:57 - lo - ETA: 2:50 - loss: 0.0192 - binary_accuracy: - ETA: 2:49 - loss: 0.0190 - binary - ETA: 2:46 - loss: 0.0189 - bi - ETA: 2: - ETA: 2:34 - loss: 0.0177 - binary_accuracy: 0.995  - ETA: 2:25 - loss: 0.0174 - bina - ETA: 2:21 - loss: 0.0172 - b - ETA: 2:08 - loss: 0.0160 - binary_a - ETA: 2:05 - loss: 0.0159 - binary_accuracy: - ETA: 2:04 - loss: 0.0158 - binary_accuracy: 0. - ETA - E - ETA: 1:46 - loss: 0.0147 - binary_accuracy: 0. - ETA: 1:45 - loss: 0.0 - ETA: 1:40 - loss: 0.0143 - binary_ac - ETA: 1:38 - loss: 0.014 - E - ETA: 1:24 - loss: 0.0133 - binary_accur - ETA: 1:22 - loss: 0.0132 - binary_accuracy: - ETA: 1:21 - loss: 0.0131 - binary_accuracy: 0 - E - ETA: 56s - loss: 0.0130 - b - - ETA: 44s - loss: 0.0141 - binary_ - ETA: 43s - loss: 0.0140 - -  - ETA: 7s - loss: 0.0192 - binary - ETA: 4s - loss: 0.0191 - binary_accuracy: 0 - ETA: 3s - loss: 0.0190 - binary_ - ETA: 1s - loss: 0.0189 - binary_accuracy:\n",
      "Epoch 10/10\n",
      "1667/1667 [==============================] - 324s 195ms/step - loss: 0.0296 - binary_accuracy: 0.9898 - val_loss: 0.3100 - val_binary_accuracy: 0.9125:18 - loss: 0.0085 - binary_accuracy:  - ETA: 5:15 - loss: 0.00 - ETA: 5:07 - loss: 0.0070  - ETA: 5:01 - loss: 0.0060 - binary_accuracy: 0 - ETA: 5:00 - loss: 0.00 - ETA: 4:54 - loss: 0.0052 - binary_accuracy:  - ETA: 4:52 - loss: 0.0051 -  - ETA:  - ETA: 4:37  - ETA: 4:29 - loss: 0.0138 - binary_accuracy: 0.995 - ETA: 4:28 - loss: 0.0138 - binary_accuracy:  - ETA: 4:27 - loss: 0.0145 - binar - ETA: 4:24 - loss: 0.027 - ETA: 4:18 - loss: 0.0554 - binary_accurac - ETA: 4:16 - loss: 0.0571 - binary_accur - ETA: 4:14 - loss: 0.056 - ETA: 4:08 - loss: 0.0555 - - ETA: 4:03 - loss: 0.0527 - bina - ETA: 4:00 - loss: 0.0509 - bina - ETA: 3:56 - loss: 0.0494 - binary_accuracy: - ETA: 3:54 - loss: 0.0487 - binary_a - ETA: 3:51 - loss: 0.0486 - binary_accuracy: 0.9 - ETA: 3:51 - loss: 0.0483 - binar - ETA: 3:47 - loss: 0.0470 - binary_accuracy:  - ETA: 3:46 - loss: 0.0465 - binary_accuracy - ETA: 3:33 - loss: 0.0433 - binary_accuracy: 0.986 - ETA: 3:33 - loss: 0.0432 - - ETA: 3:28 - loss: 0.0417 - binary_accuracy - ETA: 3:27 - loss: 0.0411 - binary_accuracy: 0.9 - ETA: 3:26 - loss: 0.0409 - binary_accuracy: 0 - ETA: 3:25 - loss: 0. - ETA: 3:19 - loss: 0.0390 - binary_accuracy: 0. - ETA: 3:18 - loss: 0.0388 - binary_accuracy:  - ETA: 3:17 - loss: 0.0385 - binary_a - ETA: 3:14 - loss: 0.0377 - binary_accur - ETA: 3:12 - loss: 0.0371 - binary_accuracy: 0.98 - ETA: 3:11 - loss: 0.0370 - binary_accuracy: - ETA: 3:10 - loss: 0.0367 - binary_accuracy: - ETA: 3:0 - ETA: 3:00 - loss: 0 - ETA: 2:54 - loss: 0.0333 - binary_acc - ETA:  - ETA: 2:43 - loss: - ETA: 2:36 - loss: 0.0299 - binar - ETA: 2:33 - loss: 0.02 - ETA: 2:27 - loss: 0.0289 - binary_accu - ETA: 2:25 - loss:  - ETA: 2:18 - loss: 0.0279 - binary_accur - ETA: 2:16 - loss: 0.0276 - binary_accur - - ETA: 2:04 - loss: 0.0267 - binary_accuracy: 0.991 - ETA: 2:04 - loss: 0.0267 - binary - ETA: 2 - ETA: 1:52 - loss: 0.0 - ETA: 1:47 - loss: 0.0248 - binary_accuracy: 0.9 - E - ETA: 1:26 - loss: 0.0248 - - ETA: 1:22 - loss: 0.0259 - binary_accuracy: 0 - ETA: 1:21 - loss: 0.0258 - binary_accuracy: 0.991 - ETA: 1:21 - l - ETA: 1:14 - loss: 0 - ETA: 14s - loss: 0. - ETA: 11s - loss: 0.02 - ET\n"
     ]
    }
   ],
   "source": [
    "history_fine_tune=model.fit(X_train[:5000],y_train[:5000], batch_size=3, epochs=epochs1, validation_data=(X_test[:1200],y_test[:1200]))"
   ]
  },
  {
   "cell_type": "code",
   "execution_count": 41,
   "id": "42fd4c24",
   "metadata": {},
   "outputs": [
    {
     "name": "stderr",
     "output_type": "stream",
     "text": [
      "D:\\projects\\Jupyter\\gpu-env\\lib\\site-packages\\keras\\engine\\functional.py:1410: CustomMaskWarning: Custom mask layers require a config and must override get_config. When loading, the custom mask layer must be passed to the custom_objects argument.\n",
      "  layer_config = serialize_layer_fn(layer)\n"
     ]
    }
   ],
   "source": [
    "model.save(\"../saved_models/xcep_try1_ft1.h5\")"
   ]
  },
  {
   "cell_type": "code",
   "execution_count": 42,
   "id": "42ef9071",
   "metadata": {},
   "outputs": [],
   "source": [
    "def plot_accuracy(history):\n",
    "    plt.plot(history.history['val_binary_accuracy'])\n",
    "    plt.plot(history.history['binary_accuracy'])\n",
    "#     plt.plot(history.history['val_sparse_categorical_accuracy'])\n",
    "#     plt.plot(history.history['sparse_categorical_accuracy'])\n",
    "    plt.title('model accuracy')\n",
    "    plt.ylabel('accuracy')\n",
    "    plt.xlabel('epoch')\n",
    "    plt.legend(['val_accuracy', 'Train_accuracy'], loc = 'best')\n",
    "    plt.show()"
   ]
  },
  {
   "cell_type": "code",
   "execution_count": 43,
   "id": "d27c0dd8",
   "metadata": {},
   "outputs": [
    {
     "data": {
      "image/png": "[encoded data removed]",
      "text/plain": [
       "<Figure size 432x288 with 1 Axes>"
      ]
     },
     "metadata": {
      "needs_background": "light"
     },
     "output_type": "display_data"
    }
   ],
   "source": [
    "plot_accuracy(history_fine_tune)"
   ]
  },
  {
   "cell_type": "code",
   "execution_count": 44,
   "id": "9435731d",
   "metadata": {},
   "outputs": [],
   "source": [
    "def plot_loss(history):\n",
    "    plt.plot(history.history['val_loss'])\n",
    "    plt.plot(history.history['loss'])\n",
    "    plt.title('model loss')\n",
    "    plt.ylabel('loss')\n",
    "    plt.xlabel('epoch')\n",
    "    plt.legend(['val_loss', 'train_loss'], loc = 'best')\n",
    "    plt.show()"
   ]
  },
  {
   "cell_type": "code",
   "execution_count": 45,
   "id": "54426d32",
   "metadata": {},
   "outputs": [
    {
     "data": {
      "image/png": "[encoded data removed]",
      "text/plain": [
       "<Figure size 432x288 with 1 Axes>"
      ]
     },
     "metadata": {
      "needs_background": "light"
     },
     "output_type": "display_data"
    }
   ],
   "source": [
    "plot_loss(history_fine_tune)"
   ]
  },
  {
   "cell_type": "code",
   "execution_count": null,
   "id": "efb342f1",
   "metadata": {},
   "outputs": [],
   "source": []
  }
 ],
 "metadata": {
  "kernelspec": {
   "display_name": "Python [conda env:gpu-env] *",
   "language": "python",
   "name": "conda-env-gpu-env-py"
  },
  "language_info": {
   "codemirror_mode": {
    "name": "ipython",
    "version": 3
   },
   "file_extension": ".py",
   "mimetype": "text/x-python",
   "name": "python",
   "nbconvert_exporter": "python",
   "pygments_lexer": "ipython3",
   "version": "3.8.11"
  }
 },
 "nbformat": 4,
 "nbformat_minor": 5
}
