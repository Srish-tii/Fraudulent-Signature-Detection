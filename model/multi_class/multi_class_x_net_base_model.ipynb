{
 "cells": [
  {
   "cell_type": "code",
   "execution_count": 1,
   "id": "3eb06687",
   "metadata": {},
   "outputs": [
    {
     "name": "stdout",
     "output_type": "stream",
     "text": [
      "Num GPUs Available:  1\n"
     ]
    }
   ],
   "source": [
    "from tensorflow.python.client import device_lib\n",
    "#print(device_lib.list_local_devices())\n",
    "\n",
    "import tensorflow as tf\n",
    "print(\"Num GPUs Available: \", len(tf.config.experimental.list_physical_devices('GPU')))\n",
    "physical_devices = tf.config.list_physical_devices('GPU')\n",
    "#tf.config.experimental.set_memory_growth(physical_devices[0], enable=True)"
   ]
  },
  {
   "cell_type": "code",
   "execution_count": 95,
   "id": "06c70fe9",
   "metadata": {},
   "outputs": [],
   "source": [
    "from tensorflow import keras\n",
    "from tensorflow.keras import layers, models, metrics\n",
    "from tensorflow.keras.models import Sequential, load_model\n",
    "from tensorflow.keras.callbacks import ModelCheckpoint\n",
    "from tensorflow.keras import optimizers\n",
    "from tensorflow.keras.optimizers import SGD\n",
    "from tensorflow.keras.applications import *\n",
    "from tensorflow.keras.layers import Rescaling,BatchNormalization, Conv2D, MaxPooling2D, Flatten, Dense, Input, Dropout, GlobalAveragePooling2D \n",
    "from sklearn.model_selection import train_test_split"
   ]
  },
  {
   "cell_type": "code",
   "execution_count": 3,
   "id": "948230a0",
   "metadata": {},
   "outputs": [],
   "source": [
    "import cv2\n",
    "import numpy as np\n",
    "import tensorflow as tf\n",
    "from tensorflow import keras\n"
   ]
  },
  {
   "cell_type": "code",
   "execution_count": 4,
   "id": "dac58aa2",
   "metadata": {},
   "outputs": [],
   "source": [
    "data=\"../../data/data_individual/train/\""
   ]
  },
  {
   "cell_type": "code",
   "execution_count": 5,
   "id": "eee19ff2",
   "metadata": {},
   "outputs": [],
   "source": [
    "X=[]\n",
    "Y=[]"
   ]
  },
  {
   "cell_type": "code",
   "execution_count": 126,
   "id": "0c342832",
   "metadata": {},
   "outputs": [
    {
     "name": "stdout",
     "output_type": "stream",
     "text": [
      "Found 1649 files belonging to 128 classes.\n",
      "Using 1320 files for training.\n"
     ]
    }
   ],
   "source": [
    "complete_data_train=tf.keras.preprocessing.image_dataset_from_directory(data,image_size=(256,512),shuffle=True,seed=69,subset=\"training\",labels=\"inferred\",\n",
    "    label_mode=\"categorical\",validation_split=0.2,batch_size=8)"
   ]
  },
  {
   "cell_type": "code",
   "execution_count": 127,
   "id": "fc867115",
   "metadata": {},
   "outputs": [
    {
     "name": "stdout",
     "output_type": "stream",
     "text": [
      "Found 1649 files belonging to 128 classes.\n",
      "Using 329 files for validation.\n"
     ]
    }
   ],
   "source": [
    "complete_data_val=tf.keras.preprocessing.image_dataset_from_directory(data,image_size=(256,512),shuffle=True,seed=69,subset=\"validation\",labels=\"inferred\",\n",
    "    label_mode=\"categorical\",validation_split=0.2,batch_size=8)"
   ]
  },
  {
   "cell_type": "code",
   "execution_count": 128,
   "id": "f475ed77",
   "metadata": {},
   "outputs": [
    {
     "name": "stdout",
     "output_type": "stream",
     "text": [
      "<BatchDataset shapes: ((None, 256, 512, 3), (None, 128)), types: (tf.float32, tf.float32)>\n"
     ]
    }
   ],
   "source": [
    "print(complete_data_val)"
   ]
  },
  {
   "cell_type": "code",
   "execution_count": 129,
   "id": "9dc8ddeb",
   "metadata": {},
   "outputs": [],
   "source": [
    "input_shape=(256,512,3)"
   ]
  },
  {
   "cell_type": "code",
   "execution_count": 139,
   "id": "978f9dca",
   "metadata": {},
   "outputs": [],
   "source": [
    "base_model = keras.applications.Xception(\n",
    "    weights=\"imagenet\",  # Load weights pre-trained on ImageNet.\n",
    "    input_shape=(256, 512, 3),\n",
    "    include_top=False,\n",
    ")"
   ]
  },
  {
   "cell_type": "code",
   "execution_count": 140,
   "id": "dbf7444d",
   "metadata": {},
   "outputs": [],
   "source": [
    "base_model.trainable = False"
   ]
  },
  {
   "cell_type": "code",
   "execution_count": 141,
   "id": "a574a12d",
   "metadata": {},
   "outputs": [],
   "source": [
    "inputs = keras.Input(shape=(256, 512, 3))\n",
    "x=inputs\n",
    "x = layers.Rescaling(1./255)(x)"
   ]
  },
  {
   "cell_type": "code",
   "execution_count": 142,
   "id": "69eacb9f",
   "metadata": {},
   "outputs": [],
   "source": [
    "x = base_model(x, training=False)\n",
    "x = keras.layers.GlobalAveragePooling2D()(x)\n",
    "x = keras.layers.Dropout(0.2)(x)  # Regularize with dropout\n",
    "outputs = keras.layers.Dense(128)(x)\n",
    "model = keras.Model(inputs, outputs)"
   ]
  },
  {
   "cell_type": "code",
   "execution_count": 143,
   "id": "481ec759",
   "metadata": {},
   "outputs": [
    {
     "name": "stdout",
     "output_type": "stream",
     "text": [
      "Model: \"model_4\"\n",
      "_________________________________________________________________\n",
      " Layer (type)                Output Shape              Param #   \n",
      "=================================================================\n",
      " input_27 (InputLayer)       [(None, 256, 512, 3)]     0         \n",
      "                                                                 \n",
      " rescaling_7 (Rescaling)     (None, 256, 512, 3)       0         \n",
      "                                                                 \n",
      " xception (Functional)       (None, 8, 16, 2048)       20861480  \n",
      "                                                                 \n",
      " global_average_pooling2d_7   (None, 2048)             0         \n",
      " (GlobalAveragePooling2D)                                        \n",
      "                                                                 \n",
      " dropout_7 (Dropout)         (None, 2048)              0         \n",
      "                                                                 \n",
      " dense_7 (Dense)             (None, 128)               262272    \n",
      "                                                                 \n",
      "=================================================================\n",
      "Total params: 21,123,752\n",
      "Trainable params: 262,272\n",
      "Non-trainable params: 20,861,480\n",
      "_________________________________________________________________\n"
     ]
    }
   ],
   "source": [
    "model.summary()"
   ]
  },
  {
   "cell_type": "code",
   "execution_count": 145,
   "id": "ab17ece9",
   "metadata": {},
   "outputs": [],
   "source": [
    "model.compile(\n",
    "    optimizer=keras.optimizers.Adam(),\n",
    "#     loss=keras.losses.SparseCategoricalCrossentropy(from_logits=True),\n",
    "    loss=\"categorical_crossentropy\",\n",
    "    metrics=[\"Accuracy\"],\n",
    ")\n",
    "\n",
    "epochs = 20"
   ]
  },
  {
   "cell_type": "code",
   "execution_count": 146,
   "id": "c8d980ed",
   "metadata": {},
   "outputs": [
    {
     "name": "stdout",
     "output_type": "stream",
     "text": [
      "Epoch 1/20\n",
      "165/165 [==============================] - 19s 106ms/step - loss: 9.2905 - Accuracy: 0.0258 - val_loss: 10.2176 - val_Accuracy: 0.0456\n",
      "Epoch 2/20\n",
      "165/165 [==============================] - 17s 102ms/step - loss: 10.7328 - Accuracy: 0.0492 - val_loss: 11.0073 - val_Accuracy: 0.0334\n",
      "Epoch 3/20\n",
      "165/165 [==============================] - 17s 103ms/step - loss: 11.1444 - Accuracy: 0.0621 - val_loss: 11.7438 - val_Accuracy: 0.0426\n",
      "Epoch 4/20\n",
      "165/165 [==============================] - 17s 104ms/step - loss: 11.7540 - Accuracy: 0.0742 - val_loss: 12.0323 - val_Accuracy: 0.0213\n",
      "Epoch 5/20\n",
      "165/165 [==============================] - 17s 106ms/step - loss: 11.7896 - Accuracy: 0.0712 - val_loss: 11.6813 - val_Accuracy: 0.0182\n",
      "Epoch 6/20\n",
      "165/165 [==============================] - 17s 104ms/step - loss: 11.8475 - Accuracy: 0.0614 - val_loss: 10.8483 - val_Accuracy: 0.0182\n",
      "Epoch 7/20\n",
      "165/165 [==============================] - 17s 103ms/step - loss: 12.1547 - Accuracy: 0.0538 - val_loss: 11.7914 - val_Accuracy: 0.0152\n",
      "Epoch 8/20\n",
      "165/165 [==============================] - 17s 103ms/step - loss: 11.7705 - Accuracy: 0.0508 - val_loss: 11.6587 - val_Accuracy: 0.0122\n",
      "Epoch 9/20\n",
      "165/165 [==============================] - 17s 102ms/step - loss: 12.4191 - Accuracy: 0.0576 - val_loss: 11.9451 - val_Accuracy: 0.0152\n",
      "Epoch 10/20\n",
      "165/165 [==============================] - 17s 102ms/step - loss: 12.3035 - Accuracy: 0.0515 - val_loss: 11.6297 - val_Accuracy: 0.0152\n",
      "Epoch 11/20\n",
      "165/165 [==============================] - 17s 102ms/step - loss: 12.2959 - Accuracy: 0.0523 - val_loss: 11.7889 - val_Accuracy: 0.0152\n",
      "Epoch 12/20\n",
      "165/165 [==============================] - 17s 102ms/step - loss: 12.7477 - Accuracy: 0.0523 - val_loss: 11.7752 - val_Accuracy: 0.0152\n",
      "Epoch 13/20\n",
      "165/165 [==============================] - 17s 102ms/step - loss: 12.3890 - Accuracy: 0.0508 - val_loss: 10.5515 - val_Accuracy: 0.0122\n",
      "Epoch 14/20\n",
      "165/165 [==============================] - 17s 102ms/step - loss: 12.4280 - Accuracy: 0.0492 - val_loss: 11.6520 - val_Accuracy: 0.0152\n",
      "Epoch 15/20\n",
      "165/165 [==============================] - 17s 103ms/step - loss: 12.1925 - Accuracy: 0.0455 - val_loss: 11.9166 - val_Accuracy: 0.0091\n",
      "Epoch 16/20\n",
      "165/165 [==============================] - 17s 105ms/step - loss: 12.6115 - Accuracy: 0.0356 - val_loss: 11.0843 - val_Accuracy: 0.0091\n",
      "Epoch 17/20\n",
      "165/165 [==============================] - 17s 104ms/step - loss: 12.6536 - Accuracy: 0.0364 - val_loss: 10.6921 - val_Accuracy: 0.0091\n",
      "Epoch 18/20\n",
      "165/165 [==============================] - 17s 103ms/step - loss: 12.4614 - Accuracy: 0.0417 - val_loss: 11.8626 - val_Accuracy: 0.0122\n",
      "Epoch 19/20\n",
      "165/165 [==============================] - 17s 104ms/step - loss: 12.9178 - Accuracy: 0.0439 - val_loss: 10.2996 - val_Accuracy: 0.0182\n",
      "Epoch 20/20\n",
      "165/165 [==============================] - 17s 103ms/step - loss: 12.4986 - Accuracy: 0.0462 - val_loss: 11.9985 - val_Accuracy: 0.0213\n"
     ]
    }
   ],
   "source": [
    "base_model_=model.fit(complete_data_train, batch_size=8,epochs=epochs, validation_data=complete_data_val)"
   ]
  },
  {
   "cell_type": "code",
   "execution_count": 147,
   "id": "8db9a724",
   "metadata": {},
   "outputs": [
    {
     "data": {
      "text/plain": [
       "'D:\\\\projects\\\\Personal\\\\Fraudulent-Signature-Detection\\\\model\\\\multi_class'"
      ]
     },
     "execution_count": 147,
     "metadata": {},
     "output_type": "execute_result"
    }
   ],
   "source": [
    "pwd"
   ]
  },
  {
   "cell_type": "code",
   "execution_count": 148,
   "id": "8717c867",
   "metadata": {},
   "outputs": [
    {
     "name": "stderr",
     "output_type": "stream",
     "text": [
      "D:\\projects\\Jupyter\\gpu-env\\lib\\site-packages\\keras\\engine\\functional.py:1410: CustomMaskWarning: Custom mask layers require a config and must override get_config. When loading, the custom mask layer must be passed to the custom_objects argument.\n",
      "  layer_config = serialize_layer_fn(layer)\n"
     ]
    }
   ],
   "source": [
    "model.save(\"../saved_models/multi_class_x_net_base_model.h5\")"
   ]
  }
 ],
 "metadata": {
  "kernelspec": {
   "display_name": "Python [conda env:gpu-env] *",
   "language": "python",
   "name": "conda-env-gpu-env-py"
  },
  "language_info": {
   "codemirror_mode": {
    "name": "ipython",
    "version": 3
   },
   "file_extension": ".py",
   "mimetype": "text/x-python",
   "name": "python",
   "nbconvert_exporter": "python",
   "pygments_lexer": "ipython3",
   "version": "3.8.11"
  }
 },
 "nbformat": 4,
 "nbformat_minor": 5
}
