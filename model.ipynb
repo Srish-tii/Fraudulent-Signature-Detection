{
 "cells": [
  {
   "cell_type": "code",
   "execution_count": 1,
   "id": "5db71193",
   "metadata": {},
   "outputs": [
    {
     "name": "stdout",
     "output_type": "stream",
     "text": [
      "Num GPUs Available:  1\n"
     ]
    }
   ],
   "source": [
    "from tensorflow.python.client import device_lib\n",
    "#print(device_lib.list_local_devices())\n",
    "\n",
    "import tensorflow as tf\n",
    "print(\"Num GPUs Available: \", len(tf.config.experimental.list_physical_devices('GPU')))\n",
    "physical_devices = tf.config.list_physical_devices('GPU')\n",
    "tf.config.experimental.set_memory_growth(physical_devices[0], enable=True)"
   ]
  },
  {
   "cell_type": "code",
   "execution_count": 2,
   "id": "5f1c2b9c",
   "metadata": {},
   "outputs": [],
   "source": [
    "import tensorflow as tf\n",
    "import pandas as pd\n",
    "import matplotlib.pyplot as plt"
   ]
  },
  {
   "cell_type": "code",
   "execution_count": 347,
   "id": "fc60cccb",
   "metadata": {},
   "outputs": [],
   "source": [
    "from tensorflow import keras\n",
    "from tensorflow.keras import layers\n",
    "from tensorflow.keras.models import Sequential, load_model\n",
    "from tensorflow.keras.callbacks import ModelCheckpoint\n",
    "from tensorflow.keras.layers import BatchNormalization, Conv2D, MaxPooling2D, Flatten, Dense, Input, Dropout "
   ]
  },
  {
   "cell_type": "code",
   "execution_count": 365,
   "id": "772c62d8",
   "metadata": {},
   "outputs": [],
   "source": [
    "data=\"data/cleaned_all_data/\""
   ]
  },
  {
   "cell_type": "code",
   "execution_count": 366,
   "id": "fa2189bf",
   "metadata": {},
   "outputs": [],
   "source": [
    "df=pd.read_csv(\"data/annotated_data.csv\")"
   ]
  },
  {
   "cell_type": "code",
   "execution_count": 367,
   "id": "a297832c",
   "metadata": {},
   "outputs": [
    {
     "data": {
      "text/plain": [
       "<bound method DataFrame.info of                    data  annotation\n",
       "0       E-S-01-F-01.png           1\n",
       "1       E-S-01-F-02.png           1\n",
       "2       E-S-01-F-03.png           1\n",
       "3       E-S-01-F-04.png           1\n",
       "4       E-S-01-F-05.png           1\n",
       "...                 ...         ...\n",
       "18300  B-S-100-G-20.tif           0\n",
       "18301  B-S-100-G-21.tif           0\n",
       "18302  B-S-100-G-22.tif           0\n",
       "18303  B-S-100-G-23.tif           0\n",
       "18304  B-S-100-G-24.tif           0\n",
       "\n",
       "[18305 rows x 2 columns]>"
      ]
     },
     "execution_count": 367,
     "metadata": {},
     "output_type": "execute_result"
    }
   ],
   "source": [
    "df.info"
   ]
  },
  {
   "cell_type": "code",
   "execution_count": 368,
   "id": "d2202b41",
   "metadata": {},
   "outputs": [
    {
     "data": {
      "text/html": [
       "<div>\n",
       "<style scoped>\n",
       "    .dataframe tbody tr th:only-of-type {\n",
       "        vertical-align: middle;\n",
       "    }\n",
       "\n",
       "    .dataframe tbody tr th {\n",
       "        vertical-align: top;\n",
       "    }\n",
       "\n",
       "    .dataframe thead th {\n",
       "        text-align: right;\n",
       "    }\n",
       "</style>\n",
       "<table border=\"1\" class=\"dataframe\">\n",
       "  <thead>\n",
       "    <tr style=\"text-align: right;\">\n",
       "      <th></th>\n",
       "      <th>data</th>\n",
       "      <th>annotation</th>\n",
       "    </tr>\n",
       "  </thead>\n",
       "  <tbody>\n",
       "    <tr>\n",
       "      <th>0</th>\n",
       "      <td>E-S-01-F-01.png</td>\n",
       "      <td>1</td>\n",
       "    </tr>\n",
       "    <tr>\n",
       "      <th>1</th>\n",
       "      <td>E-S-01-F-02.png</td>\n",
       "      <td>1</td>\n",
       "    </tr>\n",
       "    <tr>\n",
       "      <th>2</th>\n",
       "      <td>E-S-01-F-03.png</td>\n",
       "      <td>1</td>\n",
       "    </tr>\n",
       "    <tr>\n",
       "      <th>3</th>\n",
       "      <td>E-S-01-F-04.png</td>\n",
       "      <td>1</td>\n",
       "    </tr>\n",
       "    <tr>\n",
       "      <th>4</th>\n",
       "      <td>E-S-01-F-05.png</td>\n",
       "      <td>1</td>\n",
       "    </tr>\n",
       "  </tbody>\n",
       "</table>\n",
       "</div>"
      ],
      "text/plain": [
       "              data  annotation\n",
       "0  E-S-01-F-01.png           1\n",
       "1  E-S-01-F-02.png           1\n",
       "2  E-S-01-F-03.png           1\n",
       "3  E-S-01-F-04.png           1\n",
       "4  E-S-01-F-05.png           1"
      ]
     },
     "execution_count": 368,
     "metadata": {},
     "output_type": "execute_result"
    }
   ],
   "source": [
    "df.head()"
   ]
  },
  {
   "cell_type": "code",
   "execution_count": 369,
   "id": "ebc45084",
   "metadata": {},
   "outputs": [],
   "source": [
    "images=df[\"data\"].values"
   ]
  },
  {
   "cell_type": "code",
   "execution_count": 370,
   "id": "f34bc935",
   "metadata": {},
   "outputs": [
    {
     "data": {
      "text/plain": [
       "18305"
      ]
     },
     "execution_count": 370,
     "metadata": {},
     "output_type": "execute_result"
    }
   ],
   "source": [
    "len(images)"
   ]
  },
  {
   "cell_type": "code",
   "execution_count": 371,
   "id": "7ba78d9d",
   "metadata": {},
   "outputs": [],
   "source": [
    "labels=df[\"annotation\"].values"
   ]
  },
  {
   "cell_type": "code",
   "execution_count": 372,
   "id": "ca697c4f",
   "metadata": {},
   "outputs": [
    {
     "data": {
      "text/plain": [
       "18305"
      ]
     },
     "execution_count": 372,
     "metadata": {},
     "output_type": "execute_result"
    }
   ],
   "source": [
    "len(labels)"
   ]
  },
  {
   "cell_type": "code",
   "execution_count": 373,
   "id": "ccf9ceed",
   "metadata": {},
   "outputs": [],
   "source": [
    "import cv2\n",
    "import numpy as np"
   ]
  },
  {
   "cell_type": "code",
   "execution_count": 374,
   "id": "8f929ca0",
   "metadata": {},
   "outputs": [],
   "source": [
    "# train_data=tf.data.Dataset.from_tensor_slices((images,labels))"
   ]
  },
  {
   "cell_type": "code",
   "execution_count": 375,
   "id": "f8a40c53",
   "metadata": {},
   "outputs": [],
   "source": [
    "# def get_images(img,label):\n",
    "#     image=cv2.imread(data+img,cv2.IMREAD_GRAYSCALE)\n",
    "#     #image=tf.image.decode_image(image,channels=1,dtype=tf.int64)\n",
    "#     return image,label"
   ]
  },
  {
   "cell_type": "code",
   "execution_count": 376,
   "id": "f5a7a840",
   "metadata": {},
   "outputs": [],
   "source": [
    "X=[]"
   ]
  },
  {
   "cell_type": "code",
   "execution_count": 377,
   "id": "d5e5be47",
   "metadata": {},
   "outputs": [],
   "source": [
    "for image in images[:]:\n",
    "    img=cv2.imread(data+image,cv2.IMREAD_UNCHANGED)\n",
    "    img=cv2.bitwise_not(img)\n",
    "    X.append(img)"
   ]
  },
  {
   "cell_type": "code",
   "execution_count": 280,
   "id": "28cd9a66",
   "metadata": {},
   "outputs": [],
   "source": [
    "X=np.array(X)"
   ]
  },
  {
   "cell_type": "code",
   "execution_count": 281,
   "id": "e5f3194d",
   "metadata": {},
   "outputs": [],
   "source": [
    "Y=[]\n",
    "for label in labels:\n",
    "    label_=[label]\n",
    "    Y.append(label_)"
   ]
  },
  {
   "cell_type": "code",
   "execution_count": 282,
   "id": "cf77a37b",
   "metadata": {},
   "outputs": [
    {
     "data": {
      "text/plain": [
       "(18305, 128, 256)"
      ]
     },
     "execution_count": 282,
     "metadata": {},
     "output_type": "execute_result"
    }
   ],
   "source": [
    "X.shape"
   ]
  },
  {
   "cell_type": "code",
   "execution_count": 283,
   "id": "76926f1a",
   "metadata": {},
   "outputs": [],
   "source": [
    "Y=np.array(Y)"
   ]
  },
  {
   "cell_type": "code",
   "execution_count": 284,
   "id": "bdd6de86",
   "metadata": {},
   "outputs": [
    {
     "data": {
      "text/plain": [
       "(18305, 1)"
      ]
     },
     "execution_count": 284,
     "metadata": {},
     "output_type": "execute_result"
    }
   ],
   "source": [
    "Y.shape"
   ]
  },
  {
   "cell_type": "code",
   "execution_count": 351,
   "id": "5141b9e7",
   "metadata": {},
   "outputs": [],
   "source": [
    "model=Sequential()"
   ]
  },
  {
   "cell_type": "code",
   "execution_count": 352,
   "id": "eed9fbd1",
   "metadata": {},
   "outputs": [],
   "source": [
    "model.add(Input((256,512,1)))\n",
    "model.add(Conv2D(32,activation = 'relu',kernel_size = (3,3)))\n",
    "model.add(MaxPooling2D(pool_size = (2,2)))\n",
    "model.add(Conv2D(64,activation = 'relu',kernel_size = (3,3)))\n",
    "model.add(MaxPooling2D(pool_size = (2,2)))\n",
    "model.add(Conv2D(128,activation = 'relu',kernel_size = (3,3)))\n",
    "model.add(MaxPooling2D(pool_size = (2,2)))\n",
    "model.add(Conv2D(256,activation = 'relu',kernel_size = (3,3)))\n",
    "model.add(MaxPooling2D(pool_size = (2,2)))\n",
    "model.add(Conv2D(512,activation = 'relu',kernel_size = (3,3)))\n",
    "model.add(MaxPooling2D(pool_size = (2,2)))\n",
    "model.add(Flatten())\n",
    "model.add(Dropout(0.3))\n",
    "model.add(Dense(256, activation = 'relu'))\n",
    "model.add(Dropout(0.3))\n",
    "model.add(Dense(32, activation = 'relu'))\n",
    "model.add(Dense(2, activation = \"softmax\"))"
   ]
  },
  {
   "cell_type": "code",
   "execution_count": 353,
   "id": "3a6704e4",
   "metadata": {},
   "outputs": [],
   "source": [
    "# model.add(Input((128,256,1)))\n",
    "# model.add(Conv2D(16,padding=\"same\",kernel_size = (3,3)))\n",
    "# model.add(MaxPooling2D(pool_size = (2,2)))\n",
    "# model.add(Flatten())\n",
    "# # model.add(Dense(2, activation = \"softmax\"))"
   ]
  },
  {
   "cell_type": "code",
   "execution_count": 354,
   "id": "d64395ff",
   "metadata": {},
   "outputs": [],
   "source": [
    "model.compile(loss = \"sparse_categorical_crossentropy\", optimizer = \"adam\", metrics = [\"accuracy\"])"
   ]
  },
  {
   "cell_type": "code",
   "execution_count": 355,
   "id": "430a8ee8",
   "metadata": {},
   "outputs": [],
   "source": [
    "filename = 'fraud_sign_det.h5'"
   ]
  },
  {
   "cell_type": "code",
   "execution_count": 356,
   "id": "a7e51171",
   "metadata": {},
   "outputs": [],
   "source": [
    "checkpoint = ModelCheckpoint(filename, monitor='val_loss', verbose=1, save_best_only=True, mode='min')"
   ]
  },
  {
   "cell_type": "code",
   "execution_count": 357,
   "id": "3f71b370",
   "metadata": {},
   "outputs": [
    {
     "name": "stdout",
     "output_type": "stream",
     "text": [
      "Model: \"sequential_16\"\n",
      "_________________________________________________________________\n",
      " Layer (type)                Output Shape              Param #   \n",
      "=================================================================\n",
      " conv2d_44 (Conv2D)          (None, 126, 254, 32)      320       \n",
      "                                                                 \n",
      " max_pooling2d_33 (MaxPoolin  (None, 63, 127, 32)      0         \n",
      " g2D)                                                            \n",
      "                                                                 \n",
      " conv2d_45 (Conv2D)          (None, 61, 125, 64)       18496     \n",
      "                                                                 \n",
      " max_pooling2d_34 (MaxPoolin  (None, 30, 62, 64)       0         \n",
      " g2D)                                                            \n",
      "                                                                 \n",
      " conv2d_46 (Conv2D)          (None, 28, 60, 128)       73856     \n",
      "                                                                 \n",
      " max_pooling2d_35 (MaxPoolin  (None, 14, 30, 128)      0         \n",
      " g2D)                                                            \n",
      "                                                                 \n",
      " conv2d_47 (Conv2D)          (None, 12, 28, 256)       295168    \n",
      "                                                                 \n",
      " max_pooling2d_36 (MaxPoolin  (None, 6, 14, 256)       0         \n",
      " g2D)                                                            \n",
      "                                                                 \n",
      " conv2d_48 (Conv2D)          (None, 4, 12, 512)        1180160   \n",
      "                                                                 \n",
      " max_pooling2d_37 (MaxPoolin  (None, 2, 6, 512)        0         \n",
      " g2D)                                                            \n",
      "                                                                 \n",
      " flatten_16 (Flatten)        (None, 6144)              0         \n",
      "                                                                 \n",
      " dropout (Dropout)           (None, 6144)              0         \n",
      "                                                                 \n",
      " dense_25 (Dense)            (None, 80)                491600    \n",
      "                                                                 \n",
      " dropout_1 (Dropout)         (None, 80)                0         \n",
      "                                                                 \n",
      " dense_26 (Dense)            (None, 32)                2592      \n",
      "                                                                 \n",
      " dense_27 (Dense)            (None, 2)                 66        \n",
      "                                                                 \n",
      "=================================================================\n",
      "Total params: 2,062,258\n",
      "Trainable params: 2,062,258\n",
      "Non-trainable params: 0\n",
      "_________________________________________________________________\n"
     ]
    }
   ],
   "source": [
    "model.summary()"
   ]
  },
  {
   "cell_type": "code",
   "execution_count": 358,
   "id": "06ea6a6f",
   "metadata": {},
   "outputs": [
    {
     "name": "stdout",
     "output_type": "stream",
     "text": [
      "Epoch 1/10\n",
      "1602/1602 [==============================] - ETA: 0s - loss: 0.7010 - accuracy: 0.6222\n",
      "Epoch 00001: val_loss improved from inf to 0.70678, saving model to fraud_sign_det.h5\n",
      "1602/1602 [==============================] - 25s 15ms/step - loss: 0.7010 - accuracy: 0.6222 - val_loss: 0.7068 - val_accuracy: 0.6012\n",
      "Epoch 2/10\n",
      "1602/1602 [==============================] - ETA: 0s - loss: 0.5551 - accuracy: 0.7050 ETA: 0s - loss: 0\n",
      "Epoch 00002: val_loss improved from 0.70678 to 0.70049, saving model to fraud_sign_det.h5\n",
      "1602/1602 [==============================] - 29s 18ms/step - loss: 0.5551 - accuracy: 0.7050 - val_loss: 0.7005 - val_accuracy: 0.6353\n",
      "Epoch 3/10\n",
      "1601/1602 [============================>.] - ETA: 0s - loss: 0.4941 - accuracy: 0.7460\n",
      "Epoch 00003: val_loss improved from 0.70049 to 0.67931, saving model to fraud_sign_det.h5\n",
      "1602/1602 [==============================] - 30s 19ms/step - loss: 0.4941 - accuracy: 0.7460 - val_loss: 0.6793 - val_accuracy: 0.6193\n",
      "Epoch 4/10\n",
      "1602/1602 [==============================] - ETA: 0s - loss: 0.4395 - accuracy: 0.7868\n",
      "Epoch 00004: val_loss did not improve from 0.67931\n",
      "1602/1602 [==============================] - 33s 21ms/step - loss: 0.4395 - accuracy: 0.7868 - val_loss: 0.7166 - val_accuracy: 0.6548\n",
      "Epoch 5/10\n",
      "1600/1602 [============================>.] - ETA: 0s - loss: 0.3706 - accuracy: 0.8241\n",
      "Epoch 00005: val_loss did not improve from 0.67931\n",
      "1602/1602 [==============================] - 34s 21ms/step - loss: 0.3704 - accuracy: 0.8242 - val_loss: 1.0316 - val_accuracy: 0.6114\n",
      "Epoch 6/10\n",
      "1601/1602 [============================>.] - ETA: 0s - loss: 0.3179 - accuracy: 0.8558\n",
      "Epoch 00006: val_loss did not improve from 0.67931\n",
      "1602/1602 [==============================] - 46s 29ms/step - loss: 0.3178 - accuracy: 0.8558 - val_loss: 0.9591 - val_accuracy: 0.6029\n",
      "Epoch 7/10\n",
      "1601/1602 [============================>.] - ETA: 0s - loss: 0.2699 - accuracy: 0.8817\n",
      "Epoch 00007: val_loss did not improve from 0.67931\n",
      "1602/1602 [==============================] - 54s 33ms/step - loss: 0.2699 - accuracy: 0.8818 - val_loss: 1.0457 - val_accuracy: 0.6502\n",
      "Epoch 8/10\n",
      "1602/1602 [==============================] - ETA: 0s - loss: 0.2347 - accuracy: 0.9019\n",
      "Epoch 00008: val_loss did not improve from 0.67931\n",
      "1602/1602 [==============================] - 84s 53ms/step - loss: 0.2347 - accuracy: 0.9019 - val_loss: 1.3261 - val_accuracy: 0.6457\n",
      "Epoch 9/10\n",
      "1602/1602 [==============================] - ETA: 0s - loss: 0.1900 - accuracy: 0.9187\n",
      "Epoch 00009: val_loss did not improve from 0.67931\n",
      "1602/1602 [==============================] - 97s 60ms/step - loss: 0.1900 - accuracy: 0.9187 - val_loss: 1.0503 - val_accuracy: 0.6400\n",
      "Epoch 10/10\n",
      "1602/1602 [==============================] - ETA: 0s - loss: 0.1807 - accuracy: 0.9286\n",
      "Epoch 00010: val_loss did not improve from 0.67931\n",
      "1602/1602 [==============================] - 118s 73ms/step - loss: 0.1807 - accuracy: 0.9286 - val_loss: 1.2285 - val_accuracy: 0.6287\n"
     ]
    }
   ],
   "source": [
    "history = model.fit(X,Y, epochs = 10, batch_size = 8, validation_split=0.3,verbose=1,callbacks=[checkpoint])"
   ]
  },
  {
   "cell_type": "code",
   "execution_count": 363,
   "id": "35fb9052",
   "metadata": {},
   "outputs": [],
   "source": [
    "def plot_accuracy(history):\n",
    "    plt.plot(history.history['val_accuracy'])\n",
    "    plt.plot(history.history['accuracy'])\n",
    "    plt.title('model accuracy')\n",
    "    plt.ylabel('accuracy')\n",
    "    plt.xlabel('epoch')\n",
    "    plt.legend(['val_accuracy', 'Train_accuracy'], loc = 'best')\n",
    "    plt.show()"
   ]
  },
  {
   "cell_type": "code",
   "execution_count": 364,
   "id": "21f9d2fb",
   "metadata": {},
   "outputs": [
    {
     "data": {
      "image/png": "[encoded data removed]",
      "text/plain": [
       "<Figure size 432x288 with 1 Axes>"
      ]
     },
     "metadata": {
      "needs_background": "light"
     },
     "output_type": "display_data"
    }
   ],
   "source": [
    "plot_accuracy(history)"
   ]
  },
  {
   "cell_type": "code",
   "execution_count": 361,
   "id": "6009cf3a",
   "metadata": {},
   "outputs": [],
   "source": [
    "def plot_loss(history):\n",
    "    plt.plot(history.history['val_loss'])\n",
    "    plt.plot(history.history['loss'])\n",
    "    plt.title('model loss')\n",
    "    plt.ylabel('loss')\n",
    "    plt.xlabel('epoch')\n",
    "    plt.legend(['val_loss', 'train_loss'], loc = 'best')\n",
    "    plt.show()"
   ]
  },
  {
   "cell_type": "code",
   "execution_count": 362,
   "id": "6b31ed0b",
   "metadata": {},
   "outputs": [
    {
     "data": {
      "image/png": "[encoded data removed]",
      "text/plain": [
       "<Figure size 432x288 with 1 Axes>"
      ]
     },
     "metadata": {
      "needs_background": "light"
     },
     "output_type": "display_data"
    }
   ],
   "source": [
    "plot_loss(history)"
   ]
  },
  {
   "cell_type": "code",
   "execution_count": null,
   "id": "236f391e",
   "metadata": {},
   "outputs": [],
   "source": []
  },
  {
   "cell_type": "code",
   "execution_count": null,
   "id": "2302f65c",
   "metadata": {},
   "outputs": [],
   "source": []
  }
 ],
 "metadata": {
  "kernelspec": {
   "display_name": "Python [conda env:gpu-env] *",
   "language": "python",
   "name": "conda-env-gpu-env-py"
  },
  "language_info": {
   "codemirror_mode": {
    "name": "ipython",
    "version": 3
   },
   "file_extension": ".py",
   "mimetype": "text/x-python",
   "name": "python",
   "nbconvert_exporter": "python",
   "pygments_lexer": "ipython3",
   "version": "3.8.11"
  }
 },
 "nbformat": 4,
 "nbformat_minor": 5
}
