{
 "cells": [
  {
   "cell_type": "code",
   "execution_count": 16,
   "id": "e6ec13c5",
   "metadata": {},
   "outputs": [
    {
     "name": "stdout",
     "output_type": "stream",
     "text": [
      "Using matplotlib backend: Qt5Agg\n"
     ]
    }
   ],
   "source": [
    "import cv2 \n",
    "%matplotlib auto"
   ]
  },
  {
   "cell_type": "code",
   "execution_count": 22,
   "id": "c6b7a9d4",
   "metadata": {},
   "outputs": [],
   "source": [
    "img =cv2.imread(\"final_cleaned_image.png\",cv2.IMREAD_GRAYSCALE)"
   ]
  },
  {
   "cell_type": "code",
   "execution_count": 85,
   "id": "91ee38c5",
   "metadata": {},
   "outputs": [
    {
     "data": {
      "text/plain": [
       "500"
      ]
     },
     "execution_count": 85,
     "metadata": {},
     "output_type": "execute_result"
    }
   ],
   "source": [
    "img.shape[0]   #output format: (y,x)"
   ]
  },
  {
   "cell_type": "code",
   "execution_count": 126,
   "id": "d97fd3fa",
   "metadata": {},
   "outputs": [],
   "source": [
    "upper_boundry=-1\n",
    "lower_boundry=img.shape[0]"
   ]
  },
  {
   "cell_type": "code",
   "execution_count": 127,
   "id": "4e9cb00b",
   "metadata": {},
   "outputs": [
    {
     "data": {
      "text/plain": [
       "500"
      ]
     },
     "execution_count": 127,
     "metadata": {},
     "output_type": "execute_result"
    }
   ],
   "source": [
    "lower_boundry"
   ]
  },
  {
   "cell_type": "code",
   "execution_count": 128,
   "id": "6af8018e",
   "metadata": {},
   "outputs": [],
   "source": [
    "for y in img[0:]:\n",
    "    upper_boundry+=1\n",
    "    if 0 in y:\n",
    "        break"
   ]
  },
  {
   "cell_type": "code",
   "execution_count": 129,
   "id": "368c5e12",
   "metadata": {},
   "outputs": [
    {
     "data": {
      "text/plain": [
       "3"
      ]
     },
     "execution_count": 129,
     "metadata": {},
     "output_type": "execute_result"
    }
   ],
   "source": [
    "upper_boundry"
   ]
  },
  {
   "cell_type": "code",
   "execution_count": 130,
   "id": "f1443104",
   "metadata": {},
   "outputs": [],
   "source": [
    "for y1 in reversed(img[upper_boundry:]):\n",
    "    lower_boundry+=-1\n",
    "    if 0 in y1:\n",
    "        break"
   ]
  },
  {
   "cell_type": "code",
   "execution_count": 131,
   "id": "c43dfc05",
   "metadata": {},
   "outputs": [
    {
     "data": {
      "text/plain": [
       "477"
      ]
     },
     "execution_count": 131,
     "metadata": {},
     "output_type": "execute_result"
    }
   ],
   "source": [
    "lower_boundry"
   ]
  },
  {
   "cell_type": "code",
   "execution_count": 135,
   "id": "c00dcdea",
   "metadata": {},
   "outputs": [],
   "source": [
    "#img[478]"
   ]
  },
  {
   "cell_type": "code",
   "execution_count": 139,
   "id": "4de58321",
   "metadata": {},
   "outputs": [],
   "source": [
    "roi = img[upper_boundry:lower_boundry, :].copy()"
   ]
  },
  {
   "cell_type": "code",
   "execution_count": 140,
   "id": "e28e2e84",
   "metadata": {},
   "outputs": [
    {
     "data": {
      "text/plain": [
       "(474, 500)"
      ]
     },
     "execution_count": 140,
     "metadata": {},
     "output_type": "execute_result"
    }
   ],
   "source": [
    "roi.shape"
   ]
  },
  {
   "cell_type": "code",
   "execution_count": 141,
   "id": "db985f2d",
   "metadata": {},
   "outputs": [],
   "source": [
    "cv2.imshow(\"cropped image\", roi)"
   ]
  },
  {
   "cell_type": "code",
   "execution_count": 142,
   "id": "28a99637",
   "metadata": {},
   "outputs": [
    {
     "data": {
      "text/plain": [
       "True"
      ]
     },
     "execution_count": 142,
     "metadata": {},
     "output_type": "execute_result"
    }
   ],
   "source": [
    "cv2.imwrite(\"final_cropped_image.png\",roi)"
   ]
  },
  {
   "cell_type": "code",
   "execution_count": null,
   "id": "27f33cc0",
   "metadata": {},
   "outputs": [],
   "source": []
  }
 ],
 "metadata": {
  "kernelspec": {
   "display_name": "Python [conda env:gpu-env] *",
   "language": "python",
   "name": "conda-env-gpu-env-py"
  },
  "language_info": {
   "codemirror_mode": {
    "name": "ipython",
    "version": 3
   },
   "file_extension": ".py",
   "mimetype": "text/x-python",
   "name": "python",
   "nbconvert_exporter": "python",
   "pygments_lexer": "ipython3",
   "version": "3.8.11"
  }
 },
 "nbformat": 4,
 "nbformat_minor": 5
}
