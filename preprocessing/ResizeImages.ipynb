{
 "cells": [
  {
   "cell_type": "code",
   "execution_count": 6,
   "id": "f3c0f8d6",
   "metadata": {},
   "outputs": [
    {
     "name": "stdout",
     "output_type": "stream",
     "text": [
      "Using matplotlib backend: Qt5Agg\n"
     ]
    }
   ],
   "source": [
    "import cv2\n",
    "%matplotlib auto"
   ]
  },
  {
   "cell_type": "markdown",
   "id": "34b27309",
   "metadata": {},
   "source": [
    "## Resize all images to 256x128 dimension"
   ]
  },
  {
   "cell_type": "code",
   "execution_count": 3,
   "id": "21825e45",
   "metadata": {},
   "outputs": [],
   "source": [
    "img=cv2.imread(\"final_cropped_image.png\")"
   ]
  },
  {
   "cell_type": "code",
   "execution_count": 16,
   "id": "ca721ce5",
   "metadata": {},
   "outputs": [],
   "source": [
    "img=cv2.resize(img, (256,128),interpolation = cv2.INTER_AREA) #takes input as x,y instead of y,x\n",
    "#use inter area interpolation as we are shrinking the image"
   ]
  },
  {
   "cell_type": "code",
   "execution_count": 17,
   "id": "e2338924",
   "metadata": {},
   "outputs": [],
   "source": [
    "cv2.imshow(\"resized image\",img)"
   ]
  },
  {
   "cell_type": "code",
   "execution_count": 18,
   "id": "f66e4d19",
   "metadata": {},
   "outputs": [
    {
     "data": {
      "text/plain": [
       "True"
      ]
     },
     "execution_count": 18,
     "metadata": {},
     "output_type": "execute_result"
    }
   ],
   "source": [
    "cv2.imwrite(\"final_resized_image.png\",img)"
   ]
  },
  {
   "cell_type": "code",
   "execution_count": null,
   "id": "66aa7357",
   "metadata": {},
   "outputs": [],
   "source": []
  }
 ],
 "metadata": {
  "kernelspec": {
   "display_name": "Python [conda env:gpu-env] *",
   "language": "python",
   "name": "conda-env-gpu-env-py"
  },
  "language_info": {
   "codemirror_mode": {
    "name": "ipython",
    "version": 3
   },
   "file_extension": ".py",
   "mimetype": "text/x-python",
   "name": "python",
   "nbconvert_exporter": "python",
   "pygments_lexer": "ipython3",
   "version": "3.8.11"
  }
 },
 "nbformat": 4,
 "nbformat_minor": 5
}
