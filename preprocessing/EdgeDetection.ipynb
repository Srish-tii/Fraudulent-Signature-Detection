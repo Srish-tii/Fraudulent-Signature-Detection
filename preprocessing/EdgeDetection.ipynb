{
 "cells": [
  {
   "cell_type": "code",
   "execution_count": 2,
   "id": "142a0c97",
   "metadata": {},
   "outputs": [
    {
     "name": "stdout",
     "output_type": "stream",
     "text": [
      "Using matplotlib backend: Qt5Agg\n"
     ]
    }
   ],
   "source": [
    "import cv2\n",
    "%matplotlib auto"
   ]
  },
  {
   "cell_type": "markdown",
   "id": "480afcb8",
   "metadata": {},
   "source": [
    "## Use canny edge detection to clean the background noise"
   ]
  },
  {
   "cell_type": "code",
   "execution_count": 7,
   "id": "af1fb13d",
   "metadata": {},
   "outputs": [],
   "source": [
    "#image=cv2.imread(\"testimg.png\")\n",
    "image=cv2.imread(\"cleaned_image.png\")\n",
    "image=cv2.cvtColor(image,cv2.COLOR_BGR2GRAY)"
   ]
  },
  {
   "cell_type": "code",
   "execution_count": 13,
   "id": "3d5bae9a",
   "metadata": {},
   "outputs": [],
   "source": [
    "#canny edge detection\n",
    "canny = cv2.Canny(image, 50, 120)\n",
    "cv2.imshow(\"Canny edge detection\",canny)\n",
    "cv2.waitKey(0)\n",
    "cv2.destroyAllWindows()"
   ]
  },
  {
   "cell_type": "code",
   "execution_count": null,
   "id": "492b5300",
   "metadata": {},
   "outputs": [],
   "source": []
  }
 ],
 "metadata": {
  "kernelspec": {
   "display_name": "Python [conda env:gpu-env] *",
   "language": "python",
   "name": "conda-env-gpu-env-py"
  },
  "language_info": {
   "codemirror_mode": {
    "name": "ipython",
    "version": 3
   },
   "file_extension": ".py",
   "mimetype": "text/x-python",
   "name": "python",
   "nbconvert_exporter": "python",
   "pygments_lexer": "ipython3",
   "version": "3.8.11"
  }
 },
 "nbformat": 4,
 "nbformat_minor": 5
}
