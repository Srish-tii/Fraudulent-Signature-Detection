{
 "cells": [
  {
   "cell_type": "markdown",
   "id": "9c18f9f7",
   "metadata": {},
   "source": [
    "## Remove background noise using illumination normalization followed by binarization"
   ]
  },
  {
   "cell_type": "code",
   "execution_count": 1,
   "id": "cbf8c657",
   "metadata": {
    "scrolled": false
   },
   "outputs": [
    {
     "name": "stdout",
     "output_type": "stream",
     "text": [
      "Using matplotlib backend: Qt5Agg\n"
     ]
    }
   ],
   "source": [
    "import cv2\n",
    "%matplotlib auto"
   ]
  },
  {
   "cell_type": "code",
   "execution_count": 2,
   "id": "2045eaa1",
   "metadata": {},
   "outputs": [],
   "source": [
    "#load original image\n",
    "image=cv2.imread(\"testimg.png\")\n",
    "image=cv2.cvtColor(image,cv2.COLOR_BGR2GRAY)"
   ]
  },
  {
   "cell_type": "code",
   "execution_count": 33,
   "id": "013bba2a",
   "metadata": {},
   "outputs": [],
   "source": [
    "se=cv2.getStructuringElement(cv2.MORPH_ELLIPSE , (3,4)) #rectangular kernel\n",
    "bg=cv2.morphologyEx(image, cv2.MORPH_DILATE, se) #close small holes using morphological transformation\n",
    "# out_gray=cv2.divide(image, bg, scale=255) #normalize illumination\n",
    "# out_binary=cv2.threshold(out_gray, 0, 255, cv2.THRESH_OTSU )[1]\n",
    "out_binary=cv2.threshold(bg, 0, 255, cv2.THRESH_OTSU )[1]\n",
    "\n",
    "cv2.imshow(\"cleaned image\", out_binary)  \n",
    "cv2.imwrite(\"cleaned_images/morph_bin_elip_3x4_no_norm.png\",out_binary)\n",
    "cv2.imshow(\"original_image\",image)\n",
    "cv2.waitKey(0)\n",
    "cv2.destroyAllWindows()"
   ]
  },
  {
   "cell_type": "markdown",
   "id": "63d20e69",
   "metadata": {},
   "source": [
    "* best till now cleaned_images/morph_bin_elip_2x3_no_norm.png --without any more processing\n",
    "* 3x4 on eliptical requires more closing --continue experimentation"
   ]
  },
  {
   "cell_type": "code",
   "execution_count": 224,
   "id": "69dd739b",
   "metadata": {},
   "outputs": [],
   "source": [
    "image1=cv2.imread(\"cleaned_images/morph_bin_elip_2x2_no_norm.png\")\n",
    "\n",
    "se1=cv2.getStructuringElement(cv2.MORPH_ELLIPSE , (2,3)) #rectangular kernel\n",
    "se2=cv2.getStructuringElement(cv2.MORPH_ELLIPSE , (2,3)) #rectangular kernel\n",
    "# bg1=cv2.morphologyEx(image1, cv2.MORPH_CLOSE, se1) #close small holes using morphological transformation\n",
    "# bg1=cv2.morphologyEx(bg1, cv2.MORPH_CLOSE, se2)\n",
    "\n",
    "\n",
    "dilation = cv2.erode(image1,se1,iterations = 1)\n",
    "final = cv2.morphologyEx(dilation, cv2.MORPH_OPEN, se2)\n",
    "\n",
    "cv2.imshow(\"original_image\",image1)\n",
    "cv2.imshow(\"cleaned image\", final) \n",
    "cv2.waitKey(0)\n",
    "cv2.destroyAllWindows()"
   ]
  },
  {
   "cell_type": "markdown",
   "id": "0d1f3f03",
   "metadata": {},
   "source": [
    "* finalise this code, 2x3, erode followed by open"
   ]
  },
  {
   "cell_type": "code",
   "execution_count": 227,
   "id": "2bdb17a5",
   "metadata": {},
   "outputs": [],
   "source": [
    "# median_blur= cv2.medianBlur(final, 5)\n",
    "# cv2.imshow('median_blur initial', median_blur)\n",
    "\n",
    "median_blur= cv2.medianBlur(final, 3)\n",
    "cv2.imshow('median_blur 3x', median_blur) \n",
    "cv2.imwrite(\"final_cleaned_image.png\", median_blur)\n",
    "cv2.waitKey()\n",
    "cv2.destroyAllWindows()"
   ]
  },
  {
   "cell_type": "markdown",
   "id": "ca709b4d",
   "metadata": {},
   "source": [
    "* finalise this code, median filter 3x3"
   ]
  },
  {
   "cell_type": "code",
   "execution_count": null,
   "id": "4f9d0288",
   "metadata": {},
   "outputs": [],
   "source": []
  }
 ],
 "metadata": {
  "kernelspec": {
   "display_name": "Python [conda env:gpu-env] *",
   "language": "python",
   "name": "conda-env-gpu-env-py"
  },
  "language_info": {
   "codemirror_mode": {
    "name": "ipython",
    "version": 3
   },
   "file_extension": ".py",
   "mimetype": "text/x-python",
   "name": "python",
   "nbconvert_exporter": "python",
   "pygments_lexer": "ipython3",
   "version": "3.8.11"
  }
 },
 "nbformat": 4,
 "nbformat_minor": 5
}
