{
 "cells": [
  {
   "cell_type": "markdown",
   "id": "9c18f9f7",
   "metadata": {},
   "source": [
    "## Remove background noise using illumination normalization followed by binarization"
   ]
  },
  {
   "cell_type": "code",
   "execution_count": 9,
   "id": "cbf8c657",
   "metadata": {},
   "outputs": [
    {
     "name": "stdout",
     "output_type": "stream",
     "text": [
      "Using matplotlib backend: Qt5Agg\n"
     ]
    }
   ],
   "source": [
    "import cv2\n",
    "%matplotlib auto"
   ]
  },
  {
   "cell_type": "code",
   "execution_count": 10,
   "id": "2045eaa1",
   "metadata": {},
   "outputs": [],
   "source": [
    "#load original image\n",
    "image=cv2.imread(\"testimg.png\")\n",
    "image=cv2.cvtColor(image,cv2.COLOR_BGR2GRAY)"
   ]
  },
  {
   "cell_type": "code",
   "execution_count": 14,
   "id": "013bba2a",
   "metadata": {},
   "outputs": [],
   "source": [
    "se=cv2.getStructuringElement(cv2.MORPH_RECT , (8,8))\n",
    "bg=cv2.morphologyEx(image, cv2.MORPH_DILATE, se)\n",
    "out_gray=cv2.divide(image, bg, scale=255)\n",
    "out_binary=cv2.threshold(out_gray, 0, 255, cv2.THRESH_OTSU )[1] \n",
    "\n",
    "cv2.imshow(\"cleaned_image\", out_binary)  \n",
    "cv2.imwrite(\"cleaned_image.png\",out_binary)\n",
    "cv2.imshow(\"original_image\",image)\n",
    "cv2.waitKey(0)\n",
    "cv2.destroyAllWindows()"
   ]
  },
  {
   "cell_type": "code",
   "execution_count": null,
   "id": "7d49a520",
   "metadata": {},
   "outputs": [],
   "source": []
  }
 ],
 "metadata": {
  "kernelspec": {
   "display_name": "Python [conda env:gpu-env] *",
   "language": "python",
   "name": "conda-env-gpu-env-py"
  },
  "language_info": {
   "codemirror_mode": {
    "name": "ipython",
    "version": 3
   },
   "file_extension": ".py",
   "mimetype": "text/x-python",
   "name": "python",
   "nbconvert_exporter": "python",
   "pygments_lexer": "ipython3",
   "version": "3.8.11"
  }
 },
 "nbformat": 4,
 "nbformat_minor": 5
}
