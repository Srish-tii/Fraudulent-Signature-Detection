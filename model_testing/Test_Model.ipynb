{
 "cells": [
  {
   "cell_type": "code",
   "execution_count": 1,
   "id": "a391a795",
   "metadata": {},
   "outputs": [
    {
     "name": "stdout",
     "output_type": "stream",
     "text": [
      "Num GPUs Available:  1\n"
     ]
    }
   ],
   "source": [
    "import tensorflow as tf\n",
    "print(\"Num GPUs Available: \", len(tf.config.experimental.list_physical_devices('GPU')))\n",
    "physical_devices = tf.config.list_physical_devices('GPU')"
   ]
  },
  {
   "cell_type": "code",
   "execution_count": 5,
   "id": "b0bd9002",
   "metadata": {},
   "outputs": [],
   "source": [
    "import cv2\n",
    "import numpy as np\n",
    "from tensorflow.keras.models import load_model"
   ]
  },
  {
   "cell_type": "code",
   "execution_count": 6,
   "id": "2cdc3727",
   "metadata": {},
   "outputs": [],
   "source": [
    "model=load_model(\"model/saved_models/XceptionNet/exceptionNet_finetune_3.h5\")"
   ]
  },
  {
   "cell_type": "code",
   "execution_count": 7,
   "id": "b0267c61",
   "metadata": {},
   "outputs": [],
   "source": [
    "from data.CleanData import *"
   ]
  },
  {
   "cell_type": "code",
   "execution_count": 8,
   "id": "f17e5bf1",
   "metadata": {},
   "outputs": [],
   "source": [
    "image1=\"06_050.png\""
   ]
  },
  {
   "cell_type": "code",
   "execution_count": 9,
   "id": "d9aac225",
   "metadata": {},
   "outputs": [],
   "source": [
    "image2=\"02_0125050.PNG\""
   ]
  },
  {
   "cell_type": "code",
   "execution_count": 10,
   "id": "f02de738",
   "metadata": {},
   "outputs": [
    {
     "data": {
      "text/plain": [
       "True"
      ]
     },
     "execution_count": 10,
     "metadata": {},
     "output_type": "execute_result"
    }
   ],
   "source": [
    "image1=process_image(image1)\n",
    "image1=cv2.bitwise_not(image1)\n",
    "cv2.imwrite(\"image1_cleaned.png\",image1)"
   ]
  },
  {
   "cell_type": "code",
   "execution_count": 11,
   "id": "57731fa1",
   "metadata": {},
   "outputs": [
    {
     "data": {
      "text/plain": [
       "True"
      ]
     },
     "execution_count": 11,
     "metadata": {},
     "output_type": "execute_result"
    }
   ],
   "source": [
    "image2=process_image(image2)\n",
    "image2=cv2.bitwise_not(image2)\n",
    "cv2.imwrite(\"image2_cleaned.png\",image2)"
   ]
  },
  {
   "cell_type": "code",
   "execution_count": 12,
   "id": "5646a332",
   "metadata": {},
   "outputs": [],
   "source": [
    "image1=cv2.imread(\"image1_cleaned.png\")\n",
    "image1=image1/255"
   ]
  },
  {
   "cell_type": "code",
   "execution_count": 13,
   "id": "b51eed2b",
   "metadata": {},
   "outputs": [],
   "source": [
    "image2=cv2.imread(\"image2_cleaned.png\")\n",
    "image2=image2/255"
   ]
  },
  {
   "cell_type": "code",
   "execution_count": 14,
   "id": "4d218b78",
   "metadata": {},
   "outputs": [
    {
     "data": {
      "text/plain": [
       "(256, 512, 3)"
      ]
     },
     "execution_count": 14,
     "metadata": {},
     "output_type": "execute_result"
    }
   ],
   "source": [
    "image1.shape"
   ]
  },
  {
   "cell_type": "code",
   "execution_count": 15,
   "id": "a339b0d6",
   "metadata": {
    "scrolled": true
   },
   "outputs": [
    {
     "data": {
      "text/plain": [
       "(1, 256, 512, 3)"
      ]
     },
     "execution_count": 15,
     "metadata": {},
     "output_type": "execute_result"
    }
   ],
   "source": [
    "image1=np.reshape(image1,(1,256,512,3),order=\"c\")\n",
    "image1.shape"
   ]
  },
  {
   "cell_type": "code",
   "execution_count": 16,
   "id": "4d3bafa1",
   "metadata": {},
   "outputs": [
    {
     "data": {
      "text/plain": [
       "(1, 256, 512, 3)"
      ]
     },
     "execution_count": 16,
     "metadata": {},
     "output_type": "execute_result"
    }
   ],
   "source": [
    "image2=np.reshape(image2,(1,256,512,3),order=\"c\")\n",
    "image2.shape"
   ]
  },
  {
   "cell_type": "code",
   "execution_count": 17,
   "id": "43d01338",
   "metadata": {
    "scrolled": true
   },
   "outputs": [],
   "source": [
    "image1_result=model.predict(image1)"
   ]
  },
  {
   "cell_type": "code",
   "execution_count": 18,
   "id": "847d7ace",
   "metadata": {},
   "outputs": [],
   "source": [
    "image2_result=model.predict(image2)"
   ]
  },
  {
   "cell_type": "code",
   "execution_count": 19,
   "id": "249aec7c",
   "metadata": {},
   "outputs": [
    {
     "name": "stdout",
     "output_type": "stream",
     "text": [
      "[[-11.976803]]\n"
     ]
    }
   ],
   "source": [
    "print(image1_result)"
   ]
  },
  {
   "cell_type": "code",
   "execution_count": 20,
   "id": "20f12fd2",
   "metadata": {},
   "outputs": [
    {
     "name": "stdout",
     "output_type": "stream",
     "text": [
      "[[7.0682316]]\n"
     ]
    }
   ],
   "source": [
    "print(image2_result)"
   ]
  },
  {
   "cell_type": "code",
   "execution_count": 21,
   "id": "525e7aa0",
   "metadata": {},
   "outputs": [],
   "source": [
    "import json"
   ]
  },
  {
   "cell_type": "code",
   "execution_count": 22,
   "id": "8519a542",
   "metadata": {},
   "outputs": [],
   "source": [
    "data_=json.load(open(\"data/annotated_data.json\"))"
   ]
  },
  {
   "cell_type": "code",
   "execution_count": 23,
   "id": "f038aab1",
   "metadata": {},
   "outputs": [
    {
     "name": "stdout",
     "output_type": "stream",
     "text": [
      "{'data': '06_050.png', 'annotation': 0}\n"
     ]
    }
   ],
   "source": [
    "for i in data_:\n",
    "    if i[\"data\"]==\"06_050.png\":\n",
    "        print(i)\n",
    "        "
   ]
  },
  {
   "cell_type": "code",
   "execution_count": 24,
   "id": "9cd17a70",
   "metadata": {},
   "outputs": [
    {
     "name": "stdout",
     "output_type": "stream",
     "text": [
      "{'data': '02_0125050.PNG', 'annotation': 1}\n"
     ]
    }
   ],
   "source": [
    "for i in data_:\n",
    "    if i[\"data\"]==\"02_0125050.PNG\":\n",
    "        print(i)"
   ]
  },
  {
   "cell_type": "code",
   "execution_count": 105,
   "id": "cdeaac86",
   "metadata": {},
   "outputs": [],
   "source": [
    "image3=\"test_fake_image.jpeg\""
   ]
  },
  {
   "cell_type": "code",
   "execution_count": 106,
   "id": "b51d4e2a",
   "metadata": {},
   "outputs": [
    {
     "data": {
      "text/plain": [
       "True"
      ]
     },
     "execution_count": 106,
     "metadata": {},
     "output_type": "execute_result"
    }
   ],
   "source": [
    "image3=process_image(image3)\n",
    "image3=cv2.bitwise_not(image3)\n",
    "cv2.imwrite(\"image3_cleaned.png\",image3)"
   ]
  },
  {
   "cell_type": "code",
   "execution_count": 107,
   "id": "31fb8a7e",
   "metadata": {},
   "outputs": [],
   "source": [
    "image3=cv2.imread(\"image3_cleaned.png\")\n",
    "image3=image3/255"
   ]
  },
  {
   "cell_type": "code",
   "execution_count": 108,
   "id": "18ba2b81",
   "metadata": {},
   "outputs": [
    {
     "data": {
      "text/plain": [
       "(256, 512, 3)"
      ]
     },
     "execution_count": 108,
     "metadata": {},
     "output_type": "execute_result"
    }
   ],
   "source": [
    "image3.shape"
   ]
  },
  {
   "cell_type": "code",
   "execution_count": 109,
   "id": "acf3b70d",
   "metadata": {},
   "outputs": [
    {
     "data": {
      "text/plain": [
       "(1, 256, 512, 3)"
      ]
     },
     "execution_count": 109,
     "metadata": {},
     "output_type": "execute_result"
    }
   ],
   "source": [
    "image3=np.reshape(image3,(1,256,512,3),order=\"c\")\n",
    "image3.shape"
   ]
  },
  {
   "cell_type": "code",
   "execution_count": 110,
   "id": "b6d7356b",
   "metadata": {},
   "outputs": [],
   "source": [
    "image3_result=model.predict(image3)"
   ]
  },
  {
   "cell_type": "code",
   "execution_count": 111,
   "id": "98ecfb81",
   "metadata": {},
   "outputs": [
    {
     "name": "stdout",
     "output_type": "stream",
     "text": [
      "[[3.0051641]]\n"
     ]
    }
   ],
   "source": [
    "print(image3_result)"
   ]
  },
  {
   "cell_type": "code",
   "execution_count": null,
   "id": "9fb7df38",
   "metadata": {},
   "outputs": [],
   "source": []
  }
 ],
 "metadata": {
  "kernelspec": {
   "display_name": "Python [conda env:gpu-env] *",
   "language": "python",
   "name": "conda-env-gpu-env-py"
  },
  "language_info": {
   "codemirror_mode": {
    "name": "ipython",
    "version": 3
   },
   "file_extension": ".py",
   "mimetype": "text/x-python",
   "name": "python",
   "nbconvert_exporter": "python",
   "pygments_lexer": "ipython3",
   "version": "3.8.11"
  }
 },
 "nbformat": 4,
 "nbformat_minor": 5
}
