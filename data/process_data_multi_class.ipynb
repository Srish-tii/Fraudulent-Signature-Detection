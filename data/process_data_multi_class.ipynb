{
 "cells": [
  {
   "cell_type": "code",
   "execution_count": 1,
   "id": "155b5a6b",
   "metadata": {},
   "outputs": [],
   "source": [
    "import os\n",
    "import cv2\n",
    "from CleanData import *"
   ]
  },
  {
   "cell_type": "code",
   "execution_count": 30,
   "id": "04fe4084",
   "metadata": {},
   "outputs": [
    {
     "name": "stdout",
     "output_type": "stream",
     "text": [
      "['001', '001_forg', '002', '002_forg', '003', '003_forg', '004', '004_forg', '006', '006_forg', '009', '009_forg', '012', '012_forg', '013', '013_forg', '014', '014_forg', '015', '015_forg', '016', '016_forg', '017', '017_forg', '018', '018_forg', '019', '019_forg', '020', '020_forg', '021', '021_forg', '022', '022_forg', '023', '023_forg', '024', '024_forg', '025', '025_forg', '026', '026_forg', '027', '027_forg', '028', '028_forg', '029', '029_forg', '030', '030_forg', '031', '031_forg', '032', '032_forg', '033', '033_forg', '034', '034_forg', '035', '035_forg', '036', '036_forg', '037', '037_forg', '038', '038_forg', '039', '039_forg', '040', '040_forg', '041', '041_forg', '042', '042_forg', '043', '043_forg', '044', '044_forg', '045', '045_forg', '046', '046_forg', '047', '047_forg', '048', '048_forg', '049', '049_forg', '050', '050_forg', '051', '051_forg', '052', '052_forg', '053', '053_forg', '054', '054_forg', '055', '055_forg', '056', '056_forg', '057', '057_forg', '058', '058_forg', '059', '059_forg', '060', '060_forg', '061', '061_forg', '062', '062_forg', '063', '063_forg', '064', '064_forg', '065', '065_forg', '066', '066_forg', '067', '067_forg', '068', '068_forg', '069', '069_forg']\n"
     ]
    }
   ],
   "source": [
    "all_images_dir = os.listdir(\"data_individual/train\")\n",
    "print((all_images_dir))"
   ]
  },
  {
   "cell_type": "code",
   "execution_count": 31,
   "id": "773a4c2a",
   "metadata": {},
   "outputs": [],
   "source": [
    "for dir_ in all_images_dir: \n",
    "    images_=os.listdir(\"data_individual/train/\"+dir_)\n",
    "    for images in images_:\n",
    "        image_name=images\n",
    "        resized_image=process_image(\"data_individual/train/\"+str(dir_)+\"/\"+images)\n",
    "        resized_image=cv2.bitwise_not(resized_image)\n",
    "#         print(resized_image)\n",
    "        cv2.imwrite((\"data_individual/train/\"+str(dir_)+\"/\"+image_name),resized_image)"
   ]
  },
  {
   "cell_type": "code",
   "execution_count": 23,
   "id": "5b16257b",
   "metadata": {},
   "outputs": [
    {
     "data": {
      "text/plain": [
       "'D:\\\\projects\\\\Personal\\\\Fraudulent-Signature-Detection\\\\data'"
      ]
     },
     "execution_count": 23,
     "metadata": {},
     "output_type": "execute_result"
    }
   ],
   "source": [
    "pwd"
   ]
  },
  {
   "cell_type": "code",
   "execution_count": null,
   "id": "ea25b64c",
   "metadata": {},
   "outputs": [],
   "source": []
  }
 ],
 "metadata": {
  "kernelspec": {
   "display_name": "Python [conda env:gpu-env] *",
   "language": "python",
   "name": "conda-env-gpu-env-py"
  },
  "language_info": {
   "codemirror_mode": {
    "name": "ipython",
    "version": 3
   },
   "file_extension": ".py",
   "mimetype": "text/x-python",
   "name": "python",
   "nbconvert_exporter": "python",
   "pygments_lexer": "ipython3",
   "version": "3.8.11"
  }
 },
 "nbformat": 4,
 "nbformat_minor": 5
}
